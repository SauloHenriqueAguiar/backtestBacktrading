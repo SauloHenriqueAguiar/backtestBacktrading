{
  "nbformat": 4,
  "nbformat_minor": 0,
  "metadata": {
    "colab": {
      "name": "daytradebitcoin.ipynb",
      "provenance": [],
      "authorship_tag": "ABX9TyNZimm2Yc0+YffGH5w7e72y",
      "include_colab_link": true
    },
    "kernelspec": {
      "name": "python3",
      "display_name": "Python 3"
    },
    "language_info": {
      "name": "python"
    }
  },
  "cells": [
    {
      "cell_type": "markdown",
      "metadata": {
        "id": "view-in-github",
        "colab_type": "text"
      },
      "source": [
        "<a href=\"https://colab.research.google.com/github/SauloHenriqueAguiar/backtestBacktrading/blob/main/daytradebitcoin.ipynb\" target=\"_parent\"><img src=\"https://colab.research.google.com/assets/colab-badge.svg\" alt=\"Open In Colab\"/></a>"
      ]
    },
    {
      "cell_type": "code",
      "metadata": {
        "colab": {
          "base_uri": "https://localhost:8080/"
        },
        "id": "H2wiuPFDtXs-",
        "outputId": "366053f5-d191-43b2-a2e9-05ecbe06f3f3"
      },
      "source": [
        "!pip install yahoo_fin\n"
      ],
      "execution_count": 1,
      "outputs": [
        {
          "output_type": "stream",
          "name": "stdout",
          "text": [
            "Collecting yahoo_fin\n",
            "  Downloading yahoo_fin-0.8.9.1-py3-none-any.whl (10 kB)\n",
            "Requirement already satisfied: pandas in /usr/local/lib/python3.7/dist-packages (from yahoo_fin) (1.1.5)\n",
            "Requirement already satisfied: requests in /usr/local/lib/python3.7/dist-packages (from yahoo_fin) (2.23.0)\n",
            "Collecting feedparser\n",
            "  Downloading feedparser-6.0.8-py3-none-any.whl (81 kB)\n",
            "\u001b[K     |████████████████████████████████| 81 kB 3.5 MB/s \n",
            "\u001b[?25hCollecting requests-html\n",
            "  Downloading requests_html-0.10.0-py3-none-any.whl (13 kB)\n",
            "Collecting sgmllib3k\n",
            "  Downloading sgmllib3k-1.0.0.tar.gz (5.8 kB)\n",
            "Requirement already satisfied: numpy>=1.15.4 in /usr/local/lib/python3.7/dist-packages (from pandas->yahoo_fin) (1.19.5)\n",
            "Requirement already satisfied: pytz>=2017.2 in /usr/local/lib/python3.7/dist-packages (from pandas->yahoo_fin) (2018.9)\n",
            "Requirement already satisfied: python-dateutil>=2.7.3 in /usr/local/lib/python3.7/dist-packages (from pandas->yahoo_fin) (2.8.2)\n",
            "Requirement already satisfied: six>=1.5 in /usr/local/lib/python3.7/dist-packages (from python-dateutil>=2.7.3->pandas->yahoo_fin) (1.15.0)\n",
            "Requirement already satisfied: urllib3!=1.25.0,!=1.25.1,<1.26,>=1.21.1 in /usr/local/lib/python3.7/dist-packages (from requests->yahoo_fin) (1.24.3)\n",
            "Requirement already satisfied: certifi>=2017.4.17 in /usr/local/lib/python3.7/dist-packages (from requests->yahoo_fin) (2021.10.8)\n",
            "Requirement already satisfied: chardet<4,>=3.0.2 in /usr/local/lib/python3.7/dist-packages (from requests->yahoo_fin) (3.0.4)\n",
            "Requirement already satisfied: idna<3,>=2.5 in /usr/local/lib/python3.7/dist-packages (from requests->yahoo_fin) (2.10)\n",
            "Collecting w3lib\n",
            "  Downloading w3lib-1.22.0-py2.py3-none-any.whl (20 kB)\n",
            "Collecting parse\n",
            "  Downloading parse-1.19.0.tar.gz (30 kB)\n",
            "Collecting pyppeteer>=0.0.14\n",
            "  Downloading pyppeteer-0.2.6-py3-none-any.whl (83 kB)\n",
            "\u001b[K     |████████████████████████████████| 83 kB 2.4 MB/s \n",
            "\u001b[?25hCollecting fake-useragent\n",
            "  Downloading fake-useragent-0.1.11.tar.gz (13 kB)\n",
            "Requirement already satisfied: bs4 in /usr/local/lib/python3.7/dist-packages (from requests-html->yahoo_fin) (0.0.1)\n",
            "Collecting pyquery\n",
            "  Downloading pyquery-1.4.3-py3-none-any.whl (22 kB)\n",
            "Requirement already satisfied: tqdm<5.0.0,>=4.42.1 in /usr/local/lib/python3.7/dist-packages (from pyppeteer>=0.0.14->requests-html->yahoo_fin) (4.62.3)\n",
            "Requirement already satisfied: appdirs<2.0.0,>=1.4.3 in /usr/local/lib/python3.7/dist-packages (from pyppeteer>=0.0.14->requests-html->yahoo_fin) (1.4.4)\n",
            "Collecting pyee<9.0.0,>=8.1.0\n",
            "  Downloading pyee-8.2.2-py2.py3-none-any.whl (12 kB)\n",
            "Collecting urllib3!=1.25.0,!=1.25.1,<1.26,>=1.21.1\n",
            "  Downloading urllib3-1.25.11-py2.py3-none-any.whl (127 kB)\n",
            "\u001b[K     |████████████████████████████████| 127 kB 51.7 MB/s \n",
            "\u001b[?25hCollecting websockets<10.0,>=9.1\n",
            "  Downloading websockets-9.1-cp37-cp37m-manylinux2010_x86_64.whl (103 kB)\n",
            "\u001b[K     |████████████████████████████████| 103 kB 44.3 MB/s \n",
            "\u001b[?25hRequirement already satisfied: importlib-metadata>=1.4 in /usr/local/lib/python3.7/dist-packages (from pyppeteer>=0.0.14->requests-html->yahoo_fin) (4.8.2)\n",
            "Requirement already satisfied: zipp>=0.5 in /usr/local/lib/python3.7/dist-packages (from importlib-metadata>=1.4->pyppeteer>=0.0.14->requests-html->yahoo_fin) (3.6.0)\n",
            "Requirement already satisfied: typing-extensions>=3.6.4 in /usr/local/lib/python3.7/dist-packages (from importlib-metadata>=1.4->pyppeteer>=0.0.14->requests-html->yahoo_fin) (3.10.0.2)\n",
            "Requirement already satisfied: beautifulsoup4 in /usr/local/lib/python3.7/dist-packages (from bs4->requests-html->yahoo_fin) (4.6.3)\n",
            "Collecting cssselect>0.7.9\n",
            "  Downloading cssselect-1.1.0-py2.py3-none-any.whl (16 kB)\n",
            "Requirement already satisfied: lxml>=2.1 in /usr/local/lib/python3.7/dist-packages (from pyquery->requests-html->yahoo_fin) (4.2.6)\n",
            "Building wheels for collected packages: fake-useragent, parse, sgmllib3k\n",
            "  Building wheel for fake-useragent (setup.py) ... \u001b[?25l\u001b[?25hdone\n",
            "  Created wheel for fake-useragent: filename=fake_useragent-0.1.11-py3-none-any.whl size=13502 sha256=5644fbbadeeeedbb641ed3af0146d7398ffb7cba8e5dfa1b5a6d9f0d3e874159\n",
            "  Stored in directory: /root/.cache/pip/wheels/ed/f7/62/50ab6c9a0b5567267ab76a9daa9d06315704209b2c5d032031\n",
            "  Building wheel for parse (setup.py) ... \u001b[?25l\u001b[?25hdone\n",
            "  Created wheel for parse: filename=parse-1.19.0-py3-none-any.whl size=24591 sha256=a901fba0a497837c778b54fb092193cbc67505f981cde26390fddfbc6b25ffda\n",
            "  Stored in directory: /root/.cache/pip/wheels/9c/aa/cc/f2228050ccb40f22144b073f15a2c84f11204f29fc0dce028e\n",
            "  Building wheel for sgmllib3k (setup.py) ... \u001b[?25l\u001b[?25hdone\n",
            "  Created wheel for sgmllib3k: filename=sgmllib3k-1.0.0-py3-none-any.whl size=6065 sha256=8fb76897fe170d21808a350377211b031e509a02142c665ccc710b87f2a4548c\n",
            "  Stored in directory: /root/.cache/pip/wheels/73/ad/a4/0dff4a6ef231fc0dfa12ffbac2a36cebfdddfe059f50e019aa\n",
            "Successfully built fake-useragent parse sgmllib3k\n",
            "Installing collected packages: websockets, urllib3, pyee, cssselect, w3lib, sgmllib3k, pyquery, pyppeteer, parse, fake-useragent, requests-html, feedparser, yahoo-fin\n",
            "  Attempting uninstall: urllib3\n",
            "    Found existing installation: urllib3 1.24.3\n",
            "    Uninstalling urllib3-1.24.3:\n",
            "      Successfully uninstalled urllib3-1.24.3\n",
            "\u001b[31mERROR: pip's dependency resolver does not currently take into account all the packages that are installed. This behaviour is the source of the following dependency conflicts.\n",
            "datascience 0.10.6 requires folium==0.2.1, but you have folium 0.8.3 which is incompatible.\u001b[0m\n",
            "Successfully installed cssselect-1.1.0 fake-useragent-0.1.11 feedparser-6.0.8 parse-1.19.0 pyee-8.2.2 pyppeteer-0.2.6 pyquery-1.4.3 requests-html-0.10.0 sgmllib3k-1.0.0 urllib3-1.25.11 w3lib-1.22.0 websockets-9.1 yahoo-fin-0.8.9.1\n"
          ]
        }
      ]
    },
    {
      "cell_type": "code",
      "metadata": {
        "colab": {
          "base_uri": "https://localhost:8080/"
        },
        "id": "MZdazL8ltiU0",
        "outputId": "6ee8978d-b20a-45ed-ac53-4f1e15f818e6"
      },
      "source": [
        "#instala biblioteca yfinance\n",
        "!pip install yfinance --upgrade --no-cache-dir"
      ],
      "execution_count": 2,
      "outputs": [
        {
          "output_type": "stream",
          "name": "stdout",
          "text": [
            "Collecting yfinance\n",
            "  Downloading yfinance-0.1.64.tar.gz (26 kB)\n",
            "Requirement already satisfied: pandas>=0.24 in /usr/local/lib/python3.7/dist-packages (from yfinance) (1.1.5)\n",
            "Requirement already satisfied: numpy>=1.15 in /usr/local/lib/python3.7/dist-packages (from yfinance) (1.19.5)\n",
            "Requirement already satisfied: requests>=2.20 in /usr/local/lib/python3.7/dist-packages (from yfinance) (2.23.0)\n",
            "Requirement already satisfied: multitasking>=0.0.7 in /usr/local/lib/python3.7/dist-packages (from yfinance) (0.0.9)\n",
            "Collecting lxml>=4.5.1\n",
            "  Downloading lxml-4.6.4-cp37-cp37m-manylinux_2_17_x86_64.manylinux2014_x86_64.manylinux_2_24_x86_64.whl (6.3 MB)\n",
            "\u001b[K     |████████████████████████████████| 6.3 MB 8.0 MB/s \n",
            "\u001b[?25hRequirement already satisfied: python-dateutil>=2.7.3 in /usr/local/lib/python3.7/dist-packages (from pandas>=0.24->yfinance) (2.8.2)\n",
            "Requirement already satisfied: pytz>=2017.2 in /usr/local/lib/python3.7/dist-packages (from pandas>=0.24->yfinance) (2018.9)\n",
            "Requirement already satisfied: six>=1.5 in /usr/local/lib/python3.7/dist-packages (from python-dateutil>=2.7.3->pandas>=0.24->yfinance) (1.15.0)\n",
            "Requirement already satisfied: chardet<4,>=3.0.2 in /usr/local/lib/python3.7/dist-packages (from requests>=2.20->yfinance) (3.0.4)\n",
            "Requirement already satisfied: idna<3,>=2.5 in /usr/local/lib/python3.7/dist-packages (from requests>=2.20->yfinance) (2.10)\n",
            "Requirement already satisfied: urllib3!=1.25.0,!=1.25.1,<1.26,>=1.21.1 in /usr/local/lib/python3.7/dist-packages (from requests>=2.20->yfinance) (1.25.11)\n",
            "Requirement already satisfied: certifi>=2017.4.17 in /usr/local/lib/python3.7/dist-packages (from requests>=2.20->yfinance) (2021.10.8)\n",
            "Building wheels for collected packages: yfinance\n",
            "  Building wheel for yfinance (setup.py) ... \u001b[?25l\u001b[?25hdone\n",
            "  Created wheel for yfinance: filename=yfinance-0.1.64-py2.py3-none-any.whl size=24109 sha256=71c7acbaa94fb296912167b42aa49438e8a71b03e93fefe3d824304fac32fd94\n",
            "  Stored in directory: /tmp/pip-ephem-wheel-cache-qqdbp1nf/wheels/86/fe/9b/a4d3d78796b699e37065e5b6c27b75cff448ddb8b24943c288\n",
            "Successfully built yfinance\n",
            "Installing collected packages: lxml, yfinance\n",
            "  Attempting uninstall: lxml\n",
            "    Found existing installation: lxml 4.2.6\n",
            "    Uninstalling lxml-4.2.6:\n",
            "      Successfully uninstalled lxml-4.2.6\n",
            "Successfully installed lxml-4.6.4 yfinance-0.1.64\n"
          ]
        }
      ]
    },
    {
      "cell_type": "code",
      "metadata": {
        "colab": {
          "base_uri": "https://localhost:8080/"
        },
        "id": "nQRxHbp7tm1M",
        "outputId": "6a8f0531-8489-4672-d216-69102041dcd5"
      },
      "source": [
        "#instala request\n",
        "!pip install requests_html"
      ],
      "execution_count": 3,
      "outputs": [
        {
          "output_type": "stream",
          "name": "stdout",
          "text": [
            "Requirement already satisfied: requests_html in /usr/local/lib/python3.7/dist-packages (0.10.0)\n",
            "Requirement already satisfied: requests in /usr/local/lib/python3.7/dist-packages (from requests_html) (2.23.0)\n",
            "Requirement already satisfied: pyquery in /usr/local/lib/python3.7/dist-packages (from requests_html) (1.4.3)\n",
            "Requirement already satisfied: pyppeteer>=0.0.14 in /usr/local/lib/python3.7/dist-packages (from requests_html) (0.2.6)\n",
            "Requirement already satisfied: bs4 in /usr/local/lib/python3.7/dist-packages (from requests_html) (0.0.1)\n",
            "Requirement already satisfied: fake-useragent in /usr/local/lib/python3.7/dist-packages (from requests_html) (0.1.11)\n",
            "Requirement already satisfied: parse in /usr/local/lib/python3.7/dist-packages (from requests_html) (1.19.0)\n",
            "Requirement already satisfied: w3lib in /usr/local/lib/python3.7/dist-packages (from requests_html) (1.22.0)\n",
            "Requirement already satisfied: urllib3<2.0.0,>=1.25.8 in /usr/local/lib/python3.7/dist-packages (from pyppeteer>=0.0.14->requests_html) (1.25.11)\n",
            "Requirement already satisfied: appdirs<2.0.0,>=1.4.3 in /usr/local/lib/python3.7/dist-packages (from pyppeteer>=0.0.14->requests_html) (1.4.4)\n",
            "Requirement already satisfied: pyee<9.0.0,>=8.1.0 in /usr/local/lib/python3.7/dist-packages (from pyppeteer>=0.0.14->requests_html) (8.2.2)\n",
            "Requirement already satisfied: websockets<10.0,>=9.1 in /usr/local/lib/python3.7/dist-packages (from pyppeteer>=0.0.14->requests_html) (9.1)\n",
            "Requirement already satisfied: tqdm<5.0.0,>=4.42.1 in /usr/local/lib/python3.7/dist-packages (from pyppeteer>=0.0.14->requests_html) (4.62.3)\n",
            "Requirement already satisfied: importlib-metadata>=1.4 in /usr/local/lib/python3.7/dist-packages (from pyppeteer>=0.0.14->requests_html) (4.8.2)\n",
            "Requirement already satisfied: zipp>=0.5 in /usr/local/lib/python3.7/dist-packages (from importlib-metadata>=1.4->pyppeteer>=0.0.14->requests_html) (3.6.0)\n",
            "Requirement already satisfied: typing-extensions>=3.6.4 in /usr/local/lib/python3.7/dist-packages (from importlib-metadata>=1.4->pyppeteer>=0.0.14->requests_html) (3.10.0.2)\n",
            "Requirement already satisfied: beautifulsoup4 in /usr/local/lib/python3.7/dist-packages (from bs4->requests_html) (4.6.3)\n",
            "Requirement already satisfied: lxml>=2.1 in /usr/local/lib/python3.7/dist-packages (from pyquery->requests_html) (4.6.4)\n",
            "Requirement already satisfied: cssselect>0.7.9 in /usr/local/lib/python3.7/dist-packages (from pyquery->requests_html) (1.1.0)\n",
            "Requirement already satisfied: idna<3,>=2.5 in /usr/local/lib/python3.7/dist-packages (from requests->requests_html) (2.10)\n",
            "Requirement already satisfied: certifi>=2017.4.17 in /usr/local/lib/python3.7/dist-packages (from requests->requests_html) (2021.10.8)\n",
            "Requirement already satisfied: chardet<4,>=3.0.2 in /usr/local/lib/python3.7/dist-packages (from requests->requests_html) (3.0.4)\n",
            "Requirement already satisfied: six>=1.4.1 in /usr/local/lib/python3.7/dist-packages (from w3lib->requests_html) (1.15.0)\n"
          ]
        }
      ]
    },
    {
      "cell_type": "code",
      "metadata": {
        "colab": {
          "base_uri": "https://localhost:8080/"
        },
        "id": "VsAkOe8EtscU",
        "outputId": "ef0deb0d-8940-426d-c274-9fffc5e3962d"
      },
      "source": [
        "# Instalar Backtrader\n",
        "!pip install backtrader"
      ],
      "execution_count": 4,
      "outputs": [
        {
          "output_type": "stream",
          "name": "stdout",
          "text": [
            "Collecting backtrader\n",
            "  Downloading backtrader-1.9.76.123-py2.py3-none-any.whl (410 kB)\n",
            "\u001b[?25l\r\u001b[K     |▉                               | 10 kB 24.5 MB/s eta 0:00:01\r\u001b[K     |█▋                              | 20 kB 29.3 MB/s eta 0:00:01\r\u001b[K     |██▍                             | 30 kB 13.1 MB/s eta 0:00:01\r\u001b[K     |███▏                            | 40 kB 9.9 MB/s eta 0:00:01\r\u001b[K     |████                            | 51 kB 5.4 MB/s eta 0:00:01\r\u001b[K     |████▉                           | 61 kB 6.0 MB/s eta 0:00:01\r\u001b[K     |█████▋                          | 71 kB 5.7 MB/s eta 0:00:01\r\u001b[K     |██████▍                         | 81 kB 6.4 MB/s eta 0:00:01\r\u001b[K     |███████▏                        | 92 kB 4.9 MB/s eta 0:00:01\r\u001b[K     |████████                        | 102 kB 5.3 MB/s eta 0:00:01\r\u001b[K     |████████▉                       | 112 kB 5.3 MB/s eta 0:00:01\r\u001b[K     |█████████▋                      | 122 kB 5.3 MB/s eta 0:00:01\r\u001b[K     |██████████▍                     | 133 kB 5.3 MB/s eta 0:00:01\r\u001b[K     |███████████▏                    | 143 kB 5.3 MB/s eta 0:00:01\r\u001b[K     |████████████                    | 153 kB 5.3 MB/s eta 0:00:01\r\u001b[K     |████████████▉                   | 163 kB 5.3 MB/s eta 0:00:01\r\u001b[K     |█████████████▋                  | 174 kB 5.3 MB/s eta 0:00:01\r\u001b[K     |██████████████▍                 | 184 kB 5.3 MB/s eta 0:00:01\r\u001b[K     |███████████████▏                | 194 kB 5.3 MB/s eta 0:00:01\r\u001b[K     |████████████████                | 204 kB 5.3 MB/s eta 0:00:01\r\u001b[K     |████████████████▉               | 215 kB 5.3 MB/s eta 0:00:01\r\u001b[K     |█████████████████▋              | 225 kB 5.3 MB/s eta 0:00:01\r\u001b[K     |██████████████████▍             | 235 kB 5.3 MB/s eta 0:00:01\r\u001b[K     |███████████████████▏            | 245 kB 5.3 MB/s eta 0:00:01\r\u001b[K     |████████████████████            | 256 kB 5.3 MB/s eta 0:00:01\r\u001b[K     |████████████████████▊           | 266 kB 5.3 MB/s eta 0:00:01\r\u001b[K     |█████████████████████▋          | 276 kB 5.3 MB/s eta 0:00:01\r\u001b[K     |██████████████████████▍         | 286 kB 5.3 MB/s eta 0:00:01\r\u001b[K     |███████████████████████▏        | 296 kB 5.3 MB/s eta 0:00:01\r\u001b[K     |████████████████████████        | 307 kB 5.3 MB/s eta 0:00:01\r\u001b[K     |████████████████████████▊       | 317 kB 5.3 MB/s eta 0:00:01\r\u001b[K     |█████████████████████████▋      | 327 kB 5.3 MB/s eta 0:00:01\r\u001b[K     |██████████████████████████▍     | 337 kB 5.3 MB/s eta 0:00:01\r\u001b[K     |███████████████████████████▏    | 348 kB 5.3 MB/s eta 0:00:01\r\u001b[K     |████████████████████████████    | 358 kB 5.3 MB/s eta 0:00:01\r\u001b[K     |████████████████████████████▊   | 368 kB 5.3 MB/s eta 0:00:01\r\u001b[K     |█████████████████████████████▋  | 378 kB 5.3 MB/s eta 0:00:01\r\u001b[K     |██████████████████████████████▍ | 389 kB 5.3 MB/s eta 0:00:01\r\u001b[K     |███████████████████████████████▏| 399 kB 5.3 MB/s eta 0:00:01\r\u001b[K     |████████████████████████████████| 409 kB 5.3 MB/s eta 0:00:01\r\u001b[K     |████████████████████████████████| 410 kB 5.3 MB/s \n",
            "\u001b[?25hInstalling collected packages: backtrader\n",
            "Successfully installed backtrader-1.9.76.123\n"
          ]
        }
      ]
    },
    {
      "cell_type": "code",
      "metadata": {
        "colab": {
          "base_uri": "https://localhost:8080/"
        },
        "id": "eLG0XB8ltuWa",
        "outputId": "7e6f4741-5eac-42e3-d7b1-708dd6e96d8e"
      },
      "source": [
        "!pip install backtrader[plotting]\n"
      ],
      "execution_count": 5,
      "outputs": [
        {
          "output_type": "stream",
          "name": "stdout",
          "text": [
            "Requirement already satisfied: backtrader[plotting] in /usr/local/lib/python3.7/dist-packages (1.9.76.123)\n",
            "Requirement already satisfied: matplotlib in /usr/local/lib/python3.7/dist-packages (from backtrader[plotting]) (3.2.2)\n",
            "Requirement already satisfied: numpy>=1.11 in /usr/local/lib/python3.7/dist-packages (from matplotlib->backtrader[plotting]) (1.19.5)\n",
            "Requirement already satisfied: pyparsing!=2.0.4,!=2.1.2,!=2.1.6,>=2.0.1 in /usr/local/lib/python3.7/dist-packages (from matplotlib->backtrader[plotting]) (2.4.7)\n",
            "Requirement already satisfied: python-dateutil>=2.1 in /usr/local/lib/python3.7/dist-packages (from matplotlib->backtrader[plotting]) (2.8.2)\n",
            "Requirement already satisfied: kiwisolver>=1.0.1 in /usr/local/lib/python3.7/dist-packages (from matplotlib->backtrader[plotting]) (1.3.2)\n",
            "Requirement already satisfied: cycler>=0.10 in /usr/local/lib/python3.7/dist-packages (from matplotlib->backtrader[plotting]) (0.11.0)\n",
            "Requirement already satisfied: six>=1.5 in /usr/local/lib/python3.7/dist-packages (from python-dateutil>=2.1->matplotlib->backtrader[plotting]) (1.15.0)\n"
          ]
        }
      ]
    },
    {
      "cell_type": "code",
      "metadata": {
        "id": "jFqz3DCrtwlQ"
      },
      "source": [
        "# Obtenha os pacotes necessários\n",
        "\n",
        "from datetime import datetime\n",
        "import backtrader as bt\n",
        "from IPython.display import display, Image\n",
        "import yfinance as yf\n",
        "import backtrader.analyzers as btanalyzers\n",
        "import backtrader.feeds as btfeeds\n",
        "import backtrader.strategies as btstrats\n",
        "import os\n",
        "import sys"
      ],
      "execution_count": 6,
      "outputs": []
    },
    {
      "cell_type": "code",
      "metadata": {
        "colab": {
          "base_uri": "https://localhost:8080/",
          "height": 419
        },
        "id": "PWoZ_-3pty1h",
        "outputId": "dd21bd44-ea57-4eb2-c825-d8cf3eedfac2"
      },
      "source": [
        "from yahoo_fin.stock_info import get_data\n",
        "data = get_data(\"BTC-USD\", start_date=\"05/15/2021\", end_date=\"11/11/2021\", index_as_date = True, interval=\"1d\")\n",
        "data"
      ],
      "execution_count": 32,
      "outputs": [
        {
          "output_type": "execute_result",
          "data": {
            "text/html": [
              "<div>\n",
              "<style scoped>\n",
              "    .dataframe tbody tr th:only-of-type {\n",
              "        vertical-align: middle;\n",
              "    }\n",
              "\n",
              "    .dataframe tbody tr th {\n",
              "        vertical-align: top;\n",
              "    }\n",
              "\n",
              "    .dataframe thead th {\n",
              "        text-align: right;\n",
              "    }\n",
              "</style>\n",
              "<table border=\"1\" class=\"dataframe\">\n",
              "  <thead>\n",
              "    <tr style=\"text-align: right;\">\n",
              "      <th></th>\n",
              "      <th>open</th>\n",
              "      <th>high</th>\n",
              "      <th>low</th>\n",
              "      <th>close</th>\n",
              "      <th>adjclose</th>\n",
              "      <th>volume</th>\n",
              "      <th>ticker</th>\n",
              "    </tr>\n",
              "  </thead>\n",
              "  <tbody>\n",
              "    <tr>\n",
              "      <th>2021-05-14</th>\n",
              "      <td>49855.496094</td>\n",
              "      <td>50639.664062</td>\n",
              "      <td>46664.140625</td>\n",
              "      <td>46760.187500</td>\n",
              "      <td>46760.187500</td>\n",
              "      <td>59161047474</td>\n",
              "      <td>BTC-USD</td>\n",
              "    </tr>\n",
              "    <tr>\n",
              "      <th>2021-05-15</th>\n",
              "      <td>46716.636719</td>\n",
              "      <td>49720.042969</td>\n",
              "      <td>43963.351562</td>\n",
              "      <td>46456.058594</td>\n",
              "      <td>46456.058594</td>\n",
              "      <td>64047871555</td>\n",
              "      <td>BTC-USD</td>\n",
              "    </tr>\n",
              "    <tr>\n",
              "      <th>2021-05-16</th>\n",
              "      <td>46415.898438</td>\n",
              "      <td>46623.558594</td>\n",
              "      <td>42207.289062</td>\n",
              "      <td>43537.511719</td>\n",
              "      <td>43537.511719</td>\n",
              "      <td>74903638450</td>\n",
              "      <td>BTC-USD</td>\n",
              "    </tr>\n",
              "    <tr>\n",
              "      <th>2021-05-17</th>\n",
              "      <td>43488.058594</td>\n",
              "      <td>45812.457031</td>\n",
              "      <td>42367.832031</td>\n",
              "      <td>42909.402344</td>\n",
              "      <td>42909.402344</td>\n",
              "      <td>56187365084</td>\n",
              "      <td>BTC-USD</td>\n",
              "    </tr>\n",
              "    <tr>\n",
              "      <th>2021-05-18</th>\n",
              "      <td>42944.976562</td>\n",
              "      <td>43546.117188</td>\n",
              "      <td>30681.496094</td>\n",
              "      <td>37002.441406</td>\n",
              "      <td>37002.441406</td>\n",
              "      <td>126358098747</td>\n",
              "      <td>BTC-USD</td>\n",
              "    </tr>\n",
              "    <tr>\n",
              "      <th>...</th>\n",
              "      <td>...</td>\n",
              "      <td>...</td>\n",
              "      <td>...</td>\n",
              "      <td>...</td>\n",
              "      <td>...</td>\n",
              "      <td>...</td>\n",
              "      <td>...</td>\n",
              "    </tr>\n",
              "    <tr>\n",
              "      <th>2021-11-07</th>\n",
              "      <td>61554.921875</td>\n",
              "      <td>63326.988281</td>\n",
              "      <td>61432.488281</td>\n",
              "      <td>63326.988281</td>\n",
              "      <td>63326.988281</td>\n",
              "      <td>24726754302</td>\n",
              "      <td>BTC-USD</td>\n",
              "    </tr>\n",
              "    <tr>\n",
              "      <th>2021-11-08</th>\n",
              "      <td>63344.066406</td>\n",
              "      <td>67673.742188</td>\n",
              "      <td>63344.066406</td>\n",
              "      <td>67566.828125</td>\n",
              "      <td>67566.828125</td>\n",
              "      <td>41125608330</td>\n",
              "      <td>BTC-USD</td>\n",
              "    </tr>\n",
              "    <tr>\n",
              "      <th>2021-11-09</th>\n",
              "      <td>67549.734375</td>\n",
              "      <td>68530.335938</td>\n",
              "      <td>66382.062500</td>\n",
              "      <td>66971.828125</td>\n",
              "      <td>66971.828125</td>\n",
              "      <td>42357991721</td>\n",
              "      <td>BTC-USD</td>\n",
              "    </tr>\n",
              "    <tr>\n",
              "      <th>2021-11-10</th>\n",
              "      <td>66953.335938</td>\n",
              "      <td>68789.625000</td>\n",
              "      <td>63208.113281</td>\n",
              "      <td>64995.230469</td>\n",
              "      <td>64995.230469</td>\n",
              "      <td>48730828378</td>\n",
              "      <td>BTC-USD</td>\n",
              "    </tr>\n",
              "    <tr>\n",
              "      <th>2021-11-11</th>\n",
              "      <td>64636.902344</td>\n",
              "      <td>65516.523438</td>\n",
              "      <td>64234.160156</td>\n",
              "      <td>65036.050781</td>\n",
              "      <td>65036.050781</td>\n",
              "      <td>43578404864</td>\n",
              "      <td>BTC-USD</td>\n",
              "    </tr>\n",
              "  </tbody>\n",
              "</table>\n",
              "<p>181 rows × 7 columns</p>\n",
              "</div>"
            ],
            "text/plain": [
              "                    open          high  ...        volume   ticker\n",
              "2021-05-14  49855.496094  50639.664062  ...   59161047474  BTC-USD\n",
              "2021-05-15  46716.636719  49720.042969  ...   64047871555  BTC-USD\n",
              "2021-05-16  46415.898438  46623.558594  ...   74903638450  BTC-USD\n",
              "2021-05-17  43488.058594  45812.457031  ...   56187365084  BTC-USD\n",
              "2021-05-18  42944.976562  43546.117188  ...  126358098747  BTC-USD\n",
              "...                  ...           ...  ...           ...      ...\n",
              "2021-11-07  61554.921875  63326.988281  ...   24726754302  BTC-USD\n",
              "2021-11-08  63344.066406  67673.742188  ...   41125608330  BTC-USD\n",
              "2021-11-09  67549.734375  68530.335938  ...   42357991721  BTC-USD\n",
              "2021-11-10  66953.335938  68789.625000  ...   48730828378  BTC-USD\n",
              "2021-11-11  64636.902344  65516.523438  ...   43578404864  BTC-USD\n",
              "\n",
              "[181 rows x 7 columns]"
            ]
          },
          "metadata": {},
          "execution_count": 32
        }
      ]
    },
    {
      "cell_type": "code",
      "metadata": {
        "id": "I6yvFffVuBc0"
      },
      "source": [
        "data.to_csv('/content/bitcoin.csv')\n"
      ],
      "execution_count": 33,
      "outputs": []
    },
    {
      "cell_type": "code",
      "metadata": {
        "id": "ChKB1XLSuFAs"
      },
      "source": [
        "from  __future__  import  ( absolute_import ,  division ,  print_function , \n",
        "                        unicode_literals ) \n",
        "\n",
        "import  datetime   # Para objetos datetime \n",
        "import  os.path   # Para gerenciar caminhos \n",
        "import  sys   # Para descobrir o nome do script (em argv [0])"
      ],
      "execution_count": 34,
      "outputs": []
    },
    {
      "cell_type": "code",
      "metadata": {
        "id": "wzmKPiSiuH5m"
      },
      "source": [
        "# Cria a  estrategia\n",
        "class TestStrategy(bt.Strategy):\n",
        "\n",
        "    def log(self, csv, dt=None):\n",
        "        ''' Logging function fot this strategy'''\n",
        "        dt = dt or self.datas[0].datetime.date(0)\n",
        "        print('%s, %s' % (dt.isoformat(), csv))\n",
        "\n",
        "    def __init__(self):\n",
        "        # Mantenha uma referência à linha \"fechar\" na série de dados data [0]\n",
        "        self.dataclose = self.datas[0].close\n",
        "\n",
        "    def next(self):\n",
        "        # Basta registrar o preço de fechamento da série da referência\n",
        "        self.log('FECHAR, %.2f' % self.dataclose[0])\n",
        "\n",
        "        if self.dataclose[0] < self.dataclose[-1]:\n",
        "            # fechamento atual menor que fechamento anterior\n",
        "\n",
        "            if self.dataclose[-1] < self.dataclose[-2]:\n",
        "                # fechamento anterior menor que o fechamento anterior\n",
        "\n",
        "                # COMPRE, COMPRE, COMPRE !!! (com todos os parâmetros padrão possíveis)\n",
        "                self.log('CRIAR COMPRA, %.2f' % self.dataclose[0])\n",
        "                self.buy()"
      ],
      "execution_count": 35,
      "outputs": []
    },
    {
      "cell_type": "code",
      "metadata": {
        "id": "p86L3EsvuKOy"
      },
      "source": [
        "if __name__ == '__main__':\n",
        "    # Create a cerebro entity\n",
        "    cerebro = bt.Cerebro()"
      ],
      "execution_count": 36,
      "outputs": []
    },
    {
      "cell_type": "code",
      "metadata": {
        "colab": {
          "base_uri": "https://localhost:8080/"
        },
        "id": "DKyhOndfuMAs",
        "outputId": "1a044a68-56dd-4745-b348-536f2866f52e"
      },
      "source": [
        "# Add a strategy\n",
        "cerebro.addstrategy(TestStrategy)"
      ],
      "execution_count": 37,
      "outputs": [
        {
          "output_type": "execute_result",
          "data": {
            "text/plain": [
              "0"
            ]
          },
          "metadata": {},
          "execution_count": 37
        }
      ]
    },
    {
      "cell_type": "code",
      "metadata": {
        "id": "L5UIfj5NuOMt"
      },
      "source": [
        "# Datas are in a subfolder of the samples. Need to find where the script is\n",
        "    # because it could have been called from anywhere\n",
        "modpath = os.path.dirname(os.path.abspath(sys.argv[0]))\n",
        "datapath = os.path.join(modpath, '/content/bitcoin.csv')"
      ],
      "execution_count": 38,
      "outputs": []
    },
    {
      "cell_type": "code",
      "metadata": {
        "id": "1Y2xRYXIuQWu"
      },
      "source": [
        "# Create a Data Feed\n",
        "data = bt.feeds.YahooFinanceCSVData(\n",
        "        dataname=datapath,\n",
        "              reverse=False)"
      ],
      "execution_count": 39,
      "outputs": []
    },
    {
      "cell_type": "code",
      "metadata": {
        "colab": {
          "base_uri": "https://localhost:8080/"
        },
        "id": "wcw-GW4xuSr_",
        "outputId": "313acb24-7aff-4637-81a5-566e086d23bc"
      },
      "source": [
        "# Add the Data Feed to Cerebro\n",
        "cerebro.adddata(data)"
      ],
      "execution_count": 40,
      "outputs": [
        {
          "output_type": "execute_result",
          "data": {
            "text/plain": [
              "<backtrader.feeds.yahoo.YahooFinanceCSVData at 0x7fc9a8e69ad0>"
            ]
          },
          "metadata": {},
          "execution_count": 40
        }
      ]
    },
    {
      "cell_type": "code",
      "metadata": {
        "colab": {
          "base_uri": "https://localhost:8080/"
        },
        "id": "4Vi8d_9kuVfI",
        "outputId": "53e6f58e-7017-4d84-e19e-a54d198524b2"
      },
      "source": [
        "# Set our desired cash start\n",
        "cerebro.broker.setcash(100000.0)\n",
        "# Print out the starting conditions\n",
        "print('Valor Inicial do Portfólio: %.2f' % cerebro.broker.getvalue())"
      ],
      "execution_count": 41,
      "outputs": [
        {
          "output_type": "stream",
          "name": "stdout",
          "text": [
            "Valor Inicial do Portfólio: 100000.00\n"
          ]
        }
      ]
    },
    {
      "cell_type": "code",
      "metadata": {
        "colab": {
          "base_uri": "https://localhost:8080/"
        },
        "id": "t4fZNpd_uYVy",
        "outputId": "4521dddd-7cee-4bfb-d15d-56793e7a6a98"
      },
      "source": [
        "# Rodando cerebro\n",
        "cerebro.run()"
      ],
      "execution_count": 42,
      "outputs": [
        {
          "output_type": "stream",
          "name": "stdout",
          "text": [
            "2021-05-14, FECHAR, 46760.19\n",
            "2021-05-15, FECHAR, 46456.06\n",
            "2021-05-15, CRIAR COMPRA, 46456.06\n",
            "2021-05-16, FECHAR, 43537.51\n",
            "2021-05-16, CRIAR COMPRA, 43537.51\n",
            "2021-05-17, FECHAR, 42909.40\n",
            "2021-05-17, CRIAR COMPRA, 42909.40\n",
            "2021-05-18, FECHAR, 37002.44\n",
            "2021-05-18, CRIAR COMPRA, 37002.44\n",
            "2021-05-19, FECHAR, 40782.74\n",
            "2021-05-20, FECHAR, 37304.69\n",
            "2021-05-21, FECHAR, 37536.63\n",
            "2021-05-22, FECHAR, 34770.58\n",
            "2021-05-23, FECHAR, 38705.98\n",
            "2021-05-24, FECHAR, 38402.22\n",
            "2021-05-25, FECHAR, 39294.20\n",
            "2021-05-26, FECHAR, 38436.97\n",
            "2021-05-27, FECHAR, 35697.61\n",
            "2021-05-27, CRIAR COMPRA, 35697.61\n",
            "2021-05-28, FECHAR, 34616.07\n",
            "2021-05-28, CRIAR COMPRA, 34616.07\n",
            "2021-05-29, FECHAR, 35678.13\n",
            "2021-05-30, FECHAR, 37332.86\n",
            "2021-05-31, FECHAR, 36684.93\n",
            "2021-06-01, FECHAR, 37575.18\n",
            "2021-06-02, FECHAR, 39208.77\n",
            "2021-06-03, FECHAR, 36894.41\n",
            "2021-06-04, FECHAR, 35551.96\n",
            "2021-06-04, CRIAR COMPRA, 35551.96\n",
            "2021-06-05, FECHAR, 35862.38\n",
            "2021-06-06, FECHAR, 33560.71\n",
            "2021-06-07, FECHAR, 33472.63\n",
            "2021-06-07, CRIAR COMPRA, 33472.63\n",
            "2021-06-08, FECHAR, 37345.12\n",
            "2021-06-09, FECHAR, 36702.60\n",
            "2021-06-10, FECHAR, 37334.40\n",
            "2021-06-11, FECHAR, 35552.52\n",
            "2021-06-12, FECHAR, 39097.86\n",
            "2021-06-13, FECHAR, 40218.48\n",
            "2021-06-14, FECHAR, 40406.27\n",
            "2021-06-15, FECHAR, 38347.06\n",
            "2021-06-16, FECHAR, 38053.50\n",
            "2021-06-16, CRIAR COMPRA, 38053.50\n",
            "2021-06-17, FECHAR, 35787.25\n",
            "2021-06-17, CRIAR COMPRA, 35787.25\n",
            "2021-06-18, FECHAR, 35615.87\n",
            "2021-06-18, CRIAR COMPRA, 35615.87\n",
            "2021-06-19, FECHAR, 35698.30\n",
            "2021-06-20, FECHAR, 31676.69\n",
            "2021-06-21, FECHAR, 32505.66\n",
            "2021-06-22, FECHAR, 33723.03\n",
            "2021-06-23, FECHAR, 34662.44\n",
            "2021-06-24, FECHAR, 31637.78\n",
            "2021-06-25, FECHAR, 32186.28\n",
            "2021-06-26, FECHAR, 34649.64\n",
            "2021-06-27, FECHAR, 34434.34\n",
            "2021-06-28, FECHAR, 35867.78\n",
            "2021-06-29, FECHAR, 35040.84\n",
            "2021-06-30, FECHAR, 33572.12\n",
            "2021-06-30, CRIAR COMPRA, 33572.12\n",
            "2021-07-01, FECHAR, 33897.05\n",
            "2021-07-02, FECHAR, 34668.55\n",
            "2021-07-03, FECHAR, 35287.78\n",
            "2021-07-04, FECHAR, 33746.00\n",
            "2021-07-05, FECHAR, 34235.20\n",
            "2021-07-06, FECHAR, 33855.33\n",
            "2021-07-07, FECHAR, 32877.37\n",
            "2021-07-07, CRIAR COMPRA, 32877.37\n",
            "2021-07-08, FECHAR, 33798.01\n",
            "2021-07-09, FECHAR, 33520.52\n",
            "2021-07-10, FECHAR, 34240.19\n",
            "2021-07-11, FECHAR, 33155.85\n",
            "2021-07-12, FECHAR, 32702.03\n",
            "2021-07-12, CRIAR COMPRA, 32702.03\n",
            "2021-07-13, FECHAR, 32822.35\n",
            "2021-07-14, FECHAR, 31780.73\n",
            "2021-07-15, FECHAR, 31421.54\n",
            "2021-07-15, CRIAR COMPRA, 31421.54\n",
            "2021-07-16, FECHAR, 31533.07\n",
            "2021-07-17, FECHAR, 31796.81\n",
            "2021-07-18, FECHAR, 30817.83\n",
            "2021-07-19, FECHAR, 29807.35\n",
            "2021-07-19, CRIAR COMPRA, 29807.35\n",
            "2021-07-20, FECHAR, 32110.69\n",
            "2021-07-21, FECHAR, 32313.11\n",
            "2021-07-22, FECHAR, 33581.55\n",
            "2021-07-23, FECHAR, 34292.45\n",
            "2021-07-24, FECHAR, 35350.19\n",
            "2021-07-25, FECHAR, 37337.54\n",
            "2021-07-26, FECHAR, 39406.94\n",
            "2021-07-27, FECHAR, 39995.91\n",
            "2021-07-28, FECHAR, 40008.42\n",
            "2021-07-29, FECHAR, 42235.55\n",
            "2021-07-30, FECHAR, 41626.20\n",
            "2021-07-31, FECHAR, 39974.89\n",
            "2021-07-31, CRIAR COMPRA, 39974.89\n",
            "2021-08-01, FECHAR, 39201.95\n",
            "2021-08-01, CRIAR COMPRA, 39201.95\n",
            "2021-08-02, FECHAR, 38152.98\n",
            "2021-08-02, CRIAR COMPRA, 38152.98\n",
            "2021-08-03, FECHAR, 39747.50\n",
            "2021-08-04, FECHAR, 40869.55\n",
            "2021-08-05, FECHAR, 42816.50\n",
            "2021-08-06, FECHAR, 44555.80\n",
            "2021-08-07, FECHAR, 43798.12\n",
            "2021-08-08, FECHAR, 46365.40\n",
            "2021-08-09, FECHAR, 45585.03\n",
            "2021-08-10, FECHAR, 45593.64\n",
            "2021-08-11, FECHAR, 44428.29\n",
            "2021-08-12, FECHAR, 47793.32\n",
            "2021-08-13, FECHAR, 47096.95\n",
            "2021-08-14, FECHAR, 47047.00\n",
            "2021-08-14, CRIAR COMPRA, 47047.00\n",
            "2021-08-15, FECHAR, 46004.48\n",
            "2021-08-15, CRIAR COMPRA, 46004.48\n",
            "2021-08-16, FECHAR, 44695.36\n",
            "2021-08-16, CRIAR COMPRA, 44695.36\n",
            "2021-08-17, FECHAR, 44801.19\n",
            "2021-08-18, FECHAR, 46717.58\n",
            "2021-08-19, FECHAR, 49339.18\n",
            "2021-08-20, FECHAR, 48905.49\n",
            "2021-08-21, FECHAR, 49321.65\n",
            "2021-08-22, FECHAR, 49546.15\n",
            "2021-08-23, FECHAR, 47706.12\n",
            "2021-08-24, FECHAR, 48960.79\n",
            "2021-08-25, FECHAR, 46942.22\n",
            "2021-08-26, FECHAR, 49058.67\n",
            "2021-08-27, FECHAR, 48902.40\n",
            "2021-08-28, FECHAR, 48829.83\n",
            "2021-08-28, CRIAR COMPRA, 48829.83\n",
            "2021-08-29, FECHAR, 47054.98\n",
            "2021-08-29, CRIAR COMPRA, 47054.98\n",
            "2021-08-30, FECHAR, 47166.69\n",
            "2021-08-31, FECHAR, 48847.03\n",
            "2021-09-01, FECHAR, 49327.72\n",
            "2021-09-02, FECHAR, 50025.38\n",
            "2021-09-03, FECHAR, 49944.62\n",
            "2021-09-04, FECHAR, 51753.41\n",
            "2021-09-05, FECHAR, 52633.54\n",
            "2021-09-06, FECHAR, 46811.13\n",
            "2021-09-07, FECHAR, 46091.39\n",
            "2021-09-07, CRIAR COMPRA, 46091.39\n",
            "2021-09-08, FECHAR, 46391.42\n",
            "2021-09-09, FECHAR, 44883.91\n",
            "2021-09-10, FECHAR, 45201.46\n",
            "2021-09-11, FECHAR, 46063.27\n",
            "2021-09-12, FECHAR, 44963.07\n",
            "2021-09-13, FECHAR, 47092.49\n",
            "2021-09-14, FECHAR, 48176.35\n",
            "2021-09-15, FECHAR, 47783.36\n",
            "2021-09-16, FECHAR, 47267.52\n",
            "2021-09-16, CRIAR COMPRA, 47267.52\n",
            "2021-09-17, FECHAR, 48278.36\n",
            "2021-09-18, FECHAR, 47260.22\n",
            "2021-09-19, FECHAR, 42843.80\n",
            "2021-09-19, CRIAR COMPRA, 42843.80\n",
            "2021-09-20, FECHAR, 40693.68\n",
            "2021-09-20, CRIAR COMPRA, 40693.68\n",
            "2021-09-21, FECHAR, 43574.51\n",
            "2021-09-22, FECHAR, 44895.10\n",
            "2021-09-23, FECHAR, 42839.75\n",
            "2021-09-24, FECHAR, 42716.59\n",
            "2021-09-24, CRIAR COMPRA, 42716.59\n",
            "2021-09-25, FECHAR, 43208.54\n",
            "2021-09-26, FECHAR, 42235.73\n",
            "2021-09-27, FECHAR, 41034.54\n",
            "2021-09-27, CRIAR COMPRA, 41034.54\n",
            "2021-09-28, FECHAR, 41564.36\n",
            "2021-09-29, FECHAR, 43790.89\n",
            "2021-09-30, FECHAR, 48116.94\n",
            "2021-10-01, FECHAR, 47711.49\n",
            "2021-10-02, FECHAR, 48199.95\n",
            "2021-10-03, FECHAR, 49112.90\n",
            "2021-10-04, FECHAR, 51514.81\n",
            "2021-10-05, FECHAR, 55361.45\n",
            "2021-10-06, FECHAR, 53805.98\n",
            "2021-10-07, FECHAR, 53967.85\n",
            "2021-10-08, FECHAR, 54968.22\n",
            "2021-10-09, FECHAR, 54771.58\n",
            "2021-10-10, FECHAR, 57484.79\n",
            "2021-10-11, FECHAR, 56041.06\n",
            "2021-10-12, FECHAR, 57401.10\n",
            "2021-10-13, FECHAR, 57321.52\n",
            "2021-10-14, FECHAR, 61593.95\n",
            "2021-10-15, FECHAR, 60892.18\n",
            "2021-10-16, FECHAR, 61553.62\n",
            "2021-10-17, FECHAR, 62026.08\n",
            "2021-10-18, FECHAR, 64261.99\n",
            "2021-10-19, FECHAR, 65992.84\n",
            "2021-10-20, FECHAR, 62210.17\n",
            "2021-10-21, FECHAR, 60692.27\n",
            "2021-10-21, CRIAR COMPRA, 60692.27\n",
            "2021-10-22, FECHAR, 61393.62\n",
            "2021-10-23, FECHAR, 60930.84\n",
            "2021-10-24, FECHAR, 63039.82\n",
            "2021-10-25, FECHAR, 60363.79\n",
            "2021-10-26, FECHAR, 58482.39\n",
            "2021-10-26, CRIAR COMPRA, 58482.39\n",
            "2021-10-27, FECHAR, 60622.14\n",
            "2021-10-28, FECHAR, 62227.96\n",
            "2021-10-29, FECHAR, 61888.83\n",
            "2021-10-30, FECHAR, 61318.96\n",
            "2021-10-30, CRIAR COMPRA, 61318.96\n",
            "2021-11-01, FECHAR, 61004.41\n",
            "2021-11-01, CRIAR COMPRA, 61004.41\n",
            "2021-11-02, FECHAR, 63226.40\n",
            "2021-11-03, FECHAR, 62970.05\n",
            "2021-11-04, FECHAR, 61452.23\n",
            "2021-11-04, CRIAR COMPRA, 61452.23\n",
            "2021-11-05, FECHAR, 61125.68\n",
            "2021-11-05, CRIAR COMPRA, 61125.68\n",
            "2021-11-06, FECHAR, 61527.48\n",
            "2021-11-07, FECHAR, 63326.99\n",
            "2021-11-08, FECHAR, 67566.83\n",
            "2021-11-09, FECHAR, 66971.83\n",
            "2021-11-10, FECHAR, 64995.23\n",
            "2021-11-10, CRIAR COMPRA, 64995.23\n",
            "2021-11-11, FECHAR, 65036.05\n"
          ]
        },
        {
          "output_type": "execute_result",
          "data": {
            "text/plain": [
              "[<__main__.TestStrategy at 0x7fc9a8e64ad0>]"
            ]
          },
          "metadata": {},
          "execution_count": 42
        }
      ]
    },
    {
      "cell_type": "code",
      "metadata": {
        "colab": {
          "base_uri": "https://localhost:8080/"
        },
        "id": "24Y6z_N8ubTi",
        "outputId": "0d073be2-1551-4f10-8c83-a3e9ea9756c0"
      },
      "source": [
        "# Print out the final result\n",
        "print('Valor Final do Portfólio: %.2f' % cerebro.broker.getvalue())"
      ],
      "execution_count": 43,
      "outputs": [
        {
          "output_type": "stream",
          "name": "stdout",
          "text": [
            "Valor Final do Portfólio: 140168.14\n"
          ]
        }
      ]
    }
  ]
}