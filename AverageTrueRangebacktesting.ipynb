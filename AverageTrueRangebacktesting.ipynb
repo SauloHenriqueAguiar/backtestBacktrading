{
  "nbformat": 4,
  "nbformat_minor": 0,
  "metadata": {
    "colab": {
      "name": "AverageTrueRangebacktesting.ipynb",
      "provenance": [],
      "authorship_tag": "ABX9TyOCCJnx5M4SkWsGM+ENvZsY",
      "include_colab_link": true
    },
    "kernelspec": {
      "name": "python3",
      "display_name": "Python 3"
    },
    "language_info": {
      "name": "python"
    },
    "accelerator": "GPU"
  },
  "cells": [
    {
      "cell_type": "markdown",
      "metadata": {
        "id": "view-in-github",
        "colab_type": "text"
      },
      "source": [
        "<a href=\"https://colab.research.google.com/github/SauloHenriqueAguiar/backtestBacktrading/blob/main/AverageTrueRangebacktesting.ipynb\" target=\"_parent\"><img src=\"https://colab.research.google.com/assets/colab-badge.svg\" alt=\"Open In Colab\"/></a>"
      ]
    },
    {
      "cell_type": "code",
      "metadata": {
        "colab": {
          "base_uri": "https://localhost:8080/"
        },
        "id": "s-25iim6qgX5",
        "outputId": "a1043636-c452-4514-fe97-96e8b634b91e"
      },
      "source": [
        "!pip install yahoo_fin"
      ],
      "execution_count": 3,
      "outputs": [
        {
          "output_type": "stream",
          "name": "stdout",
          "text": [
            "Collecting yahoo_fin\n",
            "  Downloading yahoo_fin-0.8.9.1-py3-none-any.whl (10 kB)\n",
            "Requirement already satisfied: requests in /usr/local/lib/python3.7/dist-packages (from yahoo_fin) (2.23.0)\n",
            "Requirement already satisfied: pandas in /usr/local/lib/python3.7/dist-packages (from yahoo_fin) (1.1.5)\n",
            "Collecting feedparser\n",
            "  Downloading feedparser-6.0.8-py3-none-any.whl (81 kB)\n",
            "\u001b[K     |████████████████████████████████| 81 kB 3.4 MB/s \n",
            "\u001b[?25hCollecting requests-html\n",
            "  Downloading requests_html-0.10.0-py3-none-any.whl (13 kB)\n",
            "Collecting sgmllib3k\n",
            "  Downloading sgmllib3k-1.0.0.tar.gz (5.8 kB)\n",
            "Requirement already satisfied: numpy>=1.15.4 in /usr/local/lib/python3.7/dist-packages (from pandas->yahoo_fin) (1.19.5)\n",
            "Requirement already satisfied: pytz>=2017.2 in /usr/local/lib/python3.7/dist-packages (from pandas->yahoo_fin) (2018.9)\n",
            "Requirement already satisfied: python-dateutil>=2.7.3 in /usr/local/lib/python3.7/dist-packages (from pandas->yahoo_fin) (2.8.2)\n",
            "Requirement already satisfied: six>=1.5 in /usr/local/lib/python3.7/dist-packages (from python-dateutil>=2.7.3->pandas->yahoo_fin) (1.15.0)\n",
            "Requirement already satisfied: idna<3,>=2.5 in /usr/local/lib/python3.7/dist-packages (from requests->yahoo_fin) (2.10)\n",
            "Requirement already satisfied: certifi>=2017.4.17 in /usr/local/lib/python3.7/dist-packages (from requests->yahoo_fin) (2021.5.30)\n",
            "Requirement already satisfied: chardet<4,>=3.0.2 in /usr/local/lib/python3.7/dist-packages (from requests->yahoo_fin) (3.0.4)\n",
            "Requirement already satisfied: urllib3!=1.25.0,!=1.25.1,<1.26,>=1.21.1 in /usr/local/lib/python3.7/dist-packages (from requests->yahoo_fin) (1.24.3)\n",
            "Collecting parse\n",
            "  Downloading parse-1.19.0.tar.gz (30 kB)\n",
            "Requirement already satisfied: bs4 in /usr/local/lib/python3.7/dist-packages (from requests-html->yahoo_fin) (0.0.1)\n",
            "Collecting fake-useragent\n",
            "  Downloading fake-useragent-0.1.11.tar.gz (13 kB)\n",
            "Collecting pyquery\n",
            "  Downloading pyquery-1.4.3-py3-none-any.whl (22 kB)\n",
            "Collecting pyppeteer>=0.0.14\n",
            "  Downloading pyppeteer-0.2.6-py3-none-any.whl (83 kB)\n",
            "\u001b[K     |████████████████████████████████| 83 kB 2.4 MB/s \n",
            "\u001b[?25hCollecting w3lib\n",
            "  Downloading w3lib-1.22.0-py2.py3-none-any.whl (20 kB)\n",
            "Requirement already satisfied: tqdm<5.0.0,>=4.42.1 in /usr/local/lib/python3.7/dist-packages (from pyppeteer>=0.0.14->requests-html->yahoo_fin) (4.62.3)\n",
            "Collecting websockets<10.0,>=9.1\n",
            "  Downloading websockets-9.1-cp37-cp37m-manylinux2010_x86_64.whl (103 kB)\n",
            "\u001b[K     |████████████████████████████████| 103 kB 43.6 MB/s \n",
            "\u001b[?25hRequirement already satisfied: importlib-metadata>=1.4 in /usr/local/lib/python3.7/dist-packages (from pyppeteer>=0.0.14->requests-html->yahoo_fin) (4.8.1)\n",
            "Requirement already satisfied: appdirs<2.0.0,>=1.4.3 in /usr/local/lib/python3.7/dist-packages (from pyppeteer>=0.0.14->requests-html->yahoo_fin) (1.4.4)\n",
            "Collecting pyee<9.0.0,>=8.1.0\n",
            "  Downloading pyee-8.2.2-py2.py3-none-any.whl (12 kB)\n",
            "Collecting urllib3!=1.25.0,!=1.25.1,<1.26,>=1.21.1\n",
            "  Downloading urllib3-1.25.11-py2.py3-none-any.whl (127 kB)\n",
            "\u001b[K     |████████████████████████████████| 127 kB 42.6 MB/s \n",
            "\u001b[?25hRequirement already satisfied: typing-extensions>=3.6.4 in /usr/local/lib/python3.7/dist-packages (from importlib-metadata>=1.4->pyppeteer>=0.0.14->requests-html->yahoo_fin) (3.7.4.3)\n",
            "Requirement already satisfied: zipp>=0.5 in /usr/local/lib/python3.7/dist-packages (from importlib-metadata>=1.4->pyppeteer>=0.0.14->requests-html->yahoo_fin) (3.6.0)\n",
            "Requirement already satisfied: beautifulsoup4 in /usr/local/lib/python3.7/dist-packages (from bs4->requests-html->yahoo_fin) (4.6.3)\n",
            "Collecting cssselect>0.7.9\n",
            "  Downloading cssselect-1.1.0-py2.py3-none-any.whl (16 kB)\n",
            "Requirement already satisfied: lxml>=2.1 in /usr/local/lib/python3.7/dist-packages (from pyquery->requests-html->yahoo_fin) (4.2.6)\n",
            "Building wheels for collected packages: fake-useragent, parse, sgmllib3k\n",
            "  Building wheel for fake-useragent (setup.py) ... \u001b[?25l\u001b[?25hdone\n",
            "  Created wheel for fake-useragent: filename=fake_useragent-0.1.11-py3-none-any.whl size=13502 sha256=a06ba5fada94bcd8596301e8d92e3d632054694946a745426a2c098cb896e397\n",
            "  Stored in directory: /root/.cache/pip/wheels/ed/f7/62/50ab6c9a0b5567267ab76a9daa9d06315704209b2c5d032031\n",
            "  Building wheel for parse (setup.py) ... \u001b[?25l\u001b[?25hdone\n",
            "  Created wheel for parse: filename=parse-1.19.0-py3-none-any.whl size=24591 sha256=d878142c97fff499446abe345b5aead7724e9fb75fde767e3b684eebbfd599f0\n",
            "  Stored in directory: /root/.cache/pip/wheels/9c/aa/cc/f2228050ccb40f22144b073f15a2c84f11204f29fc0dce028e\n",
            "  Building wheel for sgmllib3k (setup.py) ... \u001b[?25l\u001b[?25hdone\n",
            "  Created wheel for sgmllib3k: filename=sgmllib3k-1.0.0-py3-none-any.whl size=6065 sha256=559a2c8dc5fd714a62dee6987e078ce8a31d439c14befe8647abdcf133dbcd0f\n",
            "  Stored in directory: /root/.cache/pip/wheels/73/ad/a4/0dff4a6ef231fc0dfa12ffbac2a36cebfdddfe059f50e019aa\n",
            "Successfully built fake-useragent parse sgmllib3k\n",
            "Installing collected packages: websockets, urllib3, pyee, cssselect, w3lib, sgmllib3k, pyquery, pyppeteer, parse, fake-useragent, requests-html, feedparser, yahoo-fin\n",
            "  Attempting uninstall: urllib3\n",
            "    Found existing installation: urllib3 1.24.3\n",
            "    Uninstalling urllib3-1.24.3:\n",
            "      Successfully uninstalled urllib3-1.24.3\n",
            "\u001b[31mERROR: pip's dependency resolver does not currently take into account all the packages that are installed. This behaviour is the source of the following dependency conflicts.\n",
            "datascience 0.10.6 requires folium==0.2.1, but you have folium 0.8.3 which is incompatible.\u001b[0m\n",
            "Successfully installed cssselect-1.1.0 fake-useragent-0.1.11 feedparser-6.0.8 parse-1.19.0 pyee-8.2.2 pyppeteer-0.2.6 pyquery-1.4.3 requests-html-0.10.0 sgmllib3k-1.0.0 urllib3-1.25.11 w3lib-1.22.0 websockets-9.1 yahoo-fin-0.8.9.1\n"
          ]
        }
      ]
    },
    {
      "cell_type": "code",
      "metadata": {
        "colab": {
          "base_uri": "https://localhost:8080/"
        },
        "id": "46I14qN6qpEy",
        "outputId": "c7f2a738-3e94-4833-84d9-91a90633db85"
      },
      "source": [
        "#instala biblioteca yfinance\n",
        "!pip install yfinance --upgrade --no-cache-dir"
      ],
      "execution_count": 4,
      "outputs": [
        {
          "output_type": "stream",
          "name": "stdout",
          "text": [
            "Collecting yfinance\n",
            "  Downloading yfinance-0.1.64.tar.gz (26 kB)\n",
            "Requirement already satisfied: pandas>=0.24 in /usr/local/lib/python3.7/dist-packages (from yfinance) (1.1.5)\n",
            "Requirement already satisfied: numpy>=1.15 in /usr/local/lib/python3.7/dist-packages (from yfinance) (1.19.5)\n",
            "Requirement already satisfied: requests>=2.20 in /usr/local/lib/python3.7/dist-packages (from yfinance) (2.23.0)\n",
            "Requirement already satisfied: multitasking>=0.0.7 in /usr/local/lib/python3.7/dist-packages (from yfinance) (0.0.9)\n",
            "Collecting lxml>=4.5.1\n",
            "  Downloading lxml-4.6.4-cp37-cp37m-manylinux_2_17_x86_64.manylinux2014_x86_64.manylinux_2_24_x86_64.whl (6.3 MB)\n",
            "\u001b[K     |████████████████████████████████| 6.3 MB 5.3 MB/s \n",
            "\u001b[?25hRequirement already satisfied: pytz>=2017.2 in /usr/local/lib/python3.7/dist-packages (from pandas>=0.24->yfinance) (2018.9)\n",
            "Requirement already satisfied: python-dateutil>=2.7.3 in /usr/local/lib/python3.7/dist-packages (from pandas>=0.24->yfinance) (2.8.2)\n",
            "Requirement already satisfied: six>=1.5 in /usr/local/lib/python3.7/dist-packages (from python-dateutil>=2.7.3->pandas>=0.24->yfinance) (1.15.0)\n",
            "Requirement already satisfied: certifi>=2017.4.17 in /usr/local/lib/python3.7/dist-packages (from requests>=2.20->yfinance) (2021.5.30)\n",
            "Requirement already satisfied: idna<3,>=2.5 in /usr/local/lib/python3.7/dist-packages (from requests>=2.20->yfinance) (2.10)\n",
            "Requirement already satisfied: urllib3!=1.25.0,!=1.25.1,<1.26,>=1.21.1 in /usr/local/lib/python3.7/dist-packages (from requests>=2.20->yfinance) (1.25.11)\n",
            "Requirement already satisfied: chardet<4,>=3.0.2 in /usr/local/lib/python3.7/dist-packages (from requests>=2.20->yfinance) (3.0.4)\n",
            "Building wheels for collected packages: yfinance\n",
            "  Building wheel for yfinance (setup.py) ... \u001b[?25l\u001b[?25hdone\n",
            "  Created wheel for yfinance: filename=yfinance-0.1.64-py2.py3-none-any.whl size=24109 sha256=5caf432e2229330898f6bc48eae3cb0de4cced50ed399844f998ee7af558209f\n",
            "  Stored in directory: /tmp/pip-ephem-wheel-cache-w3u0dura/wheels/86/fe/9b/a4d3d78796b699e37065e5b6c27b75cff448ddb8b24943c288\n",
            "Successfully built yfinance\n",
            "Installing collected packages: lxml, yfinance\n",
            "  Attempting uninstall: lxml\n",
            "    Found existing installation: lxml 4.2.6\n",
            "    Uninstalling lxml-4.2.6:\n",
            "      Successfully uninstalled lxml-4.2.6\n",
            "Successfully installed lxml-4.6.4 yfinance-0.1.64\n"
          ]
        }
      ]
    },
    {
      "cell_type": "code",
      "metadata": {
        "colab": {
          "base_uri": "https://localhost:8080/"
        },
        "id": "5mAYFQocqsM4",
        "outputId": "b02024dc-97e5-4369-8cf0-bc2f7cab0bb9"
      },
      "source": [
        "#instala request\n",
        "!pip install requests_html"
      ],
      "execution_count": 5,
      "outputs": [
        {
          "output_type": "stream",
          "name": "stdout",
          "text": [
            "Requirement already satisfied: requests_html in /usr/local/lib/python3.7/dist-packages (0.10.0)\n",
            "Requirement already satisfied: pyppeteer>=0.0.14 in /usr/local/lib/python3.7/dist-packages (from requests_html) (0.2.6)\n",
            "Requirement already satisfied: fake-useragent in /usr/local/lib/python3.7/dist-packages (from requests_html) (0.1.11)\n",
            "Requirement already satisfied: w3lib in /usr/local/lib/python3.7/dist-packages (from requests_html) (1.22.0)\n",
            "Requirement already satisfied: bs4 in /usr/local/lib/python3.7/dist-packages (from requests_html) (0.0.1)\n",
            "Requirement already satisfied: requests in /usr/local/lib/python3.7/dist-packages (from requests_html) (2.23.0)\n",
            "Requirement already satisfied: parse in /usr/local/lib/python3.7/dist-packages (from requests_html) (1.19.0)\n",
            "Requirement already satisfied: pyquery in /usr/local/lib/python3.7/dist-packages (from requests_html) (1.4.3)\n",
            "Requirement already satisfied: urllib3<2.0.0,>=1.25.8 in /usr/local/lib/python3.7/dist-packages (from pyppeteer>=0.0.14->requests_html) (1.25.11)\n",
            "Requirement already satisfied: importlib-metadata>=1.4 in /usr/local/lib/python3.7/dist-packages (from pyppeteer>=0.0.14->requests_html) (4.8.1)\n",
            "Requirement already satisfied: tqdm<5.0.0,>=4.42.1 in /usr/local/lib/python3.7/dist-packages (from pyppeteer>=0.0.14->requests_html) (4.62.3)\n",
            "Requirement already satisfied: pyee<9.0.0,>=8.1.0 in /usr/local/lib/python3.7/dist-packages (from pyppeteer>=0.0.14->requests_html) (8.2.2)\n",
            "Requirement already satisfied: appdirs<2.0.0,>=1.4.3 in /usr/local/lib/python3.7/dist-packages (from pyppeteer>=0.0.14->requests_html) (1.4.4)\n",
            "Requirement already satisfied: websockets<10.0,>=9.1 in /usr/local/lib/python3.7/dist-packages (from pyppeteer>=0.0.14->requests_html) (9.1)\n",
            "Requirement already satisfied: typing-extensions>=3.6.4 in /usr/local/lib/python3.7/dist-packages (from importlib-metadata>=1.4->pyppeteer>=0.0.14->requests_html) (3.7.4.3)\n",
            "Requirement already satisfied: zipp>=0.5 in /usr/local/lib/python3.7/dist-packages (from importlib-metadata>=1.4->pyppeteer>=0.0.14->requests_html) (3.6.0)\n",
            "Requirement already satisfied: beautifulsoup4 in /usr/local/lib/python3.7/dist-packages (from bs4->requests_html) (4.6.3)\n",
            "Requirement already satisfied: lxml>=2.1 in /usr/local/lib/python3.7/dist-packages (from pyquery->requests_html) (4.6.4)\n",
            "Requirement already satisfied: cssselect>0.7.9 in /usr/local/lib/python3.7/dist-packages (from pyquery->requests_html) (1.1.0)\n",
            "Requirement already satisfied: chardet<4,>=3.0.2 in /usr/local/lib/python3.7/dist-packages (from requests->requests_html) (3.0.4)\n",
            "Requirement already satisfied: idna<3,>=2.5 in /usr/local/lib/python3.7/dist-packages (from requests->requests_html) (2.10)\n",
            "Requirement already satisfied: certifi>=2017.4.17 in /usr/local/lib/python3.7/dist-packages (from requests->requests_html) (2021.5.30)\n",
            "Requirement already satisfied: six>=1.4.1 in /usr/local/lib/python3.7/dist-packages (from w3lib->requests_html) (1.15.0)\n"
          ]
        }
      ]
    },
    {
      "cell_type": "code",
      "metadata": {
        "colab": {
          "base_uri": "https://localhost:8080/"
        },
        "id": "JzOqSKXwqwNQ",
        "outputId": "ae6b37e5-67a6-438a-e304-372948c38c88"
      },
      "source": [
        "# Instalar Backtrader\n",
        "!pip install backtrader"
      ],
      "execution_count": 6,
      "outputs": [
        {
          "output_type": "stream",
          "name": "stdout",
          "text": [
            "Collecting backtrader\n",
            "  Downloading backtrader-1.9.76.123-py2.py3-none-any.whl (410 kB)\n",
            "\u001b[?25l\r\u001b[K     |▉                               | 10 kB 21.6 MB/s eta 0:00:01\r\u001b[K     |█▋                              | 20 kB 10.0 MB/s eta 0:00:01\r\u001b[K     |██▍                             | 30 kB 8.3 MB/s eta 0:00:01\r\u001b[K     |███▏                            | 40 kB 7.4 MB/s eta 0:00:01\r\u001b[K     |████                            | 51 kB 4.2 MB/s eta 0:00:01\r\u001b[K     |████▉                           | 61 kB 4.4 MB/s eta 0:00:01\r\u001b[K     |█████▋                          | 71 kB 4.4 MB/s eta 0:00:01\r\u001b[K     |██████▍                         | 81 kB 5.0 MB/s eta 0:00:01\r\u001b[K     |███████▏                        | 92 kB 5.1 MB/s eta 0:00:01\r\u001b[K     |████████                        | 102 kB 4.1 MB/s eta 0:00:01\r\u001b[K     |████████▉                       | 112 kB 4.1 MB/s eta 0:00:01\r\u001b[K     |█████████▋                      | 122 kB 4.1 MB/s eta 0:00:01\r\u001b[K     |██████████▍                     | 133 kB 4.1 MB/s eta 0:00:01\r\u001b[K     |███████████▏                    | 143 kB 4.1 MB/s eta 0:00:01\r\u001b[K     |████████████                    | 153 kB 4.1 MB/s eta 0:00:01\r\u001b[K     |████████████▉                   | 163 kB 4.1 MB/s eta 0:00:01\r\u001b[K     |█████████████▋                  | 174 kB 4.1 MB/s eta 0:00:01\r\u001b[K     |██████████████▍                 | 184 kB 4.1 MB/s eta 0:00:01\r\u001b[K     |███████████████▏                | 194 kB 4.1 MB/s eta 0:00:01\r\u001b[K     |████████████████                | 204 kB 4.1 MB/s eta 0:00:01\r\u001b[K     |████████████████▉               | 215 kB 4.1 MB/s eta 0:00:01\r\u001b[K     |█████████████████▋              | 225 kB 4.1 MB/s eta 0:00:01\r\u001b[K     |██████████████████▍             | 235 kB 4.1 MB/s eta 0:00:01\r\u001b[K     |███████████████████▏            | 245 kB 4.1 MB/s eta 0:00:01\r\u001b[K     |████████████████████            | 256 kB 4.1 MB/s eta 0:00:01\r\u001b[K     |████████████████████▊           | 266 kB 4.1 MB/s eta 0:00:01\r\u001b[K     |█████████████████████▋          | 276 kB 4.1 MB/s eta 0:00:01\r\u001b[K     |██████████████████████▍         | 286 kB 4.1 MB/s eta 0:00:01\r\u001b[K     |███████████████████████▏        | 296 kB 4.1 MB/s eta 0:00:01\r\u001b[K     |████████████████████████        | 307 kB 4.1 MB/s eta 0:00:01\r\u001b[K     |████████████████████████▊       | 317 kB 4.1 MB/s eta 0:00:01\r\u001b[K     |█████████████████████████▋      | 327 kB 4.1 MB/s eta 0:00:01\r\u001b[K     |██████████████████████████▍     | 337 kB 4.1 MB/s eta 0:00:01\r\u001b[K     |███████████████████████████▏    | 348 kB 4.1 MB/s eta 0:00:01\r\u001b[K     |████████████████████████████    | 358 kB 4.1 MB/s eta 0:00:01\r\u001b[K     |████████████████████████████▊   | 368 kB 4.1 MB/s eta 0:00:01\r\u001b[K     |█████████████████████████████▋  | 378 kB 4.1 MB/s eta 0:00:01\r\u001b[K     |██████████████████████████████▍ | 389 kB 4.1 MB/s eta 0:00:01\r\u001b[K     |███████████████████████████████▏| 399 kB 4.1 MB/s eta 0:00:01\r\u001b[K     |████████████████████████████████| 409 kB 4.1 MB/s eta 0:00:01\r\u001b[K     |████████████████████████████████| 410 kB 4.1 MB/s \n",
            "\u001b[?25hInstalling collected packages: backtrader\n",
            "Successfully installed backtrader-1.9.76.123\n"
          ]
        }
      ]
    },
    {
      "cell_type": "code",
      "metadata": {
        "colab": {
          "base_uri": "https://localhost:8080/",
          "height": 153
        },
        "id": "2tgxMouhtWnN",
        "outputId": "4b055e14-b11b-44d5-97a0-f986cad4393d"
      },
      "source": [
        "!pip install backtrader[plotting]"
      ],
      "execution_count": 44,
      "outputs": [
        {
          "output_type": "stream",
          "name": "stdout",
          "text": [
            "Requirement already satisfied: backtrader[plotting] in /usr/local/lib/python3.7/dist-packages (1.9.76.123)\n",
            "Requirement already satisfied: matplotlib in /usr/local/lib/python3.7/dist-packages (from backtrader[plotting]) (3.2.2)\n",
            "Requirement already satisfied: pyparsing!=2.0.4,!=2.1.2,!=2.1.6,>=2.0.1 in /usr/local/lib/python3.7/dist-packages (from matplotlib->backtrader[plotting]) (2.4.7)\n",
            "Requirement already satisfied: kiwisolver>=1.0.1 in /usr/local/lib/python3.7/dist-packages (from matplotlib->backtrader[plotting]) (1.3.2)\n",
            "Requirement already satisfied: numpy>=1.11 in /usr/local/lib/python3.7/dist-packages (from matplotlib->backtrader[plotting]) (1.19.5)\n",
            "Requirement already satisfied: python-dateutil>=2.1 in /usr/local/lib/python3.7/dist-packages (from matplotlib->backtrader[plotting]) (2.8.2)\n",
            "Requirement already satisfied: cycler>=0.10 in /usr/local/lib/python3.7/dist-packages (from matplotlib->backtrader[plotting]) (0.10.0)\n",
            "Requirement already satisfied: six in /usr/local/lib/python3.7/dist-packages (from cycler>=0.10->matplotlib->backtrader[plotting]) (1.15.0)\n"
          ]
        }
      ]
    },
    {
      "cell_type": "code",
      "metadata": {
        "id": "iemzdeiYqxBX"
      },
      "source": [
        "# Obtenha os pacotes necessários\n",
        "\n",
        "from datetime import datetime\n",
        "import backtrader as bt\n",
        "from IPython.display import display, Image\n",
        "import yfinance as yf"
      ],
      "execution_count": 34,
      "outputs": []
    },
    {
      "cell_type": "code",
      "metadata": {
        "colab": {
          "base_uri": "https://localhost:8080/",
          "height": 419
        },
        "id": "DSRF9o8lq0zH",
        "outputId": "76c2aa33-49d0-4c47-a811-a40576f07ede"
      },
      "source": [
        "from yahoo_fin.stock_info import get_data\n",
        "bitcoin_weekly = get_data(\"BTC-USD\", start_date=\"12/04/2020\", end_date=\"03/11/2021\", index_as_date = True, interval=\"1d\")\n",
        "bitcoin_weekly"
      ],
      "execution_count": 35,
      "outputs": [
        {
          "output_type": "execute_result",
          "data": {
            "text/html": [
              "<div>\n",
              "<style scoped>\n",
              "    .dataframe tbody tr th:only-of-type {\n",
              "        vertical-align: middle;\n",
              "    }\n",
              "\n",
              "    .dataframe tbody tr th {\n",
              "        vertical-align: top;\n",
              "    }\n",
              "\n",
              "    .dataframe thead th {\n",
              "        text-align: right;\n",
              "    }\n",
              "</style>\n",
              "<table border=\"1\" class=\"dataframe\">\n",
              "  <thead>\n",
              "    <tr style=\"text-align: right;\">\n",
              "      <th></th>\n",
              "      <th>open</th>\n",
              "      <th>high</th>\n",
              "      <th>low</th>\n",
              "      <th>close</th>\n",
              "      <th>adjclose</th>\n",
              "      <th>volume</th>\n",
              "      <th>ticker</th>\n",
              "    </tr>\n",
              "  </thead>\n",
              "  <tbody>\n",
              "    <tr>\n",
              "      <th>2020-12-04</th>\n",
              "      <td>19446.966797</td>\n",
              "      <td>19511.404297</td>\n",
              "      <td>18697.193359</td>\n",
              "      <td>18699.765625</td>\n",
              "      <td>18699.765625</td>\n",
              "      <td>33872388058</td>\n",
              "      <td>BTC-USD</td>\n",
              "    </tr>\n",
              "    <tr>\n",
              "      <th>2020-12-05</th>\n",
              "      <td>18698.384766</td>\n",
              "      <td>19160.449219</td>\n",
              "      <td>18590.193359</td>\n",
              "      <td>19154.230469</td>\n",
              "      <td>19154.230469</td>\n",
              "      <td>27242455064</td>\n",
              "      <td>BTC-USD</td>\n",
              "    </tr>\n",
              "    <tr>\n",
              "      <th>2020-12-06</th>\n",
              "      <td>19154.179688</td>\n",
              "      <td>19390.500000</td>\n",
              "      <td>18897.894531</td>\n",
              "      <td>19345.121094</td>\n",
              "      <td>19345.121094</td>\n",
              "      <td>25293775714</td>\n",
              "      <td>BTC-USD</td>\n",
              "    </tr>\n",
              "    <tr>\n",
              "      <th>2020-12-07</th>\n",
              "      <td>19343.128906</td>\n",
              "      <td>19411.828125</td>\n",
              "      <td>18931.142578</td>\n",
              "      <td>19191.630859</td>\n",
              "      <td>19191.630859</td>\n",
              "      <td>26896357742</td>\n",
              "      <td>BTC-USD</td>\n",
              "    </tr>\n",
              "    <tr>\n",
              "      <th>2020-12-08</th>\n",
              "      <td>19191.529297</td>\n",
              "      <td>19283.478516</td>\n",
              "      <td>18269.945312</td>\n",
              "      <td>18321.144531</td>\n",
              "      <td>18321.144531</td>\n",
              "      <td>31692288756</td>\n",
              "      <td>BTC-USD</td>\n",
              "    </tr>\n",
              "    <tr>\n",
              "      <th>...</th>\n",
              "      <td>...</td>\n",
              "      <td>...</td>\n",
              "      <td>...</td>\n",
              "      <td>...</td>\n",
              "      <td>...</td>\n",
              "      <td>...</td>\n",
              "      <td>...</td>\n",
              "    </tr>\n",
              "    <tr>\n",
              "      <th>2021-03-07</th>\n",
              "      <td>48918.679688</td>\n",
              "      <td>51384.367188</td>\n",
              "      <td>48918.679688</td>\n",
              "      <td>51206.691406</td>\n",
              "      <td>51206.691406</td>\n",
              "      <td>43137459378</td>\n",
              "      <td>BTC-USD</td>\n",
              "    </tr>\n",
              "    <tr>\n",
              "      <th>2021-03-08</th>\n",
              "      <td>51174.117188</td>\n",
              "      <td>52314.070312</td>\n",
              "      <td>49506.054688</td>\n",
              "      <td>52246.523438</td>\n",
              "      <td>52246.523438</td>\n",
              "      <td>48597428048</td>\n",
              "      <td>BTC-USD</td>\n",
              "    </tr>\n",
              "    <tr>\n",
              "      <th>2021-03-09</th>\n",
              "      <td>52272.968750</td>\n",
              "      <td>54824.117188</td>\n",
              "      <td>51981.832031</td>\n",
              "      <td>54824.117188</td>\n",
              "      <td>54824.117188</td>\n",
              "      <td>50912227385</td>\n",
              "      <td>BTC-USD</td>\n",
              "    </tr>\n",
              "    <tr>\n",
              "      <th>2021-03-10</th>\n",
              "      <td>54824.011719</td>\n",
              "      <td>57258.253906</td>\n",
              "      <td>53290.890625</td>\n",
              "      <td>56008.550781</td>\n",
              "      <td>56008.550781</td>\n",
              "      <td>57295577614</td>\n",
              "      <td>BTC-USD</td>\n",
              "    </tr>\n",
              "    <tr>\n",
              "      <th>2021-03-11</th>\n",
              "      <td>55963.179688</td>\n",
              "      <td>58091.062500</td>\n",
              "      <td>54484.593750</td>\n",
              "      <td>57805.121094</td>\n",
              "      <td>57805.121094</td>\n",
              "      <td>56772343595</td>\n",
              "      <td>BTC-USD</td>\n",
              "    </tr>\n",
              "  </tbody>\n",
              "</table>\n",
              "<p>98 rows × 7 columns</p>\n",
              "</div>"
            ],
            "text/plain": [
              "                    open          high  ...       volume   ticker\n",
              "2020-12-04  19446.966797  19511.404297  ...  33872388058  BTC-USD\n",
              "2020-12-05  18698.384766  19160.449219  ...  27242455064  BTC-USD\n",
              "2020-12-06  19154.179688  19390.500000  ...  25293775714  BTC-USD\n",
              "2020-12-07  19343.128906  19411.828125  ...  26896357742  BTC-USD\n",
              "2020-12-08  19191.529297  19283.478516  ...  31692288756  BTC-USD\n",
              "...                  ...           ...  ...          ...      ...\n",
              "2021-03-07  48918.679688  51384.367188  ...  43137459378  BTC-USD\n",
              "2021-03-08  51174.117188  52314.070312  ...  48597428048  BTC-USD\n",
              "2021-03-09  52272.968750  54824.117188  ...  50912227385  BTC-USD\n",
              "2021-03-10  54824.011719  57258.253906  ...  57295577614  BTC-USD\n",
              "2021-03-11  55963.179688  58091.062500  ...  56772343595  BTC-USD\n",
              "\n",
              "[98 rows x 7 columns]"
            ]
          },
          "metadata": {},
          "execution_count": 35
        }
      ]
    },
    {
      "cell_type": "code",
      "metadata": {
        "id": "_HkVCAHiq2D4"
      },
      "source": [
        "bitcoin_weekly.to_csv('/content/bitcoin.csv')\n"
      ],
      "execution_count": 36,
      "outputs": []
    },
    {
      "cell_type": "code",
      "metadata": {
        "id": "rjV5ySUtsgVo"
      },
      "source": [
        "# Instantiate Cerebro engine\n",
        "cerebro = bt.Cerebro()\n"
      ],
      "execution_count": 80,
      "outputs": []
    },
    {
      "cell_type": "code",
      "metadata": {
        "colab": {
          "base_uri": "https://localhost:8080/",
          "height": 34
        },
        "id": "uWQzY2dMrD6I",
        "outputId": "cc3b3567-db54-4199-8103-0a75851800db"
      },
      "source": [
        "#Add data feed to Cerebro\n",
        "data = bt.feeds.YahooFinanceCSVData(dataname='bitcoin.csv')\n",
        "cerebro.adddata(data)\n"
      ],
      "execution_count": 57,
      "outputs": [
        {
          "output_type": "execute_result",
          "data": {
            "text/plain": [
              "<backtrader.feeds.yahoo.YahooFinanceCSVData at 0x7fac3a7f0f10>"
            ]
          },
          "metadata": {},
          "execution_count": 57
        }
      ]
    },
    {
      "cell_type": "code",
      "metadata": {
        "id": "8qUT9JKdwXBK"
      },
      "source": [
        "import backtrader as bt\n",
        "\n",
        "class AverageTrueRange(bt.Strategy):\n",
        "  \n",
        "\tdef log(self, txt, dt=None):\n",
        "\t\tdt = dt or self.datas[0].datetime.date(0)\n",
        "\t\tprint(f'{dt.isoformat()} {txt}') #Print date and close\n",
        "\t\t\n",
        "\tdef __init__(self):\n",
        "\t\tself.dataclose = self.datas[0].close\n",
        "\t\tself.datahigh = self.datas[0].high\n",
        "\t\tself.datalow = self.datas[0].low\n",
        "\t\t\n",
        "\tdef next(self):\n",
        "\t\trange_total = 0\n",
        "\t\tfor i in range(-13, 1):\n",
        "\t\t\ttrue_range = self.datahigh[i] - self.datalow[i]\n",
        "\t\t\trange_total += true_range\n",
        "\t\tATR = range_total / 14\n",
        "\n",
        "\t\tself.log(f'Close: {self.dataclose[0]:.2f}, ATR: {ATR:.4f}')"
      ],
      "execution_count": 72,
      "outputs": []
    },
    {
      "cell_type": "code",
      "metadata": {
        "id": "Yxt_g_1kwvwj"
      },
      "source": [
        "# Default position size\n",
        "cerebro.addsizer(bt.sizers.SizerFix, stake=3)"
      ],
      "execution_count": 81,
      "outputs": []
    },
    {
      "cell_type": "code",
      "metadata": {
        "colab": {
          "base_uri": "https://localhost:8080/",
          "height": 34
        },
        "id": "NS9ESZNJyHEX",
        "outputId": "4c609768-2ecd-4eaa-b9a4-08e214949a12"
      },
      "source": [
        "# Add strategy to Cerebro\n",
        "cerebro.addstrategy(AverageTrueRange)\n"
      ],
      "execution_count": 82,
      "outputs": [
        {
          "output_type": "execute_result",
          "data": {
            "text/plain": [
              "0"
            ]
          },
          "metadata": {},
          "execution_count": 82
        }
      ]
    },
    {
      "cell_type": "code",
      "metadata": {
        "colab": {
          "base_uri": "https://localhost:8080/",
          "height": 68
        },
        "id": "MM_DrgoxscKm",
        "outputId": "24647977-6eb1-4db6-8597-7ad5f0a3dbb5"
      },
      "source": [
        "if __name__ == '__main__':\n",
        "    # Run Cerebro Engine\n",
        "    start_portfolio_value = cerebro.broker.getvalue()\n",
        "\n",
        "    cerebro.run()\n",
        "\n",
        "    end_portfolio_value = cerebro.broker.getvalue()\n",
        "    pnl = end_portfolio_value - start_portfolio_value\n",
        "    print(f'Starting Portfolio Value: {start_portfolio_value:2f}')\n",
        "    print(f'Final Portfolio Value: {end_portfolio_value:2f}')\n",
        "    print(f'PnL: {pnl:.2f}')"
      ],
      "execution_count": 83,
      "outputs": [
        {
          "output_type": "stream",
          "name": "stdout",
          "text": [
            "Starting Portfolio Value: 10000.000000\n",
            "Final Portfolio Value: 10000.000000\n",
            "PnL: 0.00\n"
          ]
        }
      ]
    }
  ]
}