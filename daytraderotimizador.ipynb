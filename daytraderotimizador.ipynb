{
  "nbformat": 4,
  "nbformat_minor": 0,
  "metadata": {
    "colab": {
      "name": "daytrader1mes.ipynb",
      "provenance": [],
      "authorship_tag": "ABX9TyNl//c0aK3RFy46bdzxj4Ic",
      "include_colab_link": true
    },
    "kernelspec": {
      "name": "python3",
      "display_name": "Python 3"
    },
    "language_info": {
      "name": "python"
    },
    "accelerator": "GPU"
  },
  "cells": [
    {
      "cell_type": "markdown",
      "metadata": {
        "id": "view-in-github",
        "colab_type": "text"
      },
      "source": [
        "<a href=\"https://colab.research.google.com/github/SauloHenriqueAguiar/backtestBacktrading/blob/main/daytraderotimizador.ipynb\" target=\"_parent\"><img src=\"https://colab.research.google.com/assets/colab-badge.svg\" alt=\"Open In Colab\"/></a>"
      ]
    },
    {
      "cell_type": "code",
      "metadata": {
        "colab": {
          "base_uri": "https://localhost:8080/"
        },
        "id": "oVn3Ht46b6Dt",
        "outputId": "d8c85ff6-0561-4330-da7a-918358dc5824"
      },
      "source": [
        "!pip install yahoo_fin\n"
      ],
      "execution_count": 1,
      "outputs": [
        {
          "output_type": "stream",
          "name": "stdout",
          "text": [
            "Collecting yahoo_fin\n",
            "  Downloading yahoo_fin-0.8.9.1-py3-none-any.whl (10 kB)\n",
            "Collecting feedparser\n",
            "  Downloading feedparser-6.0.8-py3-none-any.whl (81 kB)\n",
            "\u001b[K     |████████████████████████████████| 81 kB 2.2 MB/s \n",
            "\u001b[?25hRequirement already satisfied: pandas in /usr/local/lib/python3.7/dist-packages (from yahoo_fin) (1.1.5)\n",
            "Requirement already satisfied: requests in /usr/local/lib/python3.7/dist-packages (from yahoo_fin) (2.23.0)\n",
            "Collecting requests-html\n",
            "  Downloading requests_html-0.10.0-py3-none-any.whl (13 kB)\n",
            "Collecting sgmllib3k\n",
            "  Downloading sgmllib3k-1.0.0.tar.gz (5.8 kB)\n",
            "Requirement already satisfied: pytz>=2017.2 in /usr/local/lib/python3.7/dist-packages (from pandas->yahoo_fin) (2018.9)\n",
            "Requirement already satisfied: numpy>=1.15.4 in /usr/local/lib/python3.7/dist-packages (from pandas->yahoo_fin) (1.19.5)\n",
            "Requirement already satisfied: python-dateutil>=2.7.3 in /usr/local/lib/python3.7/dist-packages (from pandas->yahoo_fin) (2.8.2)\n",
            "Requirement already satisfied: six>=1.5 in /usr/local/lib/python3.7/dist-packages (from python-dateutil>=2.7.3->pandas->yahoo_fin) (1.15.0)\n",
            "Requirement already satisfied: certifi>=2017.4.17 in /usr/local/lib/python3.7/dist-packages (from requests->yahoo_fin) (2021.10.8)\n",
            "Requirement already satisfied: chardet<4,>=3.0.2 in /usr/local/lib/python3.7/dist-packages (from requests->yahoo_fin) (3.0.4)\n",
            "Requirement already satisfied: urllib3!=1.25.0,!=1.25.1,<1.26,>=1.21.1 in /usr/local/lib/python3.7/dist-packages (from requests->yahoo_fin) (1.24.3)\n",
            "Requirement already satisfied: idna<3,>=2.5 in /usr/local/lib/python3.7/dist-packages (from requests->yahoo_fin) (2.10)\n",
            "Collecting fake-useragent\n",
            "  Downloading fake-useragent-0.1.11.tar.gz (13 kB)\n",
            "Collecting w3lib\n",
            "  Downloading w3lib-1.22.0-py2.py3-none-any.whl (20 kB)\n",
            "Requirement already satisfied: bs4 in /usr/local/lib/python3.7/dist-packages (from requests-html->yahoo_fin) (0.0.1)\n",
            "Collecting pyppeteer>=0.0.14\n",
            "  Downloading pyppeteer-0.2.6-py3-none-any.whl (83 kB)\n",
            "\u001b[K     |████████████████████████████████| 83 kB 2.1 MB/s \n",
            "\u001b[?25hCollecting parse\n",
            "  Downloading parse-1.19.0.tar.gz (30 kB)\n",
            "Collecting pyquery\n",
            "  Downloading pyquery-1.4.3-py3-none-any.whl (22 kB)\n",
            "Collecting websockets<10.0,>=9.1\n",
            "  Downloading websockets-9.1-cp37-cp37m-manylinux2010_x86_64.whl (103 kB)\n",
            "\u001b[K     |████████████████████████████████| 103 kB 19.2 MB/s \n",
            "\u001b[?25hRequirement already satisfied: appdirs<2.0.0,>=1.4.3 in /usr/local/lib/python3.7/dist-packages (from pyppeteer>=0.0.14->requests-html->yahoo_fin) (1.4.4)\n",
            "Requirement already satisfied: importlib-metadata>=1.4 in /usr/local/lib/python3.7/dist-packages (from pyppeteer>=0.0.14->requests-html->yahoo_fin) (4.8.2)\n",
            "Collecting urllib3!=1.25.0,!=1.25.1,<1.26,>=1.21.1\n",
            "  Downloading urllib3-1.25.11-py2.py3-none-any.whl (127 kB)\n",
            "\u001b[K     |████████████████████████████████| 127 kB 23.0 MB/s \n",
            "\u001b[?25hRequirement already satisfied: tqdm<5.0.0,>=4.42.1 in /usr/local/lib/python3.7/dist-packages (from pyppeteer>=0.0.14->requests-html->yahoo_fin) (4.62.3)\n",
            "Collecting pyee<9.0.0,>=8.1.0\n",
            "  Downloading pyee-8.2.2-py2.py3-none-any.whl (12 kB)\n",
            "Requirement already satisfied: zipp>=0.5 in /usr/local/lib/python3.7/dist-packages (from importlib-metadata>=1.4->pyppeteer>=0.0.14->requests-html->yahoo_fin) (3.6.0)\n",
            "Requirement already satisfied: typing-extensions>=3.6.4 in /usr/local/lib/python3.7/dist-packages (from importlib-metadata>=1.4->pyppeteer>=0.0.14->requests-html->yahoo_fin) (3.10.0.2)\n",
            "Requirement already satisfied: beautifulsoup4 in /usr/local/lib/python3.7/dist-packages (from bs4->requests-html->yahoo_fin) (4.6.3)\n",
            "Collecting cssselect>0.7.9\n",
            "  Downloading cssselect-1.1.0-py2.py3-none-any.whl (16 kB)\n",
            "Requirement already satisfied: lxml>=2.1 in /usr/local/lib/python3.7/dist-packages (from pyquery->requests-html->yahoo_fin) (4.2.6)\n",
            "Building wheels for collected packages: fake-useragent, parse, sgmllib3k\n",
            "  Building wheel for fake-useragent (setup.py) ... \u001b[?25l\u001b[?25hdone\n",
            "  Created wheel for fake-useragent: filename=fake_useragent-0.1.11-py3-none-any.whl size=13502 sha256=d1f6ef37e35e50a7390e5a1bdc8840c94133cc3bebd0da8bf1149a6c05b470c4\n",
            "  Stored in directory: /root/.cache/pip/wheels/ed/f7/62/50ab6c9a0b5567267ab76a9daa9d06315704209b2c5d032031\n",
            "  Building wheel for parse (setup.py) ... \u001b[?25l\u001b[?25hdone\n",
            "  Created wheel for parse: filename=parse-1.19.0-py3-none-any.whl size=24591 sha256=0e04ae2a6fa8c2e66fec62f9943e88253951693222d5242fbd0afb39830db45c\n",
            "  Stored in directory: /root/.cache/pip/wheels/9c/aa/cc/f2228050ccb40f22144b073f15a2c84f11204f29fc0dce028e\n",
            "  Building wheel for sgmllib3k (setup.py) ... \u001b[?25l\u001b[?25hdone\n",
            "  Created wheel for sgmllib3k: filename=sgmllib3k-1.0.0-py3-none-any.whl size=6065 sha256=1e87ca2f67337100a5b3c45b96d182ed3466b448bab88851a10241c59d7af749\n",
            "  Stored in directory: /root/.cache/pip/wheels/73/ad/a4/0dff4a6ef231fc0dfa12ffbac2a36cebfdddfe059f50e019aa\n",
            "Successfully built fake-useragent parse sgmllib3k\n",
            "Installing collected packages: websockets, urllib3, pyee, cssselect, w3lib, sgmllib3k, pyquery, pyppeteer, parse, fake-useragent, requests-html, feedparser, yahoo-fin\n",
            "  Attempting uninstall: urllib3\n",
            "    Found existing installation: urllib3 1.24.3\n",
            "    Uninstalling urllib3-1.24.3:\n",
            "      Successfully uninstalled urllib3-1.24.3\n",
            "\u001b[31mERROR: pip's dependency resolver does not currently take into account all the packages that are installed. This behaviour is the source of the following dependency conflicts.\n",
            "datascience 0.10.6 requires folium==0.2.1, but you have folium 0.8.3 which is incompatible.\u001b[0m\n",
            "Successfully installed cssselect-1.1.0 fake-useragent-0.1.11 feedparser-6.0.8 parse-1.19.0 pyee-8.2.2 pyppeteer-0.2.6 pyquery-1.4.3 requests-html-0.10.0 sgmllib3k-1.0.0 urllib3-1.25.11 w3lib-1.22.0 websockets-9.1 yahoo-fin-0.8.9.1\n"
          ]
        }
      ]
    },
    {
      "cell_type": "code",
      "metadata": {
        "colab": {
          "base_uri": "https://localhost:8080/"
        },
        "id": "xX8efFEtqHo3",
        "outputId": "e276d94f-3058-41bb-87cc-841dd8670733"
      },
      "source": [
        "#instala biblioteca yfinance\n",
        "!pip install yfinance --upgrade --no-cache-dir"
      ],
      "execution_count": 2,
      "outputs": [
        {
          "output_type": "stream",
          "name": "stdout",
          "text": [
            "Collecting yfinance\n",
            "  Downloading yfinance-0.1.64.tar.gz (26 kB)\n",
            "Requirement already satisfied: pandas>=0.24 in /usr/local/lib/python3.7/dist-packages (from yfinance) (1.1.5)\n",
            "Requirement already satisfied: numpy>=1.15 in /usr/local/lib/python3.7/dist-packages (from yfinance) (1.19.5)\n",
            "Requirement already satisfied: requests>=2.20 in /usr/local/lib/python3.7/dist-packages (from yfinance) (2.23.0)\n",
            "Requirement already satisfied: multitasking>=0.0.7 in /usr/local/lib/python3.7/dist-packages (from yfinance) (0.0.9)\n",
            "Collecting lxml>=4.5.1\n",
            "  Downloading lxml-4.6.4-cp37-cp37m-manylinux_2_17_x86_64.manylinux2014_x86_64.manylinux_2_24_x86_64.whl (6.3 MB)\n",
            "\u001b[K     |████████████████████████████████| 6.3 MB 3.0 MB/s \n",
            "\u001b[?25hRequirement already satisfied: python-dateutil>=2.7.3 in /usr/local/lib/python3.7/dist-packages (from pandas>=0.24->yfinance) (2.8.2)\n",
            "Requirement already satisfied: pytz>=2017.2 in /usr/local/lib/python3.7/dist-packages (from pandas>=0.24->yfinance) (2018.9)\n",
            "Requirement already satisfied: six>=1.5 in /usr/local/lib/python3.7/dist-packages (from python-dateutil>=2.7.3->pandas>=0.24->yfinance) (1.15.0)\n",
            "Requirement already satisfied: chardet<4,>=3.0.2 in /usr/local/lib/python3.7/dist-packages (from requests>=2.20->yfinance) (3.0.4)\n",
            "Requirement already satisfied: certifi>=2017.4.17 in /usr/local/lib/python3.7/dist-packages (from requests>=2.20->yfinance) (2021.10.8)\n",
            "Requirement already satisfied: urllib3!=1.25.0,!=1.25.1,<1.26,>=1.21.1 in /usr/local/lib/python3.7/dist-packages (from requests>=2.20->yfinance) (1.25.11)\n",
            "Requirement already satisfied: idna<3,>=2.5 in /usr/local/lib/python3.7/dist-packages (from requests>=2.20->yfinance) (2.10)\n",
            "Building wheels for collected packages: yfinance\n",
            "  Building wheel for yfinance (setup.py) ... \u001b[?25l\u001b[?25hdone\n",
            "  Created wheel for yfinance: filename=yfinance-0.1.64-py2.py3-none-any.whl size=24109 sha256=cdb3f89082b1cf94d885af0f1d90d3af25501b327e21a9b4d0e44cf393e1557d\n",
            "  Stored in directory: /tmp/pip-ephem-wheel-cache-f8ullt3g/wheels/86/fe/9b/a4d3d78796b699e37065e5b6c27b75cff448ddb8b24943c288\n",
            "Successfully built yfinance\n",
            "Installing collected packages: lxml, yfinance\n",
            "  Attempting uninstall: lxml\n",
            "    Found existing installation: lxml 4.2.6\n",
            "    Uninstalling lxml-4.2.6:\n",
            "      Successfully uninstalled lxml-4.2.6\n",
            "Successfully installed lxml-4.6.4 yfinance-0.1.64\n"
          ]
        }
      ]
    },
    {
      "cell_type": "code",
      "metadata": {
        "colab": {
          "base_uri": "https://localhost:8080/"
        },
        "id": "irAiRnHDqN4D",
        "outputId": "a36655a5-f830-475d-fe22-1bfa562fc9c8"
      },
      "source": [
        "#instala request\n",
        "!pip install requests_html"
      ],
      "execution_count": 3,
      "outputs": [
        {
          "output_type": "stream",
          "name": "stdout",
          "text": [
            "Requirement already satisfied: requests_html in /usr/local/lib/python3.7/dist-packages (0.10.0)\n",
            "Requirement already satisfied: requests in /usr/local/lib/python3.7/dist-packages (from requests_html) (2.23.0)\n",
            "Requirement already satisfied: bs4 in /usr/local/lib/python3.7/dist-packages (from requests_html) (0.0.1)\n",
            "Requirement already satisfied: pyquery in /usr/local/lib/python3.7/dist-packages (from requests_html) (1.4.3)\n",
            "Requirement already satisfied: w3lib in /usr/local/lib/python3.7/dist-packages (from requests_html) (1.22.0)\n",
            "Requirement already satisfied: parse in /usr/local/lib/python3.7/dist-packages (from requests_html) (1.19.0)\n",
            "Requirement already satisfied: pyppeteer>=0.0.14 in /usr/local/lib/python3.7/dist-packages (from requests_html) (0.2.6)\n",
            "Requirement already satisfied: fake-useragent in /usr/local/lib/python3.7/dist-packages (from requests_html) (0.1.11)\n",
            "Requirement already satisfied: urllib3<2.0.0,>=1.25.8 in /usr/local/lib/python3.7/dist-packages (from pyppeteer>=0.0.14->requests_html) (1.25.11)\n",
            "Requirement already satisfied: pyee<9.0.0,>=8.1.0 in /usr/local/lib/python3.7/dist-packages (from pyppeteer>=0.0.14->requests_html) (8.2.2)\n",
            "Requirement already satisfied: websockets<10.0,>=9.1 in /usr/local/lib/python3.7/dist-packages (from pyppeteer>=0.0.14->requests_html) (9.1)\n",
            "Requirement already satisfied: importlib-metadata>=1.4 in /usr/local/lib/python3.7/dist-packages (from pyppeteer>=0.0.14->requests_html) (4.8.2)\n",
            "Requirement already satisfied: appdirs<2.0.0,>=1.4.3 in /usr/local/lib/python3.7/dist-packages (from pyppeteer>=0.0.14->requests_html) (1.4.4)\n",
            "Requirement already satisfied: tqdm<5.0.0,>=4.42.1 in /usr/local/lib/python3.7/dist-packages (from pyppeteer>=0.0.14->requests_html) (4.62.3)\n",
            "Requirement already satisfied: zipp>=0.5 in /usr/local/lib/python3.7/dist-packages (from importlib-metadata>=1.4->pyppeteer>=0.0.14->requests_html) (3.6.0)\n",
            "Requirement already satisfied: typing-extensions>=3.6.4 in /usr/local/lib/python3.7/dist-packages (from importlib-metadata>=1.4->pyppeteer>=0.0.14->requests_html) (3.10.0.2)\n",
            "Requirement already satisfied: beautifulsoup4 in /usr/local/lib/python3.7/dist-packages (from bs4->requests_html) (4.6.3)\n",
            "Requirement already satisfied: cssselect>0.7.9 in /usr/local/lib/python3.7/dist-packages (from pyquery->requests_html) (1.1.0)\n",
            "Requirement already satisfied: lxml>=2.1 in /usr/local/lib/python3.7/dist-packages (from pyquery->requests_html) (4.6.4)\n",
            "Requirement already satisfied: certifi>=2017.4.17 in /usr/local/lib/python3.7/dist-packages (from requests->requests_html) (2021.10.8)\n",
            "Requirement already satisfied: idna<3,>=2.5 in /usr/local/lib/python3.7/dist-packages (from requests->requests_html) (2.10)\n",
            "Requirement already satisfied: chardet<4,>=3.0.2 in /usr/local/lib/python3.7/dist-packages (from requests->requests_html) (3.0.4)\n",
            "Requirement already satisfied: six>=1.4.1 in /usr/local/lib/python3.7/dist-packages (from w3lib->requests_html) (1.15.0)\n"
          ]
        }
      ]
    },
    {
      "cell_type": "code",
      "metadata": {
        "colab": {
          "base_uri": "https://localhost:8080/"
        },
        "id": "cyMKpWKkqQW3",
        "outputId": "22cb4396-9883-42e6-bdc2-eca53f301218"
      },
      "source": [
        "# Instalar Backtrader\n",
        "!pip install backtrader"
      ],
      "execution_count": 4,
      "outputs": [
        {
          "output_type": "stream",
          "name": "stdout",
          "text": [
            "Collecting backtrader\n",
            "  Downloading backtrader-1.9.76.123-py2.py3-none-any.whl (410 kB)\n",
            "\u001b[K     |████████████████████████████████| 410 kB 2.3 MB/s \n",
            "\u001b[?25hInstalling collected packages: backtrader\n",
            "Successfully installed backtrader-1.9.76.123\n"
          ]
        }
      ]
    },
    {
      "cell_type": "code",
      "metadata": {
        "colab": {
          "base_uri": "https://localhost:8080/"
        },
        "id": "-_QN0IxiqS2f",
        "outputId": "03f06ed3-4916-4518-b280-e315c29ad454"
      },
      "source": [
        "!pip install backtrader[plotting]\n"
      ],
      "execution_count": 5,
      "outputs": [
        {
          "output_type": "stream",
          "name": "stdout",
          "text": [
            "Requirement already satisfied: backtrader[plotting] in /usr/local/lib/python3.7/dist-packages (1.9.76.123)\n",
            "Requirement already satisfied: matplotlib in /usr/local/lib/python3.7/dist-packages (from backtrader[plotting]) (3.2.2)\n",
            "Requirement already satisfied: pyparsing!=2.0.4,!=2.1.2,!=2.1.6,>=2.0.1 in /usr/local/lib/python3.7/dist-packages (from matplotlib->backtrader[plotting]) (2.4.7)\n",
            "Requirement already satisfied: kiwisolver>=1.0.1 in /usr/local/lib/python3.7/dist-packages (from matplotlib->backtrader[plotting]) (1.3.2)\n",
            "Requirement already satisfied: numpy>=1.11 in /usr/local/lib/python3.7/dist-packages (from matplotlib->backtrader[plotting]) (1.19.5)\n",
            "Requirement already satisfied: cycler>=0.10 in /usr/local/lib/python3.7/dist-packages (from matplotlib->backtrader[plotting]) (0.11.0)\n",
            "Requirement already satisfied: python-dateutil>=2.1 in /usr/local/lib/python3.7/dist-packages (from matplotlib->backtrader[plotting]) (2.8.2)\n",
            "Requirement already satisfied: six>=1.5 in /usr/local/lib/python3.7/dist-packages (from python-dateutil>=2.1->matplotlib->backtrader[plotting]) (1.15.0)\n"
          ]
        }
      ]
    },
    {
      "cell_type": "code",
      "metadata": {
        "id": "8WArpzu6qU8x"
      },
      "source": [
        "# Obtenha os pacotes necessários\n",
        "\n",
        "import datetime  \n",
        "import backtrader as bt\n",
        "from IPython.display import display, Image\n",
        "import yfinance as yf\n",
        "import backtrader.analyzers as btanalyzers\n",
        "import backtrader.feeds as btfeeds\n",
        "import backtrader.strategies as btstrats\n",
        "import os\n",
        "import sys\n",
        "import datetime  # For datetime objects\n",
        "import os.path  # To manage paths\n",
        "import sys  # To find out the script name (in argv[0])\n"
      ],
      "execution_count": 6,
      "outputs": []
    },
    {
      "cell_type": "code",
      "metadata": {
        "id": "gFwdgpdyyVF3"
      },
      "source": [
        "from __future__ import (absolute_import, division, print_function,\n",
        "                        unicode_literals)"
      ],
      "execution_count": 23,
      "outputs": []
    },
    {
      "cell_type": "code",
      "metadata": {
        "colab": {
          "base_uri": "https://localhost:8080/",
          "height": 419
        },
        "id": "FoE800JXqXU_",
        "outputId": "da08224c-50c8-498c-aa03-4bc7a64deaa6"
      },
      "source": [
        "from yahoo_fin.stock_info import get_data\n",
        "data = get_data(\"BTC-USD\", start_date=\"05/10/2021\", end_date=\"11/10/2021\", index_as_date = True, interval=\"1d\")\n",
        "data"
      ],
      "execution_count": 24,
      "outputs": [
        {
          "output_type": "execute_result",
          "data": {
            "text/html": [
              "<div>\n",
              "<style scoped>\n",
              "    .dataframe tbody tr th:only-of-type {\n",
              "        vertical-align: middle;\n",
              "    }\n",
              "\n",
              "    .dataframe tbody tr th {\n",
              "        vertical-align: top;\n",
              "    }\n",
              "\n",
              "    .dataframe thead th {\n",
              "        text-align: right;\n",
              "    }\n",
              "</style>\n",
              "<table border=\"1\" class=\"dataframe\">\n",
              "  <thead>\n",
              "    <tr style=\"text-align: right;\">\n",
              "      <th></th>\n",
              "      <th>open</th>\n",
              "      <th>high</th>\n",
              "      <th>low</th>\n",
              "      <th>close</th>\n",
              "      <th>adjclose</th>\n",
              "      <th>volume</th>\n",
              "      <th>ticker</th>\n",
              "    </tr>\n",
              "  </thead>\n",
              "  <tbody>\n",
              "    <tr>\n",
              "      <th>2021-05-10</th>\n",
              "      <td>58250.871094</td>\n",
              "      <td>59519.355469</td>\n",
              "      <td>54071.457031</td>\n",
              "      <td>55859.796875</td>\n",
              "      <td>55859.796875</td>\n",
              "      <td>71776546298</td>\n",
              "      <td>BTC-USD</td>\n",
              "    </tr>\n",
              "    <tr>\n",
              "      <th>2021-05-11</th>\n",
              "      <td>55847.242188</td>\n",
              "      <td>56872.542969</td>\n",
              "      <td>54608.652344</td>\n",
              "      <td>56704.574219</td>\n",
              "      <td>56704.574219</td>\n",
              "      <td>61308396325</td>\n",
              "      <td>BTC-USD</td>\n",
              "    </tr>\n",
              "    <tr>\n",
              "      <th>2021-05-12</th>\n",
              "      <td>56714.531250</td>\n",
              "      <td>57939.363281</td>\n",
              "      <td>49150.535156</td>\n",
              "      <td>49150.535156</td>\n",
              "      <td>49150.535156</td>\n",
              "      <td>75215403907</td>\n",
              "      <td>BTC-USD</td>\n",
              "    </tr>\n",
              "    <tr>\n",
              "      <th>2021-05-13</th>\n",
              "      <td>49735.433594</td>\n",
              "      <td>51330.843750</td>\n",
              "      <td>46980.019531</td>\n",
              "      <td>49716.191406</td>\n",
              "      <td>49716.191406</td>\n",
              "      <td>96721152926</td>\n",
              "      <td>BTC-USD</td>\n",
              "    </tr>\n",
              "    <tr>\n",
              "      <th>2021-05-14</th>\n",
              "      <td>49682.980469</td>\n",
              "      <td>51438.117188</td>\n",
              "      <td>48868.578125</td>\n",
              "      <td>49880.535156</td>\n",
              "      <td>49880.535156</td>\n",
              "      <td>55737497453</td>\n",
              "      <td>BTC-USD</td>\n",
              "    </tr>\n",
              "    <tr>\n",
              "      <th>...</th>\n",
              "      <td>...</td>\n",
              "      <td>...</td>\n",
              "      <td>...</td>\n",
              "      <td>...</td>\n",
              "      <td>...</td>\n",
              "      <td>...</td>\n",
              "      <td>...</td>\n",
              "    </tr>\n",
              "    <tr>\n",
              "      <th>2021-11-06</th>\n",
              "      <td>61068.875000</td>\n",
              "      <td>61590.683594</td>\n",
              "      <td>60163.781250</td>\n",
              "      <td>61527.480469</td>\n",
              "      <td>61527.480469</td>\n",
              "      <td>29094934221</td>\n",
              "      <td>BTC-USD</td>\n",
              "    </tr>\n",
              "    <tr>\n",
              "      <th>2021-11-07</th>\n",
              "      <td>61554.921875</td>\n",
              "      <td>63326.988281</td>\n",
              "      <td>61432.488281</td>\n",
              "      <td>63326.988281</td>\n",
              "      <td>63326.988281</td>\n",
              "      <td>24726754302</td>\n",
              "      <td>BTC-USD</td>\n",
              "    </tr>\n",
              "    <tr>\n",
              "      <th>2021-11-08</th>\n",
              "      <td>63344.066406</td>\n",
              "      <td>67673.742188</td>\n",
              "      <td>63344.066406</td>\n",
              "      <td>67566.828125</td>\n",
              "      <td>67566.828125</td>\n",
              "      <td>41125608330</td>\n",
              "      <td>BTC-USD</td>\n",
              "    </tr>\n",
              "    <tr>\n",
              "      <th>2021-11-09</th>\n",
              "      <td>67549.734375</td>\n",
              "      <td>68530.335938</td>\n",
              "      <td>66382.062500</td>\n",
              "      <td>66971.828125</td>\n",
              "      <td>66971.828125</td>\n",
              "      <td>42357991721</td>\n",
              "      <td>BTC-USD</td>\n",
              "    </tr>\n",
              "    <tr>\n",
              "      <th>2021-11-10</th>\n",
              "      <td>66953.335938</td>\n",
              "      <td>68789.625000</td>\n",
              "      <td>63208.113281</td>\n",
              "      <td>64995.230469</td>\n",
              "      <td>64995.230469</td>\n",
              "      <td>48730828378</td>\n",
              "      <td>BTC-USD</td>\n",
              "    </tr>\n",
              "  </tbody>\n",
              "</table>\n",
              "<p>185 rows × 7 columns</p>\n",
              "</div>"
            ],
            "text/plain": [
              "                    open          high  ...       volume   ticker\n",
              "2021-05-10  58250.871094  59519.355469  ...  71776546298  BTC-USD\n",
              "2021-05-11  55847.242188  56872.542969  ...  61308396325  BTC-USD\n",
              "2021-05-12  56714.531250  57939.363281  ...  75215403907  BTC-USD\n",
              "2021-05-13  49735.433594  51330.843750  ...  96721152926  BTC-USD\n",
              "2021-05-14  49682.980469  51438.117188  ...  55737497453  BTC-USD\n",
              "...                  ...           ...  ...          ...      ...\n",
              "2021-11-06  61068.875000  61590.683594  ...  29094934221  BTC-USD\n",
              "2021-11-07  61554.921875  63326.988281  ...  24726754302  BTC-USD\n",
              "2021-11-08  63344.066406  67673.742188  ...  41125608330  BTC-USD\n",
              "2021-11-09  67549.734375  68530.335938  ...  42357991721  BTC-USD\n",
              "2021-11-10  66953.335938  68789.625000  ...  48730828378  BTC-USD\n",
              "\n",
              "[185 rows x 7 columns]"
            ]
          },
          "metadata": {},
          "execution_count": 24
        }
      ]
    },
    {
      "cell_type": "code",
      "metadata": {
        "id": "rKkXwuPAqsp4"
      },
      "source": [
        "data.to_csv('/content/cripto.csv')"
      ],
      "execution_count": 25,
      "outputs": []
    },
    {
      "cell_type": "code",
      "metadata": {
        "id": "EW2NlbHsUSKk"
      },
      "source": [
        "class TestStrategy(bt.Strategy):\n",
        "    params = (\n",
        "        ('maperiod', 15),\n",
        "        ('printlog', False),\n",
        "    )\n",
        "\n",
        "    def log(self, txt, dt=None, doprint=False):\n",
        "        ''' Logging function fot this strategy'''\n",
        "        if self.params.printlog or doprint:\n",
        "            dt = dt or self.datas[0].datetime.date(0)\n",
        "            print('%s, %s' % (dt.isoformat(), txt))\n",
        "\n",
        "    def __init__(self):\n",
        "        # Keep a reference to the \"close\" line in the data[0] dataseries\n",
        "        self.dataclose = self.datas[0].close\n",
        "\n",
        "        # To keep track of pending orders and buy price/commission\n",
        "        self.order = None\n",
        "        self.buyprice = None\n",
        "        self.buycomm = None\n",
        "\n",
        "        # Add a MovingAverageSimple indicator\n",
        "        self.sma = bt.indicators.SimpleMovingAverage(\n",
        "            self.datas[0], period=self.params.maperiod)\n",
        "\n",
        "    def notify_order(self, order):\n",
        "        if order.status in [order.Submitted, order.Accepted]:\n",
        "            # Buy/Sell order submitted/accepted to/by broker - Nothing to do\n",
        "            return\n",
        "\n",
        "        # Check if an order has been completed\n",
        "        # Attention: broker could reject order if not enough cash\n",
        "        if order.status in [order.Completed]:\n",
        "            if order.isbuy():\n",
        "                self.log(\n",
        "                    'BUY EXECUTED, Price: %.2f, Cost: %.2f, Comm %.2f' %\n",
        "                    (order.executed.price,\n",
        "                     order.executed.value,\n",
        "                     order.executed.comm))\n",
        "\n",
        "                self.buyprice = order.executed.price\n",
        "                self.buycomm = order.executed.comm\n",
        "            else:  # Sell\n",
        "                self.log('SELL EXECUTED, Price: %.2f, Cost: %.2f, Comm %.2f' %\n",
        "                         (order.executed.price,\n",
        "                          order.executed.value,\n",
        "                          order.executed.comm))\n",
        "\n",
        "            self.bar_executed = len(self)\n",
        "\n",
        "        elif order.status in [order.Canceled, order.Margin, order.Rejected]:\n",
        "            self.log('Order Canceled/Margin/Rejected')\n",
        "\n",
        "        # Write down: no pending order\n",
        "        self.order = None\n",
        "\n",
        "    def notify_trade(self, trade):\n",
        "        if not trade.isclosed:\n",
        "            return\n",
        "\n",
        "        self.log('OPERATION PROFIT, GROSS %.2f, NET %.2f' %\n",
        "                 (trade.pnl, trade.pnlcomm))\n",
        "\n",
        "    def next(self):\n",
        "        # Simply log the closing price of the series from the reference\n",
        "        self.log('Close, %.2f' % self.dataclose[0])\n",
        "\n",
        "        # Check if an order is pending ... if yes, we cannot send a 2nd one\n",
        "        if self.order:\n",
        "            return\n",
        "\n",
        "        # Check if we are in the market\n",
        "        if not self.position:\n",
        "\n",
        "            # Not yet ... we MIGHT BUY if ...\n",
        "            if self.dataclose[0] > self.sma[0]:\n",
        "\n",
        "                # BUY, BUY, BUY!!! (with all possible default parameters)\n",
        "                self.log('BUY CREATE, %.2f' % self.dataclose[0])\n",
        "\n",
        "                # Keep track of the created order to avoid a 2nd order\n",
        "                self.order = self.buy()\n",
        "\n",
        "        else:\n",
        "\n",
        "            if self.dataclose[0] < self.sma[0]:\n",
        "                # SELL, SELL, SELL!!! (with all possible default parameters)\n",
        "                self.log('SELL CREATE, %.2f' % self.dataclose[0])\n",
        "\n",
        "                # Keep track of the created order to avoid a 2nd order\n",
        "                self.order = self.sell()\n",
        "\n",
        "    def stop(self):\n",
        "        self.log('(MA Period %2d) Ending Value %.2f' %\n",
        "                 (self.params.maperiod, self.broker.getvalue()), doprint=True)"
      ],
      "execution_count": 26,
      "outputs": []
    },
    {
      "cell_type": "code",
      "metadata": {
        "id": "ZzXKMvT4q0U9"
      },
      "source": [
        "if __name__ == '__main__':\n",
        "    # Create a cerebro entity\n",
        "    cerebro = bt.Cerebro()"
      ],
      "execution_count": 27,
      "outputs": []
    },
    {
      "cell_type": "code",
      "metadata": {
        "id": "38P9wOp3q2Wg"
      },
      "source": [
        " # Add a strategy\n",
        "strats = cerebro.optstrategy(\n",
        "        TestStrategy,\n",
        "        maperiod=range(10, 31))"
      ],
      "execution_count": 28,
      "outputs": []
    },
    {
      "cell_type": "code",
      "metadata": {
        "id": "xWcc_wk2q4F2"
      },
      "source": [
        "# Datas are in a subfolder of the samples. Need to find where the script is\n",
        "    # because it could have been called from anywhere\n",
        "modpath = os.path.dirname(os.path.abspath(sys.argv[0]))\n",
        "datapath = os.path.join(modpath, '/content/cripto.csv')"
      ],
      "execution_count": 29,
      "outputs": []
    },
    {
      "cell_type": "code",
      "metadata": {
        "id": "nSOuy4Q3rDfa"
      },
      "source": [
        "# Create a Data Feed\n",
        "data = bt.feeds.YahooFinanceCSVData(\n",
        "        dataname=datapath,\n",
        "              reverse=False)"
      ],
      "execution_count": 30,
      "outputs": []
    },
    {
      "cell_type": "code",
      "metadata": {
        "colab": {
          "base_uri": "https://localhost:8080/"
        },
        "id": "o4M3fujsrPYn",
        "outputId": "9b1a9177-f111-4dc7-a638-93eb337eb571"
      },
      "source": [
        "# Add the Data Feed to Cerebro\n",
        "cerebro.adddata(data)"
      ],
      "execution_count": 31,
      "outputs": [
        {
          "output_type": "execute_result",
          "data": {
            "text/plain": [
              "<backtrader.feeds.yahoo.YahooFinanceCSVData at 0x7f39313c0cd0>"
            ]
          },
          "metadata": {},
          "execution_count": 31
        }
      ]
    },
    {
      "cell_type": "code",
      "metadata": {
        "colab": {
          "base_uri": "https://localhost:8080/"
        },
        "id": "8rRnYcNirSLw",
        "outputId": "076af45a-d09b-4de6-9aa0-0efea7447136"
      },
      "source": [
        "# Set our desired cash start\n",
        "cerebro.broker.setcash(100000.0)\n",
        "# Print out the starting conditions\n",
        "print('Starting Portfolio Value: %.2f' % cerebro.broker.getvalue())"
      ],
      "execution_count": 32,
      "outputs": [
        {
          "output_type": "stream",
          "name": "stdout",
          "text": [
            "Starting Portfolio Value: 100000.00\n"
          ]
        }
      ]
    },
    {
      "cell_type": "code",
      "metadata": {
        "id": "Kxo67o4H3HHe"
      },
      "source": [
        " # Add a FixedSize sizer according to the stake\n",
        "cerebro.addsizer(bt.sizers.FixedSize, stake=10)\n"
      ],
      "execution_count": 33,
      "outputs": []
    },
    {
      "cell_type": "code",
      "metadata": {
        "id": "HkUyBPKl1EvC"
      },
      "source": [
        "# Set the commission - 0.1% ... divide by 100 to remove the %\n",
        "cerebro.broker.setcommission(commission=0.1)"
      ],
      "execution_count": 34,
      "outputs": []
    },
    {
      "cell_type": "code",
      "metadata": {
        "id": "51FElQYNUyNN",
        "outputId": "dfa7bc7f-d167-4fbd-9fec-268e77d18988",
        "colab": {
          "base_uri": "https://localhost:8080/"
        }
      },
      "source": [
        " # Run over everything\n",
        "cerebro.run(maxcpus=1)"
      ],
      "execution_count": 35,
      "outputs": [
        {
          "output_type": "stream",
          "name": "stdout",
          "text": [
            "2021-11-10, (MA Period 10) Ending Value 100000.00\n",
            "2021-11-10, (MA Period 11) Ending Value 100000.00\n",
            "2021-11-10, (MA Period 12) Ending Value 100000.00\n",
            "2021-11-10, (MA Period 13) Ending Value 100000.00\n",
            "2021-11-10, (MA Period 14) Ending Value 100000.00\n",
            "2021-11-10, (MA Period 15) Ending Value 100000.00\n",
            "2021-11-10, (MA Period 16) Ending Value 100000.00\n",
            "2021-11-10, (MA Period 17) Ending Value 100000.00\n",
            "2021-11-10, (MA Period 18) Ending Value 100000.00\n",
            "2021-11-10, (MA Period 19) Ending Value 100000.00\n",
            "2021-11-10, (MA Period 20) Ending Value 100000.00\n",
            "2021-11-10, (MA Period 21) Ending Value 100000.00\n",
            "2021-11-10, (MA Period 22) Ending Value 100000.00\n",
            "2021-11-10, (MA Period 23) Ending Value 100000.00\n",
            "2021-11-10, (MA Period 24) Ending Value 100000.00\n",
            "2021-11-10, (MA Period 25) Ending Value 100000.00\n",
            "2021-11-10, (MA Period 26) Ending Value 100000.00\n",
            "2021-11-10, (MA Period 27) Ending Value 100000.00\n",
            "2021-11-10, (MA Period 28) Ending Value 100000.00\n",
            "2021-11-10, (MA Period 29) Ending Value 100000.00\n",
            "2021-11-10, (MA Period 30) Ending Value 100000.00\n"
          ]
        },
        {
          "output_type": "execute_result",
          "data": {
            "text/plain": [
              "[[<backtrader.cerebro.OptReturn at 0x7f3930d248d0>],\n",
              " [<backtrader.cerebro.OptReturn at 0x7f3930c6dfd0>],\n",
              " [<backtrader.cerebro.OptReturn at 0x7f3930c2f990>],\n",
              " [<backtrader.cerebro.OptReturn at 0x7f3930bf8210>],\n",
              " [<backtrader.cerebro.OptReturn at 0x7f3930bbb9d0>],\n",
              " [<backtrader.cerebro.OptReturn at 0x7f3930b96290>],\n",
              " [<backtrader.cerebro.OptReturn at 0x7f3930bddfd0>],\n",
              " [<backtrader.cerebro.OptReturn at 0x7f3930c95bd0>],\n",
              " [<backtrader.cerebro.OptReturn at 0x7f3930c6d510>],\n",
              " [<backtrader.cerebro.OptReturn at 0x7f3930c3ef10>],\n",
              " [<backtrader.cerebro.OptReturn at 0x7f3930c7d790>],\n",
              " [<backtrader.cerebro.OptReturn at 0x7f3930d1bc90>],\n",
              " [<backtrader.cerebro.OptReturn at 0x7f39313accd0>],\n",
              " [<backtrader.cerebro.OptReturn at 0x7f3930c7de10>],\n",
              " [<backtrader.cerebro.OptReturn at 0x7f3930b30f90>],\n",
              " [<backtrader.cerebro.OptReturn at 0x7f3930bccf50>],\n",
              " [<backtrader.cerebro.OptReturn at 0x7f3930b90b50>],\n",
              " [<backtrader.cerebro.OptReturn at 0x7f3930bf2610>],\n",
              " [<backtrader.cerebro.OptReturn at 0x7f3930c08bd0>],\n",
              " [<backtrader.cerebro.OptReturn at 0x7f3930afe410>],\n",
              " [<backtrader.cerebro.OptReturn at 0x7f3930d85710>]]"
            ]
          },
          "metadata": {},
          "execution_count": 35
        }
      ]
    },
    {
      "cell_type": "code",
      "metadata": {
        "colab": {
          "base_uri": "https://localhost:8080/"
        },
        "id": "x2GGtVhr1YfN",
        "outputId": "5234155f-53bd-48e4-c173-aaf6a6479f48"
      },
      "source": [
        "# Print out the final result\n",
        "print('Final Portfolio Value: %.2f' % cerebro.broker.getvalue())"
      ],
      "execution_count": 40,
      "outputs": [
        {
          "output_type": "stream",
          "name": "stdout",
          "text": [
            "Final Portfolio Value: 100000.00\n"
          ]
        }
      ]
    }
  ]
}