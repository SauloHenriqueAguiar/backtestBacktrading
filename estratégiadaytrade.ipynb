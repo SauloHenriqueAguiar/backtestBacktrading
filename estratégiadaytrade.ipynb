{
  "nbformat": 4,
  "nbformat_minor": 0,
  "metadata": {
    "colab": {
      "name": "estratégiadaytrade.ipynb",
      "provenance": [],
      "authorship_tag": "ABX9TyN/bPedpaSyt5g53zy4n/RG",
      "include_colab_link": true
    },
    "kernelspec": {
      "name": "python3",
      "display_name": "Python 3"
    },
    "language_info": {
      "name": "python"
    },
    "accelerator": "GPU"
  },
  "cells": [
    {
      "cell_type": "markdown",
      "metadata": {
        "id": "view-in-github",
        "colab_type": "text"
      },
      "source": [
        "<a href=\"https://colab.research.google.com/github/SauloHenriqueAguiar/backtestBacktrading/blob/main/estrat%C3%A9giadaytrade.ipynb\" target=\"_parent\"><img src=\"https://colab.research.google.com/assets/colab-badge.svg\" alt=\"Open In Colab\"/></a>"
      ]
    },
    {
      "cell_type": "code",
      "metadata": {
        "colab": {
          "base_uri": "https://localhost:8080/"
        },
        "id": "MI_cPJLKPVqH",
        "outputId": "c3bf77f5-11a9-4e7e-d103-fa9c5d34ca47"
      },
      "source": [
        "!pip install yahoo_fin\n"
      ],
      "execution_count": 1,
      "outputs": [
        {
          "output_type": "stream",
          "name": "stdout",
          "text": [
            "Collecting yahoo_fin\n",
            "  Downloading yahoo_fin-0.8.9.1-py3-none-any.whl (10 kB)\n",
            "Requirement already satisfied: requests in /usr/local/lib/python3.7/dist-packages (from yahoo_fin) (2.23.0)\n",
            "Requirement already satisfied: pandas in /usr/local/lib/python3.7/dist-packages (from yahoo_fin) (1.1.5)\n",
            "Collecting requests-html\n",
            "  Downloading requests_html-0.10.0-py3-none-any.whl (13 kB)\n",
            "Collecting feedparser\n",
            "  Downloading feedparser-6.0.8-py3-none-any.whl (81 kB)\n",
            "\u001b[K     |████████████████████████████████| 81 kB 4.0 MB/s \n",
            "\u001b[?25hCollecting sgmllib3k\n",
            "  Downloading sgmllib3k-1.0.0.tar.gz (5.8 kB)\n",
            "Requirement already satisfied: pytz>=2017.2 in /usr/local/lib/python3.7/dist-packages (from pandas->yahoo_fin) (2018.9)\n",
            "Requirement already satisfied: python-dateutil>=2.7.3 in /usr/local/lib/python3.7/dist-packages (from pandas->yahoo_fin) (2.8.2)\n",
            "Requirement already satisfied: numpy>=1.15.4 in /usr/local/lib/python3.7/dist-packages (from pandas->yahoo_fin) (1.19.5)\n",
            "Requirement already satisfied: six>=1.5 in /usr/local/lib/python3.7/dist-packages (from python-dateutil>=2.7.3->pandas->yahoo_fin) (1.15.0)\n",
            "Requirement already satisfied: idna<3,>=2.5 in /usr/local/lib/python3.7/dist-packages (from requests->yahoo_fin) (2.10)\n",
            "Requirement already satisfied: chardet<4,>=3.0.2 in /usr/local/lib/python3.7/dist-packages (from requests->yahoo_fin) (3.0.4)\n",
            "Requirement already satisfied: urllib3!=1.25.0,!=1.25.1,<1.26,>=1.21.1 in /usr/local/lib/python3.7/dist-packages (from requests->yahoo_fin) (1.24.3)\n",
            "Requirement already satisfied: certifi>=2017.4.17 in /usr/local/lib/python3.7/dist-packages (from requests->yahoo_fin) (2021.10.8)\n",
            "Requirement already satisfied: bs4 in /usr/local/lib/python3.7/dist-packages (from requests-html->yahoo_fin) (0.0.1)\n",
            "Collecting fake-useragent\n",
            "  Downloading fake-useragent-0.1.11.tar.gz (13 kB)\n",
            "Collecting pyppeteer>=0.0.14\n",
            "  Downloading pyppeteer-0.2.6-py3-none-any.whl (83 kB)\n",
            "\u001b[K     |████████████████████████████████| 83 kB 1.9 MB/s \n",
            "\u001b[?25hCollecting pyquery\n",
            "  Downloading pyquery-1.4.3-py3-none-any.whl (22 kB)\n",
            "Collecting w3lib\n",
            "  Downloading w3lib-1.22.0-py2.py3-none-any.whl (20 kB)\n",
            "Collecting parse\n",
            "  Downloading parse-1.19.0.tar.gz (30 kB)\n",
            "Requirement already satisfied: importlib-metadata>=1.4 in /usr/local/lib/python3.7/dist-packages (from pyppeteer>=0.0.14->requests-html->yahoo_fin) (4.8.2)\n",
            "Collecting websockets<10.0,>=9.1\n",
            "  Downloading websockets-9.1-cp37-cp37m-manylinux2010_x86_64.whl (103 kB)\n",
            "\u001b[K     |████████████████████████████████| 103 kB 43.5 MB/s \n",
            "\u001b[?25hCollecting pyee<9.0.0,>=8.1.0\n",
            "  Downloading pyee-8.2.2-py2.py3-none-any.whl (12 kB)\n",
            "Requirement already satisfied: tqdm<5.0.0,>=4.42.1 in /usr/local/lib/python3.7/dist-packages (from pyppeteer>=0.0.14->requests-html->yahoo_fin) (4.62.3)\n",
            "Requirement already satisfied: appdirs<2.0.0,>=1.4.3 in /usr/local/lib/python3.7/dist-packages (from pyppeteer>=0.0.14->requests-html->yahoo_fin) (1.4.4)\n",
            "Collecting urllib3!=1.25.0,!=1.25.1,<1.26,>=1.21.1\n",
            "  Downloading urllib3-1.25.11-py2.py3-none-any.whl (127 kB)\n",
            "\u001b[K     |████████████████████████████████| 127 kB 39.0 MB/s \n",
            "\u001b[?25hRequirement already satisfied: zipp>=0.5 in /usr/local/lib/python3.7/dist-packages (from importlib-metadata>=1.4->pyppeteer>=0.0.14->requests-html->yahoo_fin) (3.6.0)\n",
            "Requirement already satisfied: typing-extensions>=3.6.4 in /usr/local/lib/python3.7/dist-packages (from importlib-metadata>=1.4->pyppeteer>=0.0.14->requests-html->yahoo_fin) (3.10.0.2)\n",
            "Requirement already satisfied: beautifulsoup4 in /usr/local/lib/python3.7/dist-packages (from bs4->requests-html->yahoo_fin) (4.6.3)\n",
            "Collecting cssselect>0.7.9\n",
            "  Downloading cssselect-1.1.0-py2.py3-none-any.whl (16 kB)\n",
            "Requirement already satisfied: lxml>=2.1 in /usr/local/lib/python3.7/dist-packages (from pyquery->requests-html->yahoo_fin) (4.2.6)\n",
            "Building wheels for collected packages: fake-useragent, parse, sgmllib3k\n",
            "  Building wheel for fake-useragent (setup.py) ... \u001b[?25l\u001b[?25hdone\n",
            "  Created wheel for fake-useragent: filename=fake_useragent-0.1.11-py3-none-any.whl size=13502 sha256=39a5b3e6452b5cc94d895c54b47419390c65d98d47d48c8f1c263a9484bad050\n",
            "  Stored in directory: /root/.cache/pip/wheels/ed/f7/62/50ab6c9a0b5567267ab76a9daa9d06315704209b2c5d032031\n",
            "  Building wheel for parse (setup.py) ... \u001b[?25l\u001b[?25hdone\n",
            "  Created wheel for parse: filename=parse-1.19.0-py3-none-any.whl size=24591 sha256=b3de64d5c4ef8c8f1d86f16f9e59faf1df2fff56c0b92e88475dd8127ec4bcd5\n",
            "  Stored in directory: /root/.cache/pip/wheels/9c/aa/cc/f2228050ccb40f22144b073f15a2c84f11204f29fc0dce028e\n",
            "  Building wheel for sgmllib3k (setup.py) ... \u001b[?25l\u001b[?25hdone\n",
            "  Created wheel for sgmllib3k: filename=sgmllib3k-1.0.0-py3-none-any.whl size=6065 sha256=6fc2b020b6d69ed259671633e1426f28f66e7865ba75e5a22c40fbc1c544cafd\n",
            "  Stored in directory: /root/.cache/pip/wheels/73/ad/a4/0dff4a6ef231fc0dfa12ffbac2a36cebfdddfe059f50e019aa\n",
            "Successfully built fake-useragent parse sgmllib3k\n",
            "Installing collected packages: websockets, urllib3, pyee, cssselect, w3lib, sgmllib3k, pyquery, pyppeteer, parse, fake-useragent, requests-html, feedparser, yahoo-fin\n",
            "  Attempting uninstall: urllib3\n",
            "    Found existing installation: urllib3 1.24.3\n",
            "    Uninstalling urllib3-1.24.3:\n",
            "      Successfully uninstalled urllib3-1.24.3\n",
            "\u001b[31mERROR: pip's dependency resolver does not currently take into account all the packages that are installed. This behaviour is the source of the following dependency conflicts.\n",
            "datascience 0.10.6 requires folium==0.2.1, but you have folium 0.8.3 which is incompatible.\u001b[0m\n",
            "Successfully installed cssselect-1.1.0 fake-useragent-0.1.11 feedparser-6.0.8 parse-1.19.0 pyee-8.2.2 pyppeteer-0.2.6 pyquery-1.4.3 requests-html-0.10.0 sgmllib3k-1.0.0 urllib3-1.25.11 w3lib-1.22.0 websockets-9.1 yahoo-fin-0.8.9.1\n"
          ]
        }
      ]
    },
    {
      "cell_type": "code",
      "metadata": {
        "colab": {
          "base_uri": "https://localhost:8080/"
        },
        "id": "j4Qh36AvP7q4",
        "outputId": "76f45f03-f485-4406-ac03-379cb6d1edcc"
      },
      "source": [
        "#instala biblioteca yfinance\n",
        "!pip install yfinance --upgrade --no-cache-dir"
      ],
      "execution_count": 2,
      "outputs": [
        {
          "output_type": "stream",
          "name": "stdout",
          "text": [
            "Collecting yfinance\n",
            "  Downloading yfinance-0.1.64.tar.gz (26 kB)\n",
            "Requirement already satisfied: pandas>=0.24 in /usr/local/lib/python3.7/dist-packages (from yfinance) (1.1.5)\n",
            "Requirement already satisfied: numpy>=1.15 in /usr/local/lib/python3.7/dist-packages (from yfinance) (1.19.5)\n",
            "Requirement already satisfied: requests>=2.20 in /usr/local/lib/python3.7/dist-packages (from yfinance) (2.23.0)\n",
            "Requirement already satisfied: multitasking>=0.0.7 in /usr/local/lib/python3.7/dist-packages (from yfinance) (0.0.9)\n",
            "Collecting lxml>=4.5.1\n",
            "  Downloading lxml-4.6.4-cp37-cp37m-manylinux_2_17_x86_64.manylinux2014_x86_64.manylinux_2_24_x86_64.whl (6.3 MB)\n",
            "\u001b[K     |████████████████████████████████| 6.3 MB 7.8 MB/s \n",
            "\u001b[?25hRequirement already satisfied: pytz>=2017.2 in /usr/local/lib/python3.7/dist-packages (from pandas>=0.24->yfinance) (2018.9)\n",
            "Requirement already satisfied: python-dateutil>=2.7.3 in /usr/local/lib/python3.7/dist-packages (from pandas>=0.24->yfinance) (2.8.2)\n",
            "Requirement already satisfied: six>=1.5 in /usr/local/lib/python3.7/dist-packages (from python-dateutil>=2.7.3->pandas>=0.24->yfinance) (1.15.0)\n",
            "Requirement already satisfied: idna<3,>=2.5 in /usr/local/lib/python3.7/dist-packages (from requests>=2.20->yfinance) (2.10)\n",
            "Requirement already satisfied: chardet<4,>=3.0.2 in /usr/local/lib/python3.7/dist-packages (from requests>=2.20->yfinance) (3.0.4)\n",
            "Requirement already satisfied: urllib3!=1.25.0,!=1.25.1,<1.26,>=1.21.1 in /usr/local/lib/python3.7/dist-packages (from requests>=2.20->yfinance) (1.25.11)\n",
            "Requirement already satisfied: certifi>=2017.4.17 in /usr/local/lib/python3.7/dist-packages (from requests>=2.20->yfinance) (2021.10.8)\n",
            "Building wheels for collected packages: yfinance\n",
            "  Building wheel for yfinance (setup.py) ... \u001b[?25l\u001b[?25hdone\n",
            "  Created wheel for yfinance: filename=yfinance-0.1.64-py2.py3-none-any.whl size=24109 sha256=4433c741892a015f6b62b40f34a4b976d9c10f9c7370003bdebc883dc48c0a84\n",
            "  Stored in directory: /tmp/pip-ephem-wheel-cache-hpglbext/wheels/86/fe/9b/a4d3d78796b699e37065e5b6c27b75cff448ddb8b24943c288\n",
            "Successfully built yfinance\n",
            "Installing collected packages: lxml, yfinance\n",
            "  Attempting uninstall: lxml\n",
            "    Found existing installation: lxml 4.2.6\n",
            "    Uninstalling lxml-4.2.6:\n",
            "      Successfully uninstalled lxml-4.2.6\n",
            "Successfully installed lxml-4.6.4 yfinance-0.1.64\n"
          ]
        }
      ]
    },
    {
      "cell_type": "code",
      "metadata": {
        "id": "xnnQJk7cQBsZ",
        "outputId": "e9883026-0952-4951-c75c-74813b8bc244",
        "colab": {
          "base_uri": "https://localhost:8080/"
        }
      },
      "source": [
        "#instala request\n",
        "!pip install requests_html"
      ],
      "execution_count": 3,
      "outputs": [
        {
          "output_type": "stream",
          "name": "stdout",
          "text": [
            "Requirement already satisfied: requests_html in /usr/local/lib/python3.7/dist-packages (0.10.0)\n",
            "Requirement already satisfied: fake-useragent in /usr/local/lib/python3.7/dist-packages (from requests_html) (0.1.11)\n",
            "Requirement already satisfied: pyquery in /usr/local/lib/python3.7/dist-packages (from requests_html) (1.4.3)\n",
            "Requirement already satisfied: w3lib in /usr/local/lib/python3.7/dist-packages (from requests_html) (1.22.0)\n",
            "Requirement already satisfied: parse in /usr/local/lib/python3.7/dist-packages (from requests_html) (1.19.0)\n",
            "Requirement already satisfied: pyppeteer>=0.0.14 in /usr/local/lib/python3.7/dist-packages (from requests_html) (0.2.6)\n",
            "Requirement already satisfied: requests in /usr/local/lib/python3.7/dist-packages (from requests_html) (2.23.0)\n",
            "Requirement already satisfied: bs4 in /usr/local/lib/python3.7/dist-packages (from requests_html) (0.0.1)\n",
            "Requirement already satisfied: tqdm<5.0.0,>=4.42.1 in /usr/local/lib/python3.7/dist-packages (from pyppeteer>=0.0.14->requests_html) (4.62.3)\n",
            "Requirement already satisfied: pyee<9.0.0,>=8.1.0 in /usr/local/lib/python3.7/dist-packages (from pyppeteer>=0.0.14->requests_html) (8.2.2)\n",
            "Requirement already satisfied: appdirs<2.0.0,>=1.4.3 in /usr/local/lib/python3.7/dist-packages (from pyppeteer>=0.0.14->requests_html) (1.4.4)\n",
            "Requirement already satisfied: importlib-metadata>=1.4 in /usr/local/lib/python3.7/dist-packages (from pyppeteer>=0.0.14->requests_html) (4.8.2)\n",
            "Requirement already satisfied: urllib3<2.0.0,>=1.25.8 in /usr/local/lib/python3.7/dist-packages (from pyppeteer>=0.0.14->requests_html) (1.25.11)\n",
            "Requirement already satisfied: websockets<10.0,>=9.1 in /usr/local/lib/python3.7/dist-packages (from pyppeteer>=0.0.14->requests_html) (9.1)\n",
            "Requirement already satisfied: typing-extensions>=3.6.4 in /usr/local/lib/python3.7/dist-packages (from importlib-metadata>=1.4->pyppeteer>=0.0.14->requests_html) (3.10.0.2)\n",
            "Requirement already satisfied: zipp>=0.5 in /usr/local/lib/python3.7/dist-packages (from importlib-metadata>=1.4->pyppeteer>=0.0.14->requests_html) (3.6.0)\n",
            "Requirement already satisfied: beautifulsoup4 in /usr/local/lib/python3.7/dist-packages (from bs4->requests_html) (4.6.3)\n",
            "Requirement already satisfied: cssselect>0.7.9 in /usr/local/lib/python3.7/dist-packages (from pyquery->requests_html) (1.1.0)\n",
            "Requirement already satisfied: lxml>=2.1 in /usr/local/lib/python3.7/dist-packages (from pyquery->requests_html) (4.6.4)\n",
            "Requirement already satisfied: certifi>=2017.4.17 in /usr/local/lib/python3.7/dist-packages (from requests->requests_html) (2021.10.8)\n",
            "Requirement already satisfied: idna<3,>=2.5 in /usr/local/lib/python3.7/dist-packages (from requests->requests_html) (2.10)\n",
            "Requirement already satisfied: chardet<4,>=3.0.2 in /usr/local/lib/python3.7/dist-packages (from requests->requests_html) (3.0.4)\n",
            "Requirement already satisfied: six>=1.4.1 in /usr/local/lib/python3.7/dist-packages (from w3lib->requests_html) (1.15.0)\n"
          ]
        }
      ]
    },
    {
      "cell_type": "code",
      "metadata": {
        "id": "3erQm-meQGya",
        "outputId": "5dcfb70b-790c-4c27-f7cd-27af34c9d337",
        "colab": {
          "base_uri": "https://localhost:8080/"
        }
      },
      "source": [
        "# Instalar Backtrader\n",
        "!pip install backtrader"
      ],
      "execution_count": 4,
      "outputs": [
        {
          "output_type": "stream",
          "name": "stdout",
          "text": [
            "Collecting backtrader\n",
            "  Downloading backtrader-1.9.76.123-py2.py3-none-any.whl (410 kB)\n",
            "\u001b[?25l\r\u001b[K     |▉                               | 10 kB 17.1 MB/s eta 0:00:01\r\u001b[K     |█▋                              | 20 kB 22.4 MB/s eta 0:00:01\r\u001b[K     |██▍                             | 30 kB 12.7 MB/s eta 0:00:01\r\u001b[K     |███▏                            | 40 kB 9.8 MB/s eta 0:00:01\r\u001b[K     |████                            | 51 kB 5.5 MB/s eta 0:00:01\r\u001b[K     |████▉                           | 61 kB 6.1 MB/s eta 0:00:01\r\u001b[K     |█████▋                          | 71 kB 5.8 MB/s eta 0:00:01\r\u001b[K     |██████▍                         | 81 kB 6.5 MB/s eta 0:00:01\r\u001b[K     |███████▏                        | 92 kB 4.9 MB/s eta 0:00:01\r\u001b[K     |████████                        | 102 kB 5.3 MB/s eta 0:00:01\r\u001b[K     |████████▉                       | 112 kB 5.3 MB/s eta 0:00:01\r\u001b[K     |█████████▋                      | 122 kB 5.3 MB/s eta 0:00:01\r\u001b[K     |██████████▍                     | 133 kB 5.3 MB/s eta 0:00:01\r\u001b[K     |███████████▏                    | 143 kB 5.3 MB/s eta 0:00:01\r\u001b[K     |████████████                    | 153 kB 5.3 MB/s eta 0:00:01\r\u001b[K     |████████████▉                   | 163 kB 5.3 MB/s eta 0:00:01\r\u001b[K     |█████████████▋                  | 174 kB 5.3 MB/s eta 0:00:01\r\u001b[K     |██████████████▍                 | 184 kB 5.3 MB/s eta 0:00:01\r\u001b[K     |███████████████▏                | 194 kB 5.3 MB/s eta 0:00:01\r\u001b[K     |████████████████                | 204 kB 5.3 MB/s eta 0:00:01\r\u001b[K     |████████████████▉               | 215 kB 5.3 MB/s eta 0:00:01\r\u001b[K     |█████████████████▋              | 225 kB 5.3 MB/s eta 0:00:01\r\u001b[K     |██████████████████▍             | 235 kB 5.3 MB/s eta 0:00:01\r\u001b[K     |███████████████████▏            | 245 kB 5.3 MB/s eta 0:00:01\r\u001b[K     |████████████████████            | 256 kB 5.3 MB/s eta 0:00:01\r\u001b[K     |████████████████████▊           | 266 kB 5.3 MB/s eta 0:00:01\r\u001b[K     |█████████████████████▋          | 276 kB 5.3 MB/s eta 0:00:01\r\u001b[K     |██████████████████████▍         | 286 kB 5.3 MB/s eta 0:00:01\r\u001b[K     |███████████████████████▏        | 296 kB 5.3 MB/s eta 0:00:01\r\u001b[K     |████████████████████████        | 307 kB 5.3 MB/s eta 0:00:01\r\u001b[K     |████████████████████████▊       | 317 kB 5.3 MB/s eta 0:00:01\r\u001b[K     |█████████████████████████▋      | 327 kB 5.3 MB/s eta 0:00:01\r\u001b[K     |██████████████████████████▍     | 337 kB 5.3 MB/s eta 0:00:01\r\u001b[K     |███████████████████████████▏    | 348 kB 5.3 MB/s eta 0:00:01\r\u001b[K     |████████████████████████████    | 358 kB 5.3 MB/s eta 0:00:01\r\u001b[K     |████████████████████████████▊   | 368 kB 5.3 MB/s eta 0:00:01\r\u001b[K     |█████████████████████████████▋  | 378 kB 5.3 MB/s eta 0:00:01\r\u001b[K     |██████████████████████████████▍ | 389 kB 5.3 MB/s eta 0:00:01\r\u001b[K     |███████████████████████████████▏| 399 kB 5.3 MB/s eta 0:00:01\r\u001b[K     |████████████████████████████████| 409 kB 5.3 MB/s eta 0:00:01\r\u001b[K     |████████████████████████████████| 410 kB 5.3 MB/s \n",
            "\u001b[?25hInstalling collected packages: backtrader\n",
            "Successfully installed backtrader-1.9.76.123\n"
          ]
        }
      ]
    },
    {
      "cell_type": "code",
      "metadata": {
        "colab": {
          "base_uri": "https://localhost:8080/"
        },
        "id": "H32TccmBP0XS",
        "outputId": "a53931a3-3bb4-4b33-ce0f-b818de979165"
      },
      "source": [
        "!pip install backtrader[plotting]\n"
      ],
      "execution_count": 5,
      "outputs": [
        {
          "output_type": "stream",
          "name": "stdout",
          "text": [
            "Requirement already satisfied: backtrader[plotting] in /usr/local/lib/python3.7/dist-packages (1.9.76.123)\n",
            "Requirement already satisfied: matplotlib in /usr/local/lib/python3.7/dist-packages (from backtrader[plotting]) (3.2.2)\n",
            "Requirement already satisfied: python-dateutil>=2.1 in /usr/local/lib/python3.7/dist-packages (from matplotlib->backtrader[plotting]) (2.8.2)\n",
            "Requirement already satisfied: kiwisolver>=1.0.1 in /usr/local/lib/python3.7/dist-packages (from matplotlib->backtrader[plotting]) (1.3.2)\n",
            "Requirement already satisfied: pyparsing!=2.0.4,!=2.1.2,!=2.1.6,>=2.0.1 in /usr/local/lib/python3.7/dist-packages (from matplotlib->backtrader[plotting]) (2.4.7)\n",
            "Requirement already satisfied: cycler>=0.10 in /usr/local/lib/python3.7/dist-packages (from matplotlib->backtrader[plotting]) (0.11.0)\n",
            "Requirement already satisfied: numpy>=1.11 in /usr/local/lib/python3.7/dist-packages (from matplotlib->backtrader[plotting]) (1.19.5)\n",
            "Requirement already satisfied: six>=1.5 in /usr/local/lib/python3.7/dist-packages (from python-dateutil>=2.1->matplotlib->backtrader[plotting]) (1.15.0)\n"
          ]
        }
      ]
    },
    {
      "cell_type": "code",
      "metadata": {
        "id": "7Aff77j3QMuI"
      },
      "source": [
        "# Obtenha os pacotes necessários\n",
        "\n",
        "from datetime import datetime\n",
        "import backtrader as bt\n",
        "from IPython.display import display, Image\n",
        "import yfinance as yf\n",
        "import backtrader.analyzers as btanalyzers\n",
        "import backtrader.feeds as btfeeds\n",
        "import backtrader.strategies as btstrats\n",
        "import os\n",
        "import sys\n"
      ],
      "execution_count": 6,
      "outputs": []
    },
    {
      "cell_type": "code",
      "metadata": {
        "id": "mbQY-yKN_1K6",
        "outputId": "293b719c-a287-4c14-805a-5a52d7723e0f",
        "colab": {
          "base_uri": "https://localhost:8080/",
          "height": 419
        }
      },
      "source": [
        "from yahoo_fin.stock_info import get_data\n",
        "data = get_data(\"BTC-USD\", start_date=\"04/04/2021\", end_date=\"11/15/2021\", index_as_date = True, interval=\"1d\")\n",
        "data"
      ],
      "execution_count": 14,
      "outputs": [
        {
          "output_type": "execute_result",
          "data": {
            "text/html": [
              "<div>\n",
              "<style scoped>\n",
              "    .dataframe tbody tr th:only-of-type {\n",
              "        vertical-align: middle;\n",
              "    }\n",
              "\n",
              "    .dataframe tbody tr th {\n",
              "        vertical-align: top;\n",
              "    }\n",
              "\n",
              "    .dataframe thead th {\n",
              "        text-align: right;\n",
              "    }\n",
              "</style>\n",
              "<table border=\"1\" class=\"dataframe\">\n",
              "  <thead>\n",
              "    <tr style=\"text-align: right;\">\n",
              "      <th></th>\n",
              "      <th>open</th>\n",
              "      <th>high</th>\n",
              "      <th>low</th>\n",
              "      <th>close</th>\n",
              "      <th>adjclose</th>\n",
              "      <th>volume</th>\n",
              "      <th>ticker</th>\n",
              "    </tr>\n",
              "  </thead>\n",
              "  <tbody>\n",
              "    <tr>\n",
              "      <th>2021-04-03</th>\n",
              "      <td>57604.839844</td>\n",
              "      <td>58913.746094</td>\n",
              "      <td>57168.675781</td>\n",
              "      <td>58758.554688</td>\n",
              "      <td>58758.554688</td>\n",
              "      <td>50749662970</td>\n",
              "      <td>BTC-USD</td>\n",
              "    </tr>\n",
              "    <tr>\n",
              "      <th>2021-04-04</th>\n",
              "      <td>58760.875000</td>\n",
              "      <td>59891.296875</td>\n",
              "      <td>57694.824219</td>\n",
              "      <td>59057.878906</td>\n",
              "      <td>59057.878906</td>\n",
              "      <td>60706272115</td>\n",
              "      <td>BTC-USD</td>\n",
              "    </tr>\n",
              "    <tr>\n",
              "      <th>2021-04-05</th>\n",
              "      <td>59171.933594</td>\n",
              "      <td>59479.578125</td>\n",
              "      <td>57646.808594</td>\n",
              "      <td>58192.359375</td>\n",
              "      <td>58192.359375</td>\n",
              "      <td>66058027988</td>\n",
              "      <td>BTC-USD</td>\n",
              "    </tr>\n",
              "    <tr>\n",
              "      <th>2021-04-06</th>\n",
              "      <td>58186.507812</td>\n",
              "      <td>58731.144531</td>\n",
              "      <td>55604.023438</td>\n",
              "      <td>56048.937500</td>\n",
              "      <td>56048.937500</td>\n",
              "      <td>75645303584</td>\n",
              "      <td>BTC-USD</td>\n",
              "    </tr>\n",
              "    <tr>\n",
              "      <th>2021-04-07</th>\n",
              "      <td>56099.914062</td>\n",
              "      <td>58338.738281</td>\n",
              "      <td>55879.085938</td>\n",
              "      <td>58323.953125</td>\n",
              "      <td>58323.953125</td>\n",
              "      <td>53053855641</td>\n",
              "      <td>BTC-USD</td>\n",
              "    </tr>\n",
              "    <tr>\n",
              "      <th>...</th>\n",
              "      <td>...</td>\n",
              "      <td>...</td>\n",
              "      <td>...</td>\n",
              "      <td>...</td>\n",
              "      <td>...</td>\n",
              "      <td>...</td>\n",
              "      <td>...</td>\n",
              "    </tr>\n",
              "    <tr>\n",
              "      <th>2021-11-07</th>\n",
              "      <td>61554.921875</td>\n",
              "      <td>63326.988281</td>\n",
              "      <td>61432.488281</td>\n",
              "      <td>63326.988281</td>\n",
              "      <td>63326.988281</td>\n",
              "      <td>24726754302</td>\n",
              "      <td>BTC-USD</td>\n",
              "    </tr>\n",
              "    <tr>\n",
              "      <th>2021-11-08</th>\n",
              "      <td>63344.066406</td>\n",
              "      <td>67673.742188</td>\n",
              "      <td>63344.066406</td>\n",
              "      <td>67566.828125</td>\n",
              "      <td>67566.828125</td>\n",
              "      <td>41125608330</td>\n",
              "      <td>BTC-USD</td>\n",
              "    </tr>\n",
              "    <tr>\n",
              "      <th>2021-11-09</th>\n",
              "      <td>67549.734375</td>\n",
              "      <td>68530.335938</td>\n",
              "      <td>66382.062500</td>\n",
              "      <td>66971.828125</td>\n",
              "      <td>66971.828125</td>\n",
              "      <td>42357991721</td>\n",
              "      <td>BTC-USD</td>\n",
              "    </tr>\n",
              "    <tr>\n",
              "      <th>2021-11-10</th>\n",
              "      <td>66953.335938</td>\n",
              "      <td>68789.625000</td>\n",
              "      <td>63208.113281</td>\n",
              "      <td>64995.230469</td>\n",
              "      <td>64995.230469</td>\n",
              "      <td>48730828378</td>\n",
              "      <td>BTC-USD</td>\n",
              "    </tr>\n",
              "    <tr>\n",
              "      <th>2021-11-11</th>\n",
              "      <td>64636.902344</td>\n",
              "      <td>65516.523438</td>\n",
              "      <td>64234.160156</td>\n",
              "      <td>64812.441406</td>\n",
              "      <td>64812.441406</td>\n",
              "      <td>45414641664</td>\n",
              "      <td>BTC-USD</td>\n",
              "    </tr>\n",
              "  </tbody>\n",
              "</table>\n",
              "<p>222 rows × 7 columns</p>\n",
              "</div>"
            ],
            "text/plain": [
              "                    open          high  ...       volume   ticker\n",
              "2021-04-03  57604.839844  58913.746094  ...  50749662970  BTC-USD\n",
              "2021-04-04  58760.875000  59891.296875  ...  60706272115  BTC-USD\n",
              "2021-04-05  59171.933594  59479.578125  ...  66058027988  BTC-USD\n",
              "2021-04-06  58186.507812  58731.144531  ...  75645303584  BTC-USD\n",
              "2021-04-07  56099.914062  58338.738281  ...  53053855641  BTC-USD\n",
              "...                  ...           ...  ...          ...      ...\n",
              "2021-11-07  61554.921875  63326.988281  ...  24726754302  BTC-USD\n",
              "2021-11-08  63344.066406  67673.742188  ...  41125608330  BTC-USD\n",
              "2021-11-09  67549.734375  68530.335938  ...  42357991721  BTC-USD\n",
              "2021-11-10  66953.335938  68789.625000  ...  48730828378  BTC-USD\n",
              "2021-11-11  64636.902344  65516.523438  ...  45414641664  BTC-USD\n",
              "\n",
              "[222 rows x 7 columns]"
            ]
          },
          "metadata": {},
          "execution_count": 14
        }
      ]
    },
    {
      "cell_type": "code",
      "metadata": {
        "id": "RIqy9JDgBLJF"
      },
      "source": [
        "data.to_csv('/content/bitcoin.csv')\n"
      ],
      "execution_count": 15,
      "outputs": []
    },
    {
      "cell_type": "code",
      "metadata": {
        "id": "pffYtWGJV1k6"
      },
      "source": [
        "from  __future__  import  ( absolute_import ,  division ,  print_function , \n",
        "                        unicode_literals ) \n",
        "\n",
        "import  datetime   # Para objetos datetime \n",
        "import  os.path   # Para gerenciar caminhos \n",
        "import  sys   # Para descobrir o nome do script (em argv [0]) "
      ],
      "execution_count": 16,
      "outputs": []
    },
    {
      "cell_type": "code",
      "metadata": {
        "id": "aBMNQoUvV2pU"
      },
      "source": [
        "# Create a Stratey\n",
        "class TestStrategy(bt.Strategy):\n",
        "\n",
        "    def log(self, csv, dt=None):\n",
        "        ''' Logging function fot this strategy'''\n",
        "        dt = dt or self.datas[0].datetime.date(0)\n",
        "        print('%s, %s' % (dt.isoformat(), csv))\n",
        "\n",
        "    def __init__(self):\n",
        "        # Keep a reference to the \"close\" line in the data[0] dataseries\n",
        "        self.dataclose = self.datas[0].close\n",
        "\n",
        "    def next(self):\n",
        "        # Simply log the closing price of the series from the reference\n",
        "        self.log('Close, %.2f' % self.dataclose[0])\n",
        "\n",
        "        if self.dataclose[0] < self.dataclose[-1]:\n",
        "            # current close less than previous close\n",
        "\n",
        "            if self.dataclose[-1] < self.dataclose[-2]:\n",
        "                # previous close less than the previous close\n",
        "\n",
        "                # BUY, BUY, BUY!!! (with all possible default parameters)\n",
        "                self.log('BUY CREATE, %.2f' % self.dataclose[0])\n",
        "                self.buy()\n"
      ],
      "execution_count": 18,
      "outputs": []
    },
    {
      "cell_type": "code",
      "metadata": {
        "id": "Cr-LWqHaV7S-"
      },
      "source": [
        "if __name__ == '__main__':\n",
        "    # Create a cerebro entity\n",
        "    cerebro = bt.Cerebro()"
      ],
      "execution_count": 19,
      "outputs": []
    },
    {
      "cell_type": "code",
      "metadata": {
        "id": "Xui8_ReUV-W-",
        "outputId": "5e330f32-a742-448d-d6b4-23833186f874",
        "colab": {
          "base_uri": "https://localhost:8080/"
        }
      },
      "source": [
        "# Add a strategy\n",
        "cerebro.addstrategy(TestStrategy)\n"
      ],
      "execution_count": 20,
      "outputs": [
        {
          "output_type": "execute_result",
          "data": {
            "text/plain": [
              "0"
            ]
          },
          "metadata": {},
          "execution_count": 20
        }
      ]
    },
    {
      "cell_type": "code",
      "metadata": {
        "id": "clqWKjUYWL_I"
      },
      "source": [
        "# Datas are in a subfolder of the samples. Need to find where the script is\n",
        "    # because it could have been called from anywhere\n",
        "modpath = os.path.dirname(os.path.abspath(sys.argv[0]))\n",
        "datapath = os.path.join(modpath, '/content/bitcoin.csv')"
      ],
      "execution_count": 23,
      "outputs": []
    },
    {
      "cell_type": "code",
      "metadata": {
        "id": "KjFVQP2_WTCs"
      },
      "source": [
        "# Create a Data Feed\n",
        "data = bt.feeds.YahooFinanceCSVData(\n",
        "        dataname=datapath,\n",
        "        # Do not pass values before this date\n",
        "        fromdate=datetime.datetime(2021, 4, 4),\n",
        "        # Do not pass values before this date\n",
        "        todate=datetime.datetime(2021, 11, 15),\n",
        "        # Do not pass values after this date\n",
        "        reverse=False)\n"
      ],
      "execution_count": 28,
      "outputs": []
    },
    {
      "cell_type": "code",
      "metadata": {
        "id": "uF0rQF3LWZuP",
        "outputId": "5720615f-df4d-409b-a36c-1c876e940513",
        "colab": {
          "base_uri": "https://localhost:8080/"
        }
      },
      "source": [
        "# Add the Data Feed to Cerebro\n",
        "cerebro.adddata(data)"
      ],
      "execution_count": 29,
      "outputs": [
        {
          "output_type": "execute_result",
          "data": {
            "text/plain": [
              "<backtrader.feeds.yahoo.YahooFinanceCSVData at 0x7fc8e38fec50>"
            ]
          },
          "metadata": {},
          "execution_count": 29
        }
      ]
    },
    {
      "cell_type": "code",
      "metadata": {
        "id": "x1iC_aEAWZ2S"
      },
      "source": [
        "# Set our desired cash start\n",
        "cerebro.broker.setcash(100000.0)"
      ],
      "execution_count": 30,
      "outputs": []
    },
    {
      "cell_type": "code",
      "metadata": {
        "id": "gLUz7EXPWhsq",
        "outputId": "7c66db80-cdc5-418d-8414-b49210b32b05",
        "colab": {
          "base_uri": "https://localhost:8080/"
        }
      },
      "source": [
        " # Print out the starting conditions\n",
        "print('Starting Portfolio Value: %.2f' % cerebro.broker.getvalue())"
      ],
      "execution_count": 31,
      "outputs": [
        {
          "output_type": "stream",
          "name": "stdout",
          "text": [
            "Starting Portfolio Value: 100000.00\n"
          ]
        }
      ]
    },
    {
      "cell_type": "code",
      "metadata": {
        "id": "0seGTLDsWjLj",
        "outputId": "cf85e7af-5554-4391-c3fa-2640e5e11dd5",
        "colab": {
          "base_uri": "https://localhost:8080/"
        }
      },
      "source": [
        "# Run over everything\n",
        "cerebro.run()\n"
      ],
      "execution_count": 32,
      "outputs": [
        {
          "output_type": "stream",
          "name": "stdout",
          "text": [
            "2021-04-04, Close, 59057.88\n",
            "2021-04-04, BUY CREATE, 59057.88\n",
            "2021-04-05, Close, 58192.36\n",
            "2021-04-05, BUY CREATE, 58192.36\n",
            "2021-04-06, Close, 56048.94\n",
            "2021-04-06, BUY CREATE, 56048.94\n",
            "2021-04-07, Close, 58323.95\n",
            "2021-04-08, Close, 58245.00\n",
            "2021-04-09, Close, 59793.23\n",
            "2021-04-10, Close, 60204.96\n",
            "2021-04-11, Close, 59893.45\n",
            "2021-04-12, Close, 63503.46\n",
            "2021-04-13, Close, 63109.70\n",
            "2021-04-14, Close, 63314.01\n",
            "2021-04-15, Close, 61572.79\n",
            "2021-04-16, Close, 60683.82\n",
            "2021-04-16, BUY CREATE, 60683.82\n",
            "2021-04-17, Close, 56216.18\n",
            "2021-04-17, BUY CREATE, 56216.18\n",
            "2021-04-18, Close, 55724.27\n",
            "2021-04-18, BUY CREATE, 55724.27\n",
            "2021-04-19, Close, 56473.03\n",
            "2021-04-20, Close, 53906.09\n",
            "2021-04-21, Close, 51762.27\n",
            "2021-04-21, BUY CREATE, 51762.27\n",
            "2021-04-22, Close, 51093.65\n",
            "2021-04-22, BUY CREATE, 51093.65\n",
            "2021-04-23, Close, 50050.87\n",
            "2021-04-23, BUY CREATE, 50050.87\n",
            "2021-04-24, Close, 49004.25\n",
            "2021-04-24, BUY CREATE, 49004.25\n",
            "2021-04-25, Close, 54021.75\n",
            "2021-04-26, Close, 55033.12\n",
            "2021-04-27, Close, 54824.70\n",
            "2021-04-28, Close, 53555.11\n",
            "2021-04-28, BUY CREATE, 53555.11\n",
            "2021-04-29, Close, 57750.18\n",
            "2021-04-30, Close, 57828.05\n",
            "2021-05-01, Close, 56631.08\n",
            "2021-05-02, Close, 57200.29\n",
            "2021-05-03, Close, 53333.54\n",
            "2021-05-04, Close, 57424.01\n",
            "2021-05-05, Close, 56396.52\n",
            "2021-05-06, Close, 57356.40\n",
            "2021-05-07, Close, 58803.78\n",
            "2021-05-08, Close, 58232.32\n",
            "2021-05-09, Close, 55859.80\n",
            "2021-05-09, BUY CREATE, 55859.80\n",
            "2021-05-10, Close, 56704.57\n",
            "2021-05-11, Close, 49150.54\n",
            "2021-05-12, Close, 49716.19\n",
            "2021-05-13, Close, 49880.54\n",
            "2021-05-14, Close, 46760.19\n",
            "2021-05-15, Close, 46456.06\n",
            "2021-05-15, BUY CREATE, 46456.06\n",
            "2021-05-16, Close, 43537.51\n",
            "2021-05-16, BUY CREATE, 43537.51\n",
            "2021-05-17, Close, 42909.40\n",
            "2021-05-17, BUY CREATE, 42909.40\n",
            "2021-05-18, Close, 37002.44\n",
            "2021-05-18, BUY CREATE, 37002.44\n",
            "2021-05-19, Close, 40782.74\n",
            "2021-05-20, Close, 37304.69\n",
            "2021-05-21, Close, 37536.63\n",
            "2021-05-22, Close, 34770.58\n",
            "2021-05-23, Close, 38705.98\n",
            "2021-05-24, Close, 38402.22\n",
            "2021-05-25, Close, 39294.20\n",
            "2021-05-26, Close, 38436.97\n",
            "2021-05-27, Close, 35697.61\n",
            "2021-05-27, BUY CREATE, 35697.61\n",
            "2021-05-28, Close, 34616.07\n",
            "2021-05-28, BUY CREATE, 34616.07\n",
            "2021-05-29, Close, 35678.13\n",
            "2021-05-30, Close, 37332.86\n",
            "2021-05-31, Close, 36684.93\n",
            "2021-06-01, Close, 37575.18\n",
            "2021-06-02, Close, 39208.77\n",
            "2021-06-03, Close, 36894.41\n",
            "2021-06-04, Close, 35551.96\n",
            "2021-06-04, BUY CREATE, 35551.96\n",
            "2021-06-05, Close, 35862.38\n",
            "2021-06-06, Close, 33560.71\n",
            "2021-06-07, Close, 33472.63\n",
            "2021-06-07, BUY CREATE, 33472.63\n",
            "2021-06-08, Close, 37345.12\n",
            "2021-06-09, Close, 36702.60\n",
            "2021-06-10, Close, 37334.40\n",
            "2021-06-11, Close, 35552.52\n",
            "2021-06-12, Close, 39097.86\n",
            "2021-06-13, Close, 40218.48\n",
            "2021-06-14, Close, 40406.27\n",
            "2021-06-15, Close, 38347.06\n",
            "2021-06-16, Close, 38053.50\n",
            "2021-06-16, BUY CREATE, 38053.50\n",
            "2021-06-17, Close, 35787.25\n",
            "2021-06-17, BUY CREATE, 35787.25\n",
            "2021-06-18, Close, 35615.87\n",
            "2021-06-18, BUY CREATE, 35615.87\n",
            "2021-06-19, Close, 35698.30\n",
            "2021-06-20, Close, 31676.69\n",
            "2021-06-21, Close, 32505.66\n",
            "2021-06-22, Close, 33723.03\n",
            "2021-06-23, Close, 34662.44\n",
            "2021-06-24, Close, 31637.78\n",
            "2021-06-25, Close, 32186.28\n",
            "2021-06-26, Close, 34649.64\n",
            "2021-06-27, Close, 34434.34\n",
            "2021-06-28, Close, 35867.78\n",
            "2021-06-29, Close, 35040.84\n",
            "2021-06-30, Close, 33572.12\n",
            "2021-06-30, BUY CREATE, 33572.12\n",
            "2021-07-01, Close, 33897.05\n",
            "2021-07-02, Close, 34668.55\n",
            "2021-07-03, Close, 35287.78\n",
            "2021-07-04, Close, 33746.00\n",
            "2021-07-05, Close, 34235.20\n",
            "2021-07-06, Close, 33855.33\n",
            "2021-07-07, Close, 32877.37\n",
            "2021-07-07, BUY CREATE, 32877.37\n",
            "2021-07-08, Close, 33798.01\n",
            "2021-07-09, Close, 33520.52\n",
            "2021-07-10, Close, 34240.19\n",
            "2021-07-11, Close, 33155.85\n",
            "2021-07-12, Close, 32702.03\n",
            "2021-07-12, BUY CREATE, 32702.03\n",
            "2021-07-13, Close, 32822.35\n",
            "2021-07-14, Close, 31780.73\n",
            "2021-07-15, Close, 31421.54\n",
            "2021-07-15, BUY CREATE, 31421.54\n",
            "2021-07-16, Close, 31533.07\n",
            "2021-07-17, Close, 31796.81\n",
            "2021-07-18, Close, 30817.83\n",
            "2021-07-19, Close, 29807.35\n",
            "2021-07-19, BUY CREATE, 29807.35\n",
            "2021-07-20, Close, 32110.69\n",
            "2021-07-21, Close, 32313.11\n",
            "2021-07-22, Close, 33581.55\n",
            "2021-07-23, Close, 34292.45\n",
            "2021-07-24, Close, 35350.19\n",
            "2021-07-25, Close, 37337.54\n",
            "2021-07-26, Close, 39406.94\n",
            "2021-07-27, Close, 39995.91\n",
            "2021-07-28, Close, 40008.42\n",
            "2021-07-29, Close, 42235.55\n",
            "2021-07-30, Close, 41626.20\n",
            "2021-07-31, Close, 39974.89\n",
            "2021-07-31, BUY CREATE, 39974.89\n",
            "2021-08-01, Close, 39201.95\n",
            "2021-08-01, BUY CREATE, 39201.95\n",
            "2021-08-02, Close, 38152.98\n",
            "2021-08-02, BUY CREATE, 38152.98\n",
            "2021-08-03, Close, 39747.50\n",
            "2021-08-04, Close, 40869.55\n",
            "2021-08-05, Close, 42816.50\n",
            "2021-08-06, Close, 44555.80\n",
            "2021-08-07, Close, 43798.12\n",
            "2021-08-08, Close, 46365.40\n",
            "2021-08-09, Close, 45585.03\n",
            "2021-08-10, Close, 45593.64\n",
            "2021-08-11, Close, 44428.29\n",
            "2021-08-12, Close, 47793.32\n",
            "2021-08-13, Close, 47096.95\n",
            "2021-08-14, Close, 47047.00\n",
            "2021-08-14, BUY CREATE, 47047.00\n",
            "2021-08-15, Close, 46004.48\n",
            "2021-08-15, BUY CREATE, 46004.48\n",
            "2021-08-16, Close, 44695.36\n",
            "2021-08-16, BUY CREATE, 44695.36\n",
            "2021-08-17, Close, 44801.19\n",
            "2021-08-18, Close, 46717.58\n",
            "2021-08-19, Close, 49339.18\n",
            "2021-08-20, Close, 48905.49\n",
            "2021-08-21, Close, 49321.65\n",
            "2021-08-22, Close, 49546.15\n",
            "2021-08-23, Close, 47706.12\n",
            "2021-08-24, Close, 48960.79\n",
            "2021-08-25, Close, 46942.22\n",
            "2021-08-26, Close, 49058.67\n",
            "2021-08-27, Close, 48902.40\n",
            "2021-08-28, Close, 48829.83\n",
            "2021-08-28, BUY CREATE, 48829.83\n",
            "2021-08-29, Close, 47054.98\n",
            "2021-08-29, BUY CREATE, 47054.98\n",
            "2021-08-30, Close, 47166.69\n",
            "2021-08-31, Close, 48847.03\n",
            "2021-09-01, Close, 49327.72\n",
            "2021-09-02, Close, 50025.38\n",
            "2021-09-03, Close, 49944.62\n",
            "2021-09-04, Close, 51753.41\n",
            "2021-09-05, Close, 52633.54\n",
            "2021-09-06, Close, 46811.13\n",
            "2021-09-07, Close, 46091.39\n",
            "2021-09-07, BUY CREATE, 46091.39\n",
            "2021-09-08, Close, 46391.42\n",
            "2021-09-09, Close, 44883.91\n",
            "2021-09-10, Close, 45201.46\n",
            "2021-09-11, Close, 46063.27\n",
            "2021-09-12, Close, 44963.07\n",
            "2021-09-13, Close, 47092.49\n",
            "2021-09-14, Close, 48176.35\n",
            "2021-09-15, Close, 47783.36\n",
            "2021-09-16, Close, 47267.52\n",
            "2021-09-16, BUY CREATE, 47267.52\n",
            "2021-09-17, Close, 48278.36\n",
            "2021-09-18, Close, 47260.22\n",
            "2021-09-19, Close, 42843.80\n",
            "2021-09-19, BUY CREATE, 42843.80\n",
            "2021-09-20, Close, 40693.68\n",
            "2021-09-20, BUY CREATE, 40693.68\n",
            "2021-09-21, Close, 43574.51\n",
            "2021-09-22, Close, 44895.10\n",
            "2021-09-23, Close, 42839.75\n",
            "2021-09-24, Close, 42716.59\n",
            "2021-09-24, BUY CREATE, 42716.59\n",
            "2021-09-25, Close, 43208.54\n",
            "2021-09-26, Close, 42235.73\n",
            "2021-09-27, Close, 41034.54\n",
            "2021-09-27, BUY CREATE, 41034.54\n",
            "2021-09-28, Close, 41564.36\n",
            "2021-09-29, Close, 43790.89\n",
            "2021-09-30, Close, 48116.94\n",
            "2021-10-01, Close, 47711.49\n",
            "2021-10-02, Close, 48199.95\n",
            "2021-10-03, Close, 49112.90\n",
            "2021-10-04, Close, 51514.81\n",
            "2021-10-05, Close, 55361.45\n",
            "2021-10-06, Close, 53805.98\n",
            "2021-10-07, Close, 53967.85\n",
            "2021-10-08, Close, 54968.22\n",
            "2021-10-09, Close, 54771.58\n",
            "2021-10-10, Close, 57484.79\n",
            "2021-10-11, Close, 56041.06\n",
            "2021-10-12, Close, 57401.10\n",
            "2021-10-13, Close, 57321.52\n",
            "2021-10-14, Close, 61593.95\n",
            "2021-10-15, Close, 60892.18\n",
            "2021-10-16, Close, 61553.62\n",
            "2021-10-17, Close, 62026.08\n",
            "2021-10-18, Close, 64261.99\n",
            "2021-10-19, Close, 65992.84\n",
            "2021-10-20, Close, 62210.17\n",
            "2021-10-21, Close, 60692.27\n",
            "2021-10-21, BUY CREATE, 60692.27\n",
            "2021-10-22, Close, 61393.62\n",
            "2021-10-23, Close, 60930.84\n",
            "2021-10-24, Close, 63039.82\n",
            "2021-10-25, Close, 60363.79\n",
            "2021-10-26, Close, 58482.39\n",
            "2021-10-26, BUY CREATE, 58482.39\n",
            "2021-10-27, Close, 60622.14\n",
            "2021-10-28, Close, 62227.96\n",
            "2021-10-29, Close, 61888.83\n",
            "2021-10-30, Close, 61318.96\n",
            "2021-10-30, BUY CREATE, 61318.96\n",
            "2021-11-01, Close, 61004.41\n",
            "2021-11-01, BUY CREATE, 61004.41\n",
            "2021-11-02, Close, 63226.40\n",
            "2021-11-03, Close, 62970.05\n",
            "2021-11-04, Close, 61452.23\n",
            "2021-11-04, BUY CREATE, 61452.23\n",
            "2021-11-05, Close, 61125.68\n",
            "2021-11-05, BUY CREATE, 61125.68\n",
            "2021-11-06, Close, 61527.48\n",
            "2021-11-07, Close, 63326.99\n",
            "2021-11-08, Close, 67566.83\n",
            "2021-11-09, Close, 66971.83\n",
            "2021-11-10, Close, 64995.23\n",
            "2021-11-10, BUY CREATE, 64995.23\n",
            "2021-11-11, Close, 64812.44\n",
            "2021-11-11, BUY CREATE, 64812.44\n"
          ]
        },
        {
          "output_type": "execute_result",
          "data": {
            "text/plain": [
              "[<__main__.TestStrategy at 0x7fc8e38f8050>]"
            ]
          },
          "metadata": {},
          "execution_count": 32
        }
      ]
    },
    {
      "cell_type": "code",
      "metadata": {
        "id": "pPpkBUgcYe4G",
        "outputId": "61a72ebf-10a2-4c8f-8ded-9641ebc91ce5",
        "colab": {
          "base_uri": "https://localhost:8080/"
        }
      },
      "source": [
        "# Print out the final result\n",
        "print('Final Portfolio Value: %.2f' % cerebro.broker.getvalue())"
      ],
      "execution_count": 34,
      "outputs": [
        {
          "output_type": "stream",
          "name": "stdout",
          "text": [
            "Final Portfolio Value: 133699.28\n"
          ]
        }
      ]
    }
  ]
}