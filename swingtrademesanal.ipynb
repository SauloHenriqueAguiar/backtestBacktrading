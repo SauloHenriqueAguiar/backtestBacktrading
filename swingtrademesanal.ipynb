{
  "nbformat": 4,
  "nbformat_minor": 0,
  "metadata": {
    "colab": {
      "name": "swingtrademesanal.ipynb",
      "provenance": [],
      "authorship_tag": "ABX9TyMm2cjJ9soBZVg+1zNel68N",
      "include_colab_link": true
    },
    "kernelspec": {
      "name": "python3",
      "display_name": "Python 3"
    },
    "language_info": {
      "name": "python"
    }
  },
  "cells": [
    {
      "cell_type": "markdown",
      "metadata": {
        "id": "view-in-github",
        "colab_type": "text"
      },
      "source": [
        "<a href=\"https://colab.research.google.com/github/SauloHenriqueAguiar/backtestBacktrading/blob/main/swingtrademesanal.ipynb\" target=\"_parent\"><img src=\"https://colab.research.google.com/assets/colab-badge.svg\" alt=\"Open In Colab\"/></a>"
      ]
    },
    {
      "cell_type": "code",
      "metadata": {
        "colab": {
          "base_uri": "https://localhost:8080/"
        },
        "id": "H2wiuPFDtXs-",
        "outputId": "366053f5-d191-43b2-a2e9-05ecbe06f3f3"
      },
      "source": [
        "!pip install yahoo_fin\n"
      ],
      "execution_count": 1,
      "outputs": [
        {
          "output_type": "stream",
          "name": "stdout",
          "text": [
            "Collecting yahoo_fin\n",
            "  Downloading yahoo_fin-0.8.9.1-py3-none-any.whl (10 kB)\n",
            "Requirement already satisfied: pandas in /usr/local/lib/python3.7/dist-packages (from yahoo_fin) (1.1.5)\n",
            "Requirement already satisfied: requests in /usr/local/lib/python3.7/dist-packages (from yahoo_fin) (2.23.0)\n",
            "Collecting feedparser\n",
            "  Downloading feedparser-6.0.8-py3-none-any.whl (81 kB)\n",
            "\u001b[K     |████████████████████████████████| 81 kB 3.5 MB/s \n",
            "\u001b[?25hCollecting requests-html\n",
            "  Downloading requests_html-0.10.0-py3-none-any.whl (13 kB)\n",
            "Collecting sgmllib3k\n",
            "  Downloading sgmllib3k-1.0.0.tar.gz (5.8 kB)\n",
            "Requirement already satisfied: numpy>=1.15.4 in /usr/local/lib/python3.7/dist-packages (from pandas->yahoo_fin) (1.19.5)\n",
            "Requirement already satisfied: pytz>=2017.2 in /usr/local/lib/python3.7/dist-packages (from pandas->yahoo_fin) (2018.9)\n",
            "Requirement already satisfied: python-dateutil>=2.7.3 in /usr/local/lib/python3.7/dist-packages (from pandas->yahoo_fin) (2.8.2)\n",
            "Requirement already satisfied: six>=1.5 in /usr/local/lib/python3.7/dist-packages (from python-dateutil>=2.7.3->pandas->yahoo_fin) (1.15.0)\n",
            "Requirement already satisfied: urllib3!=1.25.0,!=1.25.1,<1.26,>=1.21.1 in /usr/local/lib/python3.7/dist-packages (from requests->yahoo_fin) (1.24.3)\n",
            "Requirement already satisfied: certifi>=2017.4.17 in /usr/local/lib/python3.7/dist-packages (from requests->yahoo_fin) (2021.10.8)\n",
            "Requirement already satisfied: chardet<4,>=3.0.2 in /usr/local/lib/python3.7/dist-packages (from requests->yahoo_fin) (3.0.4)\n",
            "Requirement already satisfied: idna<3,>=2.5 in /usr/local/lib/python3.7/dist-packages (from requests->yahoo_fin) (2.10)\n",
            "Collecting w3lib\n",
            "  Downloading w3lib-1.22.0-py2.py3-none-any.whl (20 kB)\n",
            "Collecting parse\n",
            "  Downloading parse-1.19.0.tar.gz (30 kB)\n",
            "Collecting pyppeteer>=0.0.14\n",
            "  Downloading pyppeteer-0.2.6-py3-none-any.whl (83 kB)\n",
            "\u001b[K     |████████████████████████████████| 83 kB 2.4 MB/s \n",
            "\u001b[?25hCollecting fake-useragent\n",
            "  Downloading fake-useragent-0.1.11.tar.gz (13 kB)\n",
            "Requirement already satisfied: bs4 in /usr/local/lib/python3.7/dist-packages (from requests-html->yahoo_fin) (0.0.1)\n",
            "Collecting pyquery\n",
            "  Downloading pyquery-1.4.3-py3-none-any.whl (22 kB)\n",
            "Requirement already satisfied: tqdm<5.0.0,>=4.42.1 in /usr/local/lib/python3.7/dist-packages (from pyppeteer>=0.0.14->requests-html->yahoo_fin) (4.62.3)\n",
            "Requirement already satisfied: appdirs<2.0.0,>=1.4.3 in /usr/local/lib/python3.7/dist-packages (from pyppeteer>=0.0.14->requests-html->yahoo_fin) (1.4.4)\n",
            "Collecting pyee<9.0.0,>=8.1.0\n",
            "  Downloading pyee-8.2.2-py2.py3-none-any.whl (12 kB)\n",
            "Collecting urllib3!=1.25.0,!=1.25.1,<1.26,>=1.21.1\n",
            "  Downloading urllib3-1.25.11-py2.py3-none-any.whl (127 kB)\n",
            "\u001b[K     |████████████████████████████████| 127 kB 51.7 MB/s \n",
            "\u001b[?25hCollecting websockets<10.0,>=9.1\n",
            "  Downloading websockets-9.1-cp37-cp37m-manylinux2010_x86_64.whl (103 kB)\n",
            "\u001b[K     |████████████████████████████████| 103 kB 44.3 MB/s \n",
            "\u001b[?25hRequirement already satisfied: importlib-metadata>=1.4 in /usr/local/lib/python3.7/dist-packages (from pyppeteer>=0.0.14->requests-html->yahoo_fin) (4.8.2)\n",
            "Requirement already satisfied: zipp>=0.5 in /usr/local/lib/python3.7/dist-packages (from importlib-metadata>=1.4->pyppeteer>=0.0.14->requests-html->yahoo_fin) (3.6.0)\n",
            "Requirement already satisfied: typing-extensions>=3.6.4 in /usr/local/lib/python3.7/dist-packages (from importlib-metadata>=1.4->pyppeteer>=0.0.14->requests-html->yahoo_fin) (3.10.0.2)\n",
            "Requirement already satisfied: beautifulsoup4 in /usr/local/lib/python3.7/dist-packages (from bs4->requests-html->yahoo_fin) (4.6.3)\n",
            "Collecting cssselect>0.7.9\n",
            "  Downloading cssselect-1.1.0-py2.py3-none-any.whl (16 kB)\n",
            "Requirement already satisfied: lxml>=2.1 in /usr/local/lib/python3.7/dist-packages (from pyquery->requests-html->yahoo_fin) (4.2.6)\n",
            "Building wheels for collected packages: fake-useragent, parse, sgmllib3k\n",
            "  Building wheel for fake-useragent (setup.py) ... \u001b[?25l\u001b[?25hdone\n",
            "  Created wheel for fake-useragent: filename=fake_useragent-0.1.11-py3-none-any.whl size=13502 sha256=5644fbbadeeeedbb641ed3af0146d7398ffb7cba8e5dfa1b5a6d9f0d3e874159\n",
            "  Stored in directory: /root/.cache/pip/wheels/ed/f7/62/50ab6c9a0b5567267ab76a9daa9d06315704209b2c5d032031\n",
            "  Building wheel for parse (setup.py) ... \u001b[?25l\u001b[?25hdone\n",
            "  Created wheel for parse: filename=parse-1.19.0-py3-none-any.whl size=24591 sha256=a901fba0a497837c778b54fb092193cbc67505f981cde26390fddfbc6b25ffda\n",
            "  Stored in directory: /root/.cache/pip/wheels/9c/aa/cc/f2228050ccb40f22144b073f15a2c84f11204f29fc0dce028e\n",
            "  Building wheel for sgmllib3k (setup.py) ... \u001b[?25l\u001b[?25hdone\n",
            "  Created wheel for sgmllib3k: filename=sgmllib3k-1.0.0-py3-none-any.whl size=6065 sha256=8fb76897fe170d21808a350377211b031e509a02142c665ccc710b87f2a4548c\n",
            "  Stored in directory: /root/.cache/pip/wheels/73/ad/a4/0dff4a6ef231fc0dfa12ffbac2a36cebfdddfe059f50e019aa\n",
            "Successfully built fake-useragent parse sgmllib3k\n",
            "Installing collected packages: websockets, urllib3, pyee, cssselect, w3lib, sgmllib3k, pyquery, pyppeteer, parse, fake-useragent, requests-html, feedparser, yahoo-fin\n",
            "  Attempting uninstall: urllib3\n",
            "    Found existing installation: urllib3 1.24.3\n",
            "    Uninstalling urllib3-1.24.3:\n",
            "      Successfully uninstalled urllib3-1.24.3\n",
            "\u001b[31mERROR: pip's dependency resolver does not currently take into account all the packages that are installed. This behaviour is the source of the following dependency conflicts.\n",
            "datascience 0.10.6 requires folium==0.2.1, but you have folium 0.8.3 which is incompatible.\u001b[0m\n",
            "Successfully installed cssselect-1.1.0 fake-useragent-0.1.11 feedparser-6.0.8 parse-1.19.0 pyee-8.2.2 pyppeteer-0.2.6 pyquery-1.4.3 requests-html-0.10.0 sgmllib3k-1.0.0 urllib3-1.25.11 w3lib-1.22.0 websockets-9.1 yahoo-fin-0.8.9.1\n"
          ]
        }
      ]
    },
    {
      "cell_type": "code",
      "metadata": {
        "colab": {
          "base_uri": "https://localhost:8080/"
        },
        "id": "MZdazL8ltiU0",
        "outputId": "6ee8978d-b20a-45ed-ac53-4f1e15f818e6"
      },
      "source": [
        "#instala biblioteca yfinance\n",
        "!pip install yfinance --upgrade --no-cache-dir"
      ],
      "execution_count": 2,
      "outputs": [
        {
          "output_type": "stream",
          "name": "stdout",
          "text": [
            "Collecting yfinance\n",
            "  Downloading yfinance-0.1.64.tar.gz (26 kB)\n",
            "Requirement already satisfied: pandas>=0.24 in /usr/local/lib/python3.7/dist-packages (from yfinance) (1.1.5)\n",
            "Requirement already satisfied: numpy>=1.15 in /usr/local/lib/python3.7/dist-packages (from yfinance) (1.19.5)\n",
            "Requirement already satisfied: requests>=2.20 in /usr/local/lib/python3.7/dist-packages (from yfinance) (2.23.0)\n",
            "Requirement already satisfied: multitasking>=0.0.7 in /usr/local/lib/python3.7/dist-packages (from yfinance) (0.0.9)\n",
            "Collecting lxml>=4.5.1\n",
            "  Downloading lxml-4.6.4-cp37-cp37m-manylinux_2_17_x86_64.manylinux2014_x86_64.manylinux_2_24_x86_64.whl (6.3 MB)\n",
            "\u001b[K     |████████████████████████████████| 6.3 MB 8.0 MB/s \n",
            "\u001b[?25hRequirement already satisfied: python-dateutil>=2.7.3 in /usr/local/lib/python3.7/dist-packages (from pandas>=0.24->yfinance) (2.8.2)\n",
            "Requirement already satisfied: pytz>=2017.2 in /usr/local/lib/python3.7/dist-packages (from pandas>=0.24->yfinance) (2018.9)\n",
            "Requirement already satisfied: six>=1.5 in /usr/local/lib/python3.7/dist-packages (from python-dateutil>=2.7.3->pandas>=0.24->yfinance) (1.15.0)\n",
            "Requirement already satisfied: chardet<4,>=3.0.2 in /usr/local/lib/python3.7/dist-packages (from requests>=2.20->yfinance) (3.0.4)\n",
            "Requirement already satisfied: idna<3,>=2.5 in /usr/local/lib/python3.7/dist-packages (from requests>=2.20->yfinance) (2.10)\n",
            "Requirement already satisfied: urllib3!=1.25.0,!=1.25.1,<1.26,>=1.21.1 in /usr/local/lib/python3.7/dist-packages (from requests>=2.20->yfinance) (1.25.11)\n",
            "Requirement already satisfied: certifi>=2017.4.17 in /usr/local/lib/python3.7/dist-packages (from requests>=2.20->yfinance) (2021.10.8)\n",
            "Building wheels for collected packages: yfinance\n",
            "  Building wheel for yfinance (setup.py) ... \u001b[?25l\u001b[?25hdone\n",
            "  Created wheel for yfinance: filename=yfinance-0.1.64-py2.py3-none-any.whl size=24109 sha256=71c7acbaa94fb296912167b42aa49438e8a71b03e93fefe3d824304fac32fd94\n",
            "  Stored in directory: /tmp/pip-ephem-wheel-cache-qqdbp1nf/wheels/86/fe/9b/a4d3d78796b699e37065e5b6c27b75cff448ddb8b24943c288\n",
            "Successfully built yfinance\n",
            "Installing collected packages: lxml, yfinance\n",
            "  Attempting uninstall: lxml\n",
            "    Found existing installation: lxml 4.2.6\n",
            "    Uninstalling lxml-4.2.6:\n",
            "      Successfully uninstalled lxml-4.2.6\n",
            "Successfully installed lxml-4.6.4 yfinance-0.1.64\n"
          ]
        }
      ]
    },
    {
      "cell_type": "code",
      "metadata": {
        "colab": {
          "base_uri": "https://localhost:8080/"
        },
        "id": "nQRxHbp7tm1M",
        "outputId": "6a8f0531-8489-4672-d216-69102041dcd5"
      },
      "source": [
        "#instala request\n",
        "!pip install requests_html"
      ],
      "execution_count": 3,
      "outputs": [
        {
          "output_type": "stream",
          "name": "stdout",
          "text": [
            "Requirement already satisfied: requests_html in /usr/local/lib/python3.7/dist-packages (0.10.0)\n",
            "Requirement already satisfied: requests in /usr/local/lib/python3.7/dist-packages (from requests_html) (2.23.0)\n",
            "Requirement already satisfied: pyquery in /usr/local/lib/python3.7/dist-packages (from requests_html) (1.4.3)\n",
            "Requirement already satisfied: pyppeteer>=0.0.14 in /usr/local/lib/python3.7/dist-packages (from requests_html) (0.2.6)\n",
            "Requirement already satisfied: bs4 in /usr/local/lib/python3.7/dist-packages (from requests_html) (0.0.1)\n",
            "Requirement already satisfied: fake-useragent in /usr/local/lib/python3.7/dist-packages (from requests_html) (0.1.11)\n",
            "Requirement already satisfied: parse in /usr/local/lib/python3.7/dist-packages (from requests_html) (1.19.0)\n",
            "Requirement already satisfied: w3lib in /usr/local/lib/python3.7/dist-packages (from requests_html) (1.22.0)\n",
            "Requirement already satisfied: urllib3<2.0.0,>=1.25.8 in /usr/local/lib/python3.7/dist-packages (from pyppeteer>=0.0.14->requests_html) (1.25.11)\n",
            "Requirement already satisfied: appdirs<2.0.0,>=1.4.3 in /usr/local/lib/python3.7/dist-packages (from pyppeteer>=0.0.14->requests_html) (1.4.4)\n",
            "Requirement already satisfied: pyee<9.0.0,>=8.1.0 in /usr/local/lib/python3.7/dist-packages (from pyppeteer>=0.0.14->requests_html) (8.2.2)\n",
            "Requirement already satisfied: websockets<10.0,>=9.1 in /usr/local/lib/python3.7/dist-packages (from pyppeteer>=0.0.14->requests_html) (9.1)\n",
            "Requirement already satisfied: tqdm<5.0.0,>=4.42.1 in /usr/local/lib/python3.7/dist-packages (from pyppeteer>=0.0.14->requests_html) (4.62.3)\n",
            "Requirement already satisfied: importlib-metadata>=1.4 in /usr/local/lib/python3.7/dist-packages (from pyppeteer>=0.0.14->requests_html) (4.8.2)\n",
            "Requirement already satisfied: zipp>=0.5 in /usr/local/lib/python3.7/dist-packages (from importlib-metadata>=1.4->pyppeteer>=0.0.14->requests_html) (3.6.0)\n",
            "Requirement already satisfied: typing-extensions>=3.6.4 in /usr/local/lib/python3.7/dist-packages (from importlib-metadata>=1.4->pyppeteer>=0.0.14->requests_html) (3.10.0.2)\n",
            "Requirement already satisfied: beautifulsoup4 in /usr/local/lib/python3.7/dist-packages (from bs4->requests_html) (4.6.3)\n",
            "Requirement already satisfied: lxml>=2.1 in /usr/local/lib/python3.7/dist-packages (from pyquery->requests_html) (4.6.4)\n",
            "Requirement already satisfied: cssselect>0.7.9 in /usr/local/lib/python3.7/dist-packages (from pyquery->requests_html) (1.1.0)\n",
            "Requirement already satisfied: idna<3,>=2.5 in /usr/local/lib/python3.7/dist-packages (from requests->requests_html) (2.10)\n",
            "Requirement already satisfied: certifi>=2017.4.17 in /usr/local/lib/python3.7/dist-packages (from requests->requests_html) (2021.10.8)\n",
            "Requirement already satisfied: chardet<4,>=3.0.2 in /usr/local/lib/python3.7/dist-packages (from requests->requests_html) (3.0.4)\n",
            "Requirement already satisfied: six>=1.4.1 in /usr/local/lib/python3.7/dist-packages (from w3lib->requests_html) (1.15.0)\n"
          ]
        }
      ]
    },
    {
      "cell_type": "code",
      "metadata": {
        "colab": {
          "base_uri": "https://localhost:8080/"
        },
        "id": "VsAkOe8EtscU",
        "outputId": "ef0deb0d-8940-426d-c274-9fffc5e3962d"
      },
      "source": [
        "# Instalar Backtrader\n",
        "!pip install backtrader"
      ],
      "execution_count": 4,
      "outputs": [
        {
          "output_type": "stream",
          "name": "stdout",
          "text": [
            "Collecting backtrader\n",
            "  Downloading backtrader-1.9.76.123-py2.py3-none-any.whl (410 kB)\n",
            "\u001b[?25l\r\u001b[K     |▉                               | 10 kB 24.5 MB/s eta 0:00:01\r\u001b[K     |█▋                              | 20 kB 29.3 MB/s eta 0:00:01\r\u001b[K     |██▍                             | 30 kB 13.1 MB/s eta 0:00:01\r\u001b[K     |███▏                            | 40 kB 9.9 MB/s eta 0:00:01\r\u001b[K     |████                            | 51 kB 5.4 MB/s eta 0:00:01\r\u001b[K     |████▉                           | 61 kB 6.0 MB/s eta 0:00:01\r\u001b[K     |█████▋                          | 71 kB 5.7 MB/s eta 0:00:01\r\u001b[K     |██████▍                         | 81 kB 6.4 MB/s eta 0:00:01\r\u001b[K     |███████▏                        | 92 kB 4.9 MB/s eta 0:00:01\r\u001b[K     |████████                        | 102 kB 5.3 MB/s eta 0:00:01\r\u001b[K     |████████▉                       | 112 kB 5.3 MB/s eta 0:00:01\r\u001b[K     |█████████▋                      | 122 kB 5.3 MB/s eta 0:00:01\r\u001b[K     |██████████▍                     | 133 kB 5.3 MB/s eta 0:00:01\r\u001b[K     |███████████▏                    | 143 kB 5.3 MB/s eta 0:00:01\r\u001b[K     |████████████                    | 153 kB 5.3 MB/s eta 0:00:01\r\u001b[K     |████████████▉                   | 163 kB 5.3 MB/s eta 0:00:01\r\u001b[K     |█████████████▋                  | 174 kB 5.3 MB/s eta 0:00:01\r\u001b[K     |██████████████▍                 | 184 kB 5.3 MB/s eta 0:00:01\r\u001b[K     |███████████████▏                | 194 kB 5.3 MB/s eta 0:00:01\r\u001b[K     |████████████████                | 204 kB 5.3 MB/s eta 0:00:01\r\u001b[K     |████████████████▉               | 215 kB 5.3 MB/s eta 0:00:01\r\u001b[K     |█████████████████▋              | 225 kB 5.3 MB/s eta 0:00:01\r\u001b[K     |██████████████████▍             | 235 kB 5.3 MB/s eta 0:00:01\r\u001b[K     |███████████████████▏            | 245 kB 5.3 MB/s eta 0:00:01\r\u001b[K     |████████████████████            | 256 kB 5.3 MB/s eta 0:00:01\r\u001b[K     |████████████████████▊           | 266 kB 5.3 MB/s eta 0:00:01\r\u001b[K     |█████████████████████▋          | 276 kB 5.3 MB/s eta 0:00:01\r\u001b[K     |██████████████████████▍         | 286 kB 5.3 MB/s eta 0:00:01\r\u001b[K     |███████████████████████▏        | 296 kB 5.3 MB/s eta 0:00:01\r\u001b[K     |████████████████████████        | 307 kB 5.3 MB/s eta 0:00:01\r\u001b[K     |████████████████████████▊       | 317 kB 5.3 MB/s eta 0:00:01\r\u001b[K     |█████████████████████████▋      | 327 kB 5.3 MB/s eta 0:00:01\r\u001b[K     |██████████████████████████▍     | 337 kB 5.3 MB/s eta 0:00:01\r\u001b[K     |███████████████████████████▏    | 348 kB 5.3 MB/s eta 0:00:01\r\u001b[K     |████████████████████████████    | 358 kB 5.3 MB/s eta 0:00:01\r\u001b[K     |████████████████████████████▊   | 368 kB 5.3 MB/s eta 0:00:01\r\u001b[K     |█████████████████████████████▋  | 378 kB 5.3 MB/s eta 0:00:01\r\u001b[K     |██████████████████████████████▍ | 389 kB 5.3 MB/s eta 0:00:01\r\u001b[K     |███████████████████████████████▏| 399 kB 5.3 MB/s eta 0:00:01\r\u001b[K     |████████████████████████████████| 409 kB 5.3 MB/s eta 0:00:01\r\u001b[K     |████████████████████████████████| 410 kB 5.3 MB/s \n",
            "\u001b[?25hInstalling collected packages: backtrader\n",
            "Successfully installed backtrader-1.9.76.123\n"
          ]
        }
      ]
    },
    {
      "cell_type": "code",
      "metadata": {
        "colab": {
          "base_uri": "https://localhost:8080/"
        },
        "id": "eLG0XB8ltuWa",
        "outputId": "7e6f4741-5eac-42e3-d7b1-708dd6e96d8e"
      },
      "source": [
        "!pip install backtrader[plotting]\n"
      ],
      "execution_count": 5,
      "outputs": [
        {
          "output_type": "stream",
          "name": "stdout",
          "text": [
            "Requirement already satisfied: backtrader[plotting] in /usr/local/lib/python3.7/dist-packages (1.9.76.123)\n",
            "Requirement already satisfied: matplotlib in /usr/local/lib/python3.7/dist-packages (from backtrader[plotting]) (3.2.2)\n",
            "Requirement already satisfied: numpy>=1.11 in /usr/local/lib/python3.7/dist-packages (from matplotlib->backtrader[plotting]) (1.19.5)\n",
            "Requirement already satisfied: pyparsing!=2.0.4,!=2.1.2,!=2.1.6,>=2.0.1 in /usr/local/lib/python3.7/dist-packages (from matplotlib->backtrader[plotting]) (2.4.7)\n",
            "Requirement already satisfied: python-dateutil>=2.1 in /usr/local/lib/python3.7/dist-packages (from matplotlib->backtrader[plotting]) (2.8.2)\n",
            "Requirement already satisfied: kiwisolver>=1.0.1 in /usr/local/lib/python3.7/dist-packages (from matplotlib->backtrader[plotting]) (1.3.2)\n",
            "Requirement already satisfied: cycler>=0.10 in /usr/local/lib/python3.7/dist-packages (from matplotlib->backtrader[plotting]) (0.11.0)\n",
            "Requirement already satisfied: six>=1.5 in /usr/local/lib/python3.7/dist-packages (from python-dateutil>=2.1->matplotlib->backtrader[plotting]) (1.15.0)\n"
          ]
        }
      ]
    },
    {
      "cell_type": "code",
      "metadata": {
        "id": "jFqz3DCrtwlQ"
      },
      "source": [
        "# Obtenha os pacotes necessários\n",
        "\n",
        "from datetime import datetime\n",
        "import backtrader as bt\n",
        "from IPython.display import display, Image\n",
        "import yfinance as yf\n",
        "import backtrader.analyzers as btanalyzers\n",
        "import backtrader.feeds as btfeeds\n",
        "import backtrader.strategies as btstrats\n",
        "import os\n",
        "import sys"
      ],
      "execution_count": 6,
      "outputs": []
    },
    {
      "cell_type": "code",
      "metadata": {
        "colab": {
          "base_uri": "https://localhost:8080/",
          "height": 917
        },
        "id": "PWoZ_-3pty1h",
        "outputId": "a3cdd0ff-d31f-4c07-8890-5ab40f286949"
      },
      "source": [
        "from yahoo_fin.stock_info import get_data\n",
        "data = get_data(\"BTC-USD\", start_date=\"05/15/2021\", end_date=\"11/11/2021\", index_as_date = True, interval=\"1wk\")\n",
        "data"
      ],
      "execution_count": 20,
      "outputs": [
        {
          "output_type": "execute_result",
          "data": {
            "text/html": [
              "<div>\n",
              "<style scoped>\n",
              "    .dataframe tbody tr th:only-of-type {\n",
              "        vertical-align: middle;\n",
              "    }\n",
              "\n",
              "    .dataframe tbody tr th {\n",
              "        vertical-align: top;\n",
              "    }\n",
              "\n",
              "    .dataframe thead th {\n",
              "        text-align: right;\n",
              "    }\n",
              "</style>\n",
              "<table border=\"1\" class=\"dataframe\">\n",
              "  <thead>\n",
              "    <tr style=\"text-align: right;\">\n",
              "      <th></th>\n",
              "      <th>open</th>\n",
              "      <th>high</th>\n",
              "      <th>low</th>\n",
              "      <th>close</th>\n",
              "      <th>adjclose</th>\n",
              "      <th>volume</th>\n",
              "      <th>ticker</th>\n",
              "    </tr>\n",
              "  </thead>\n",
              "  <tbody>\n",
              "    <tr>\n",
              "      <th>2021-05-09</th>\n",
              "      <td>49855.496094</td>\n",
              "      <td>50639.664062</td>\n",
              "      <td>43963.351562</td>\n",
              "      <td>46456.058594</td>\n",
              "      <td>46456.058594</td>\n",
              "      <td>123208919029</td>\n",
              "      <td>BTC-USD</td>\n",
              "    </tr>\n",
              "    <tr>\n",
              "      <th>2021-05-16</th>\n",
              "      <td>46415.898438</td>\n",
              "      <td>46623.558594</td>\n",
              "      <td>30681.496094</td>\n",
              "      <td>34770.582031</td>\n",
              "      <td>34770.582031</td>\n",
              "      <td>563629210102</td>\n",
              "      <td>BTC-USD</td>\n",
              "    </tr>\n",
              "    <tr>\n",
              "      <th>2021-05-23</th>\n",
              "      <td>34700.363281</td>\n",
              "      <td>40782.078125</td>\n",
              "      <td>33520.738281</td>\n",
              "      <td>35678.128906</td>\n",
              "      <td>35678.128906</td>\n",
              "      <td>350206489990</td>\n",
              "      <td>BTC-USD</td>\n",
              "    </tr>\n",
              "    <tr>\n",
              "      <th>2021-05-30</th>\n",
              "      <td>35658.593750</td>\n",
              "      <td>39478.953125</td>\n",
              "      <td>34241.945312</td>\n",
              "      <td>35862.378906</td>\n",
              "      <td>35862.378906</td>\n",
              "      <td>248884892724</td>\n",
              "      <td>BTC-USD</td>\n",
              "    </tr>\n",
              "    <tr>\n",
              "      <th>2021-06-06</th>\n",
              "      <td>35835.265625</td>\n",
              "      <td>39322.781250</td>\n",
              "      <td>31114.443359</td>\n",
              "      <td>39097.859375</td>\n",
              "      <td>39097.859375</td>\n",
              "      <td>298428017340</td>\n",
              "      <td>BTC-USD</td>\n",
              "    </tr>\n",
              "    <tr>\n",
              "      <th>2021-06-13</th>\n",
              "      <td>39016.968750</td>\n",
              "      <td>41295.269531</td>\n",
              "      <td>33432.074219</td>\n",
              "      <td>35698.296875</td>\n",
              "      <td>35698.296875</td>\n",
              "      <td>269949570053</td>\n",
              "      <td>BTC-USD</td>\n",
              "    </tr>\n",
              "    <tr>\n",
              "      <th>2021-06-20</th>\n",
              "      <td>35641.144531</td>\n",
              "      <td>35721.640625</td>\n",
              "      <td>28893.621094</td>\n",
              "      <td>34649.644531</td>\n",
              "      <td>34649.644531</td>\n",
              "      <td>305541799334</td>\n",
              "      <td>BTC-USD</td>\n",
              "    </tr>\n",
              "    <tr>\n",
              "      <th>2021-06-27</th>\n",
              "      <td>34679.121094</td>\n",
              "      <td>36542.109375</td>\n",
              "      <td>32770.679688</td>\n",
              "      <td>35287.781250</td>\n",
              "      <td>35287.781250</td>\n",
              "      <td>231729218470</td>\n",
              "      <td>BTC-USD</td>\n",
              "    </tr>\n",
              "    <tr>\n",
              "      <th>2021-07-04</th>\n",
              "      <td>35284.343750</td>\n",
              "      <td>35284.343750</td>\n",
              "      <td>32133.183594</td>\n",
              "      <td>34240.187500</td>\n",
              "      <td>34240.187500</td>\n",
              "      <td>178445862441</td>\n",
              "      <td>BTC-USD</td>\n",
              "    </tr>\n",
              "    <tr>\n",
              "      <th>2021-07-11</th>\n",
              "      <td>34254.015625</td>\n",
              "      <td>34592.156250</td>\n",
              "      <td>31100.673828</td>\n",
              "      <td>31796.810547</td>\n",
              "      <td>31796.810547</td>\n",
              "      <td>147501894180</td>\n",
              "      <td>BTC-USD</td>\n",
              "    </tr>\n",
              "    <tr>\n",
              "      <th>2021-07-18</th>\n",
              "      <td>31800.011719</td>\n",
              "      <td>35364.925781</td>\n",
              "      <td>29360.955078</td>\n",
              "      <td>35350.187500</td>\n",
              "      <td>35350.187500</td>\n",
              "      <td>156414750211</td>\n",
              "      <td>BTC-USD</td>\n",
              "    </tr>\n",
              "    <tr>\n",
              "      <th>2021-07-25</th>\n",
              "      <td>35384.031250</td>\n",
              "      <td>42541.679688</td>\n",
              "      <td>35287.312500</td>\n",
              "      <td>39974.894531</td>\n",
              "      <td>39974.894531</td>\n",
              "      <td>237553113912</td>\n",
              "      <td>BTC-USD</td>\n",
              "    </tr>\n",
              "    <tr>\n",
              "      <th>2021-08-01</th>\n",
              "      <td>39907.261719</td>\n",
              "      <td>45282.351562</td>\n",
              "      <td>37458.003906</td>\n",
              "      <td>43798.117188</td>\n",
              "      <td>43798.117188</td>\n",
              "      <td>226902699564</td>\n",
              "      <td>BTC-USD</td>\n",
              "    </tr>\n",
              "    <tr>\n",
              "      <th>2021-08-08</th>\n",
              "      <td>43791.925781</td>\n",
              "      <td>48098.683594</td>\n",
              "      <td>42848.687500</td>\n",
              "      <td>47047.003906</td>\n",
              "      <td>47047.003906</td>\n",
              "      <td>234268000892</td>\n",
              "      <td>BTC-USD</td>\n",
              "    </tr>\n",
              "    <tr>\n",
              "      <th>2021-08-15</th>\n",
              "      <td>47019.960938</td>\n",
              "      <td>49717.019531</td>\n",
              "      <td>43998.316406</td>\n",
              "      <td>49321.652344</td>\n",
              "      <td>49321.652344</td>\n",
              "      <td>236289722726</td>\n",
              "      <td>BTC-USD</td>\n",
              "    </tr>\n",
              "    <tr>\n",
              "      <th>2021-08-22</th>\n",
              "      <td>49291.675781</td>\n",
              "      <td>50482.078125</td>\n",
              "      <td>46394.281250</td>\n",
              "      <td>48829.832031</td>\n",
              "      <td>48829.832031</td>\n",
              "      <td>223947952688</td>\n",
              "      <td>BTC-USD</td>\n",
              "    </tr>\n",
              "    <tr>\n",
              "      <th>2021-08-29</th>\n",
              "      <td>48834.851562</td>\n",
              "      <td>51868.679688</td>\n",
              "      <td>46562.437500</td>\n",
              "      <td>51753.410156</td>\n",
              "      <td>51753.410156</td>\n",
              "      <td>256225023619</td>\n",
              "      <td>BTC-USD</td>\n",
              "    </tr>\n",
              "    <tr>\n",
              "      <th>2021-09-05</th>\n",
              "      <td>51769.003906</td>\n",
              "      <td>52853.765625</td>\n",
              "      <td>43285.207031</td>\n",
              "      <td>46063.269531</td>\n",
              "      <td>46063.269531</td>\n",
              "      <td>293311066613</td>\n",
              "      <td>BTC-USD</td>\n",
              "    </tr>\n",
              "    <tr>\n",
              "      <th>2021-09-12</th>\n",
              "      <td>46057.214844</td>\n",
              "      <td>48791.781250</td>\n",
              "      <td>43591.320312</td>\n",
              "      <td>47260.218750</td>\n",
              "      <td>47260.218750</td>\n",
              "      <td>226141953163</td>\n",
              "      <td>BTC-USD</td>\n",
              "    </tr>\n",
              "    <tr>\n",
              "      <th>2021-09-19</th>\n",
              "      <td>47261.406250</td>\n",
              "      <td>47328.199219</td>\n",
              "      <td>39787.609375</td>\n",
              "      <td>43208.539062</td>\n",
              "      <td>43208.539062</td>\n",
              "      <td>270099994433</td>\n",
              "      <td>BTC-USD</td>\n",
              "    </tr>\n",
              "    <tr>\n",
              "      <th>2021-09-26</th>\n",
              "      <td>43234.183594</td>\n",
              "      <td>49130.691406</td>\n",
              "      <td>40829.667969</td>\n",
              "      <td>48199.953125</td>\n",
              "      <td>48199.953125</td>\n",
              "      <td>223042115392</td>\n",
              "      <td>BTC-USD</td>\n",
              "    </tr>\n",
              "    <tr>\n",
              "      <th>2021-10-03</th>\n",
              "      <td>48208.906250</td>\n",
              "      <td>56401.304688</td>\n",
              "      <td>47045.003906</td>\n",
              "      <td>54771.578125</td>\n",
              "      <td>54771.578125</td>\n",
              "      <td>261919545521</td>\n",
              "      <td>BTC-USD</td>\n",
              "    </tr>\n",
              "    <tr>\n",
              "      <th>2021-10-10</th>\n",
              "      <td>54734.125000</td>\n",
              "      <td>62757.128906</td>\n",
              "      <td>54370.972656</td>\n",
              "      <td>61553.617188</td>\n",
              "      <td>61553.617188</td>\n",
              "      <td>277084548345</td>\n",
              "      <td>BTC-USD</td>\n",
              "    </tr>\n",
              "    <tr>\n",
              "      <th>2021-10-17</th>\n",
              "      <td>61548.804688</td>\n",
              "      <td>66930.390625</td>\n",
              "      <td>59643.343750</td>\n",
              "      <td>60930.835938</td>\n",
              "      <td>60930.835938</td>\n",
              "      <td>257856648064</td>\n",
              "      <td>BTC-USD</td>\n",
              "    </tr>\n",
              "    <tr>\n",
              "      <th>2021-10-24</th>\n",
              "      <td>60893.925781</td>\n",
              "      <td>63729.324219</td>\n",
              "      <td>58206.917969</td>\n",
              "      <td>61318.957031</td>\n",
              "      <td>61318.957031</td>\n",
              "      <td>256114057651</td>\n",
              "      <td>BTC-USD</td>\n",
              "    </tr>\n",
              "    <tr>\n",
              "      <th>2021-11-01</th>\n",
              "      <td>61320.449219</td>\n",
              "      <td>64242.792969</td>\n",
              "      <td>59695.183594</td>\n",
              "      <td>63326.988281</td>\n",
              "      <td>63326.988281</td>\n",
              "      <td>227064607869</td>\n",
              "      <td>BTC-USD</td>\n",
              "    </tr>\n",
              "    <tr>\n",
              "      <th>2021-11-08</th>\n",
              "      <td>63344.066406</td>\n",
              "      <td>68789.625000</td>\n",
              "      <td>63208.113281</td>\n",
              "      <td>64995.230469</td>\n",
              "      <td>64995.230469</td>\n",
              "      <td>132214428429</td>\n",
              "      <td>BTC-USD</td>\n",
              "    </tr>\n",
              "    <tr>\n",
              "      <th>2021-11-11</th>\n",
              "      <td>64636.902344</td>\n",
              "      <td>65516.523438</td>\n",
              "      <td>64234.160156</td>\n",
              "      <td>65004.027344</td>\n",
              "      <td>65004.027344</td>\n",
              "      <td>43579875328</td>\n",
              "      <td>BTC-USD</td>\n",
              "    </tr>\n",
              "  </tbody>\n",
              "</table>\n",
              "</div>"
            ],
            "text/plain": [
              "                    open          high  ...        volume   ticker\n",
              "2021-05-09  49855.496094  50639.664062  ...  123208919029  BTC-USD\n",
              "2021-05-16  46415.898438  46623.558594  ...  563629210102  BTC-USD\n",
              "2021-05-23  34700.363281  40782.078125  ...  350206489990  BTC-USD\n",
              "2021-05-30  35658.593750  39478.953125  ...  248884892724  BTC-USD\n",
              "2021-06-06  35835.265625  39322.781250  ...  298428017340  BTC-USD\n",
              "2021-06-13  39016.968750  41295.269531  ...  269949570053  BTC-USD\n",
              "2021-06-20  35641.144531  35721.640625  ...  305541799334  BTC-USD\n",
              "2021-06-27  34679.121094  36542.109375  ...  231729218470  BTC-USD\n",
              "2021-07-04  35284.343750  35284.343750  ...  178445862441  BTC-USD\n",
              "2021-07-11  34254.015625  34592.156250  ...  147501894180  BTC-USD\n",
              "2021-07-18  31800.011719  35364.925781  ...  156414750211  BTC-USD\n",
              "2021-07-25  35384.031250  42541.679688  ...  237553113912  BTC-USD\n",
              "2021-08-01  39907.261719  45282.351562  ...  226902699564  BTC-USD\n",
              "2021-08-08  43791.925781  48098.683594  ...  234268000892  BTC-USD\n",
              "2021-08-15  47019.960938  49717.019531  ...  236289722726  BTC-USD\n",
              "2021-08-22  49291.675781  50482.078125  ...  223947952688  BTC-USD\n",
              "2021-08-29  48834.851562  51868.679688  ...  256225023619  BTC-USD\n",
              "2021-09-05  51769.003906  52853.765625  ...  293311066613  BTC-USD\n",
              "2021-09-12  46057.214844  48791.781250  ...  226141953163  BTC-USD\n",
              "2021-09-19  47261.406250  47328.199219  ...  270099994433  BTC-USD\n",
              "2021-09-26  43234.183594  49130.691406  ...  223042115392  BTC-USD\n",
              "2021-10-03  48208.906250  56401.304688  ...  261919545521  BTC-USD\n",
              "2021-10-10  54734.125000  62757.128906  ...  277084548345  BTC-USD\n",
              "2021-10-17  61548.804688  66930.390625  ...  257856648064  BTC-USD\n",
              "2021-10-24  60893.925781  63729.324219  ...  256114057651  BTC-USD\n",
              "2021-11-01  61320.449219  64242.792969  ...  227064607869  BTC-USD\n",
              "2021-11-08  63344.066406  68789.625000  ...  132214428429  BTC-USD\n",
              "2021-11-11  64636.902344  65516.523438  ...   43579875328  BTC-USD\n",
              "\n",
              "[28 rows x 7 columns]"
            ]
          },
          "metadata": {},
          "execution_count": 20
        }
      ]
    },
    {
      "cell_type": "code",
      "metadata": {
        "id": "I6yvFffVuBc0"
      },
      "source": [
        "data.to_csv('/content/bitcoin.csv')\n"
      ],
      "execution_count": 21,
      "outputs": []
    },
    {
      "cell_type": "code",
      "metadata": {
        "id": "ChKB1XLSuFAs"
      },
      "source": [
        "from  __future__  import  ( absolute_import ,  division ,  print_function , \n",
        "                        unicode_literals ) \n",
        "\n",
        "import  datetime   # Para objetos datetime \n",
        "import  os.path   # Para gerenciar caminhos \n",
        "import  sys   # Para descobrir o nome do script (em argv [0])"
      ],
      "execution_count": 22,
      "outputs": []
    },
    {
      "cell_type": "code",
      "metadata": {
        "id": "wzmKPiSiuH5m"
      },
      "source": [
        "# Cria a  estrategia\n",
        "class TestStrategy(bt.Strategy):\n",
        "\n",
        "    def log(self, csv, dt=None):\n",
        "        ''' Logging function fot this strategy'''\n",
        "        dt = dt or self.datas[0].datetime.date(0)\n",
        "        print('%s, %s' % (dt.isoformat(), csv))\n",
        "\n",
        "    def __init__(self):\n",
        "        # Mantenha uma referência à linha \"fechar\" na série de dados data [0]\n",
        "        self.dataclose = self.datas[0].close\n",
        "\n",
        "    def next(self):\n",
        "        # Basta registrar o preço de fechamento da série da referência\n",
        "        self.log('FECHAR, %.2f' % self.dataclose[0])\n",
        "\n",
        "        if self.dataclose[0] < self.dataclose[-1]:\n",
        "            # fechamento atual menor que fechamento anterior\n",
        "\n",
        "            if self.dataclose[-1] < self.dataclose[-2]:\n",
        "                # fechamento anterior menor que o fechamento anterior\n",
        "\n",
        "                # COMPRE, COMPRE, COMPRE !!! (com todos os parâmetros padrão possíveis)\n",
        "                self.log('CRIAR COMPRA, %.2f' % self.dataclose[0])\n",
        "                self.buy()"
      ],
      "execution_count": 23,
      "outputs": []
    },
    {
      "cell_type": "code",
      "metadata": {
        "id": "p86L3EsvuKOy"
      },
      "source": [
        "if __name__ == '__main__':\n",
        "    # Create a cerebro entity\n",
        "    cerebro = bt.Cerebro()"
      ],
      "execution_count": 24,
      "outputs": []
    },
    {
      "cell_type": "code",
      "metadata": {
        "colab": {
          "base_uri": "https://localhost:8080/"
        },
        "id": "DKyhOndfuMAs",
        "outputId": "552e112b-fbed-4584-8f5d-0a189a9a0754"
      },
      "source": [
        "# Add a strategy\n",
        "cerebro.addstrategy(TestStrategy)"
      ],
      "execution_count": 25,
      "outputs": [
        {
          "output_type": "execute_result",
          "data": {
            "text/plain": [
              "0"
            ]
          },
          "metadata": {},
          "execution_count": 25
        }
      ]
    },
    {
      "cell_type": "code",
      "metadata": {
        "id": "L5UIfj5NuOMt"
      },
      "source": [
        "# Datas are in a subfolder of the samples. Need to find where the script is\n",
        "    # because it could have been called from anywhere\n",
        "modpath = os.path.dirname(os.path.abspath(sys.argv[0]))\n",
        "datapath = os.path.join(modpath, '/content/bitcoin.csv')"
      ],
      "execution_count": 26,
      "outputs": []
    },
    {
      "cell_type": "code",
      "metadata": {
        "id": "1Y2xRYXIuQWu"
      },
      "source": [
        "# Create a Data Feed\n",
        "data = bt.feeds.YahooFinanceCSVData(\n",
        "        dataname=datapath,\n",
        "              reverse=False)"
      ],
      "execution_count": 27,
      "outputs": []
    },
    {
      "cell_type": "code",
      "metadata": {
        "colab": {
          "base_uri": "https://localhost:8080/"
        },
        "id": "wcw-GW4xuSr_",
        "outputId": "d62e771b-e0c9-4abf-fab4-a911393f630f"
      },
      "source": [
        "# Add the Data Feed to Cerebro\n",
        "cerebro.adddata(data)"
      ],
      "execution_count": 28,
      "outputs": [
        {
          "output_type": "execute_result",
          "data": {
            "text/plain": [
              "<backtrader.feeds.yahoo.YahooFinanceCSVData at 0x7fc9a8e41a90>"
            ]
          },
          "metadata": {},
          "execution_count": 28
        }
      ]
    },
    {
      "cell_type": "code",
      "metadata": {
        "colab": {
          "base_uri": "https://localhost:8080/"
        },
        "id": "4Vi8d_9kuVfI",
        "outputId": "f1db2ae2-945b-4534-e37b-c5c4711c3037"
      },
      "source": [
        "# Set our desired cash start\n",
        "cerebro.broker.setcash(100000.0)\n",
        "# Print out the starting conditions\n",
        "print('Valor Inicial do Portfólio: %.2f' % cerebro.broker.getvalue())"
      ],
      "execution_count": 29,
      "outputs": [
        {
          "output_type": "stream",
          "name": "stdout",
          "text": [
            "Valor Inicial do Portfólio: 100000.00\n"
          ]
        }
      ]
    },
    {
      "cell_type": "code",
      "metadata": {
        "colab": {
          "base_uri": "https://localhost:8080/"
        },
        "id": "t4fZNpd_uYVy",
        "outputId": "90222238-f15a-4733-e5e8-fdcfbb71c38c"
      },
      "source": [
        "# Rodando cerebro\n",
        "cerebro.run()"
      ],
      "execution_count": 30,
      "outputs": [
        {
          "output_type": "stream",
          "name": "stdout",
          "text": [
            "2021-05-09, FECHAR, 46456.06\n",
            "2021-05-16, FECHAR, 34770.58\n",
            "2021-05-16, CRIAR COMPRA, 34770.58\n",
            "2021-05-23, FECHAR, 35678.13\n",
            "2021-05-30, FECHAR, 35862.38\n",
            "2021-06-06, FECHAR, 39097.86\n",
            "2021-06-13, FECHAR, 35698.30\n",
            "2021-06-20, FECHAR, 34649.64\n",
            "2021-06-20, CRIAR COMPRA, 34649.64\n",
            "2021-06-27, FECHAR, 35287.78\n",
            "2021-07-04, FECHAR, 34240.19\n",
            "2021-07-11, FECHAR, 31796.81\n",
            "2021-07-11, CRIAR COMPRA, 31796.81\n",
            "2021-07-18, FECHAR, 35350.19\n",
            "2021-07-25, FECHAR, 39974.89\n",
            "2021-08-01, FECHAR, 43798.12\n",
            "2021-08-08, FECHAR, 47047.00\n",
            "2021-08-15, FECHAR, 49321.65\n",
            "2021-08-22, FECHAR, 48829.83\n",
            "2021-08-29, FECHAR, 51753.41\n",
            "2021-09-05, FECHAR, 46063.27\n",
            "2021-09-12, FECHAR, 47260.22\n",
            "2021-09-19, FECHAR, 43208.54\n",
            "2021-09-26, FECHAR, 48199.95\n",
            "2021-10-03, FECHAR, 54771.58\n",
            "2021-10-10, FECHAR, 61553.62\n",
            "2021-10-17, FECHAR, 60930.84\n",
            "2021-10-24, FECHAR, 61318.96\n",
            "2021-11-01, FECHAR, 63326.99\n",
            "2021-11-08, FECHAR, 64995.23\n",
            "2021-11-11, FECHAR, 65004.03\n"
          ]
        },
        {
          "output_type": "execute_result",
          "data": {
            "text/plain": [
              "[<__main__.TestStrategy at 0x7fc9a8e4abd0>]"
            ]
          },
          "metadata": {},
          "execution_count": 30
        }
      ]
    },
    {
      "cell_type": "code",
      "metadata": {
        "colab": {
          "base_uri": "https://localhost:8080/"
        },
        "id": "24Y6z_N8ubTi",
        "outputId": "02d1c67f-615e-43bd-9964-67eb487bf21d"
      },
      "source": [
        "# Print out the final result\n",
        "print('Valor Final do Portfólio: %.2f' % cerebro.broker.getvalue())"
      ],
      "execution_count": 31,
      "outputs": [
        {
          "output_type": "stream",
          "name": "stdout",
          "text": [
            "Valor Final do Portfólio: 160628.58\n"
          ]
        }
      ]
    }
  ]
}