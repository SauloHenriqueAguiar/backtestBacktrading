{
  "nbformat": 4,
  "nbformat_minor": 0,
  "metadata": {
    "colab": {
      "name": "scriptbasicofechamentobacktesting.ipynb",
      "provenance": [],
      "authorship_tag": "ABX9TyOGeulQwLNME40vxypm8HI3",
      "include_colab_link": true
    },
    "kernelspec": {
      "name": "python3",
      "display_name": "Python 3"
    },
    "language_info": {
      "name": "python"
    },
    "accelerator": "GPU"
  },
  "cells": [
    {
      "cell_type": "markdown",
      "metadata": {
        "id": "view-in-github",
        "colab_type": "text"
      },
      "source": [
        "<a href=\"https://colab.research.google.com/github/SauloHenriqueAguiar/backtestBacktrading/blob/main/scriptbasicofechamentobacktesting.ipynb\" target=\"_parent\"><img src=\"https://colab.research.google.com/assets/colab-badge.svg\" alt=\"Open In Colab\"/></a>"
      ]
    },
    {
      "cell_type": "code",
      "metadata": {
        "colab": {
          "base_uri": "https://localhost:8080/"
        },
        "id": "23RmY0iuQ3jT",
        "outputId": "373c52eb-f7ba-4911-e65e-dae82d6e653a"
      },
      "source": [
        "#instala biblioteca yahoo_fin\n",
        "!pip install yahoo_fin"
      ],
      "execution_count": 1,
      "outputs": [
        {
          "output_type": "stream",
          "name": "stdout",
          "text": [
            "Collecting yahoo_fin\n",
            "  Downloading yahoo_fin-0.8.9.1-py3-none-any.whl (10 kB)\n",
            "Requirement already satisfied: pandas in /usr/local/lib/python3.7/dist-packages (from yahoo_fin) (1.1.5)\n",
            "Requirement already satisfied: requests in /usr/local/lib/python3.7/dist-packages (from yahoo_fin) (2.23.0)\n",
            "Collecting requests-html\n",
            "  Downloading requests_html-0.10.0-py3-none-any.whl (13 kB)\n",
            "Collecting feedparser\n",
            "  Downloading feedparser-6.0.8-py3-none-any.whl (81 kB)\n",
            "\u001b[K     |████████████████████████████████| 81 kB 3.9 MB/s \n",
            "\u001b[?25hCollecting sgmllib3k\n",
            "  Downloading sgmllib3k-1.0.0.tar.gz (5.8 kB)\n",
            "Requirement already satisfied: numpy>=1.15.4 in /usr/local/lib/python3.7/dist-packages (from pandas->yahoo_fin) (1.19.5)\n",
            "Requirement already satisfied: pytz>=2017.2 in /usr/local/lib/python3.7/dist-packages (from pandas->yahoo_fin) (2018.9)\n",
            "Requirement already satisfied: python-dateutil>=2.7.3 in /usr/local/lib/python3.7/dist-packages (from pandas->yahoo_fin) (2.8.2)\n",
            "Requirement already satisfied: six>=1.5 in /usr/local/lib/python3.7/dist-packages (from python-dateutil>=2.7.3->pandas->yahoo_fin) (1.15.0)\n",
            "Requirement already satisfied: idna<3,>=2.5 in /usr/local/lib/python3.7/dist-packages (from requests->yahoo_fin) (2.10)\n",
            "Requirement already satisfied: certifi>=2017.4.17 in /usr/local/lib/python3.7/dist-packages (from requests->yahoo_fin) (2021.5.30)\n",
            "Requirement already satisfied: urllib3!=1.25.0,!=1.25.1,<1.26,>=1.21.1 in /usr/local/lib/python3.7/dist-packages (from requests->yahoo_fin) (1.24.3)\n",
            "Requirement already satisfied: chardet<4,>=3.0.2 in /usr/local/lib/python3.7/dist-packages (from requests->yahoo_fin) (3.0.4)\n",
            "Collecting pyppeteer>=0.0.14\n",
            "  Downloading pyppeteer-0.2.6-py3-none-any.whl (83 kB)\n",
            "\u001b[K     |████████████████████████████████| 83 kB 2.3 MB/s \n",
            "\u001b[?25hCollecting pyquery\n",
            "  Downloading pyquery-1.4.3-py3-none-any.whl (22 kB)\n",
            "Collecting parse\n",
            "  Downloading parse-1.19.0.tar.gz (30 kB)\n",
            "Collecting w3lib\n",
            "  Downloading w3lib-1.22.0-py2.py3-none-any.whl (20 kB)\n",
            "Requirement already satisfied: bs4 in /usr/local/lib/python3.7/dist-packages (from requests-html->yahoo_fin) (0.0.1)\n",
            "Collecting fake-useragent\n",
            "  Downloading fake-useragent-0.1.11.tar.gz (13 kB)\n",
            "Requirement already satisfied: appdirs<2.0.0,>=1.4.3 in /usr/local/lib/python3.7/dist-packages (from pyppeteer>=0.0.14->requests-html->yahoo_fin) (1.4.4)\n",
            "Collecting urllib3!=1.25.0,!=1.25.1,<1.26,>=1.21.1\n",
            "  Downloading urllib3-1.25.11-py2.py3-none-any.whl (127 kB)\n",
            "\u001b[K     |████████████████████████████████| 127 kB 41.8 MB/s \n",
            "\u001b[?25hRequirement already satisfied: importlib-metadata>=1.4 in /usr/local/lib/python3.7/dist-packages (from pyppeteer>=0.0.14->requests-html->yahoo_fin) (4.8.1)\n",
            "Requirement already satisfied: tqdm<5.0.0,>=4.42.1 in /usr/local/lib/python3.7/dist-packages (from pyppeteer>=0.0.14->requests-html->yahoo_fin) (4.62.3)\n",
            "Collecting pyee<9.0.0,>=8.1.0\n",
            "  Downloading pyee-8.2.2-py2.py3-none-any.whl (12 kB)\n",
            "Collecting websockets<10.0,>=9.1\n",
            "  Downloading websockets-9.1-cp37-cp37m-manylinux2010_x86_64.whl (103 kB)\n",
            "\u001b[K     |████████████████████████████████| 103 kB 48.5 MB/s \n",
            "\u001b[?25hRequirement already satisfied: typing-extensions>=3.6.4 in /usr/local/lib/python3.7/dist-packages (from importlib-metadata>=1.4->pyppeteer>=0.0.14->requests-html->yahoo_fin) (3.7.4.3)\n",
            "Requirement already satisfied: zipp>=0.5 in /usr/local/lib/python3.7/dist-packages (from importlib-metadata>=1.4->pyppeteer>=0.0.14->requests-html->yahoo_fin) (3.6.0)\n",
            "Requirement already satisfied: beautifulsoup4 in /usr/local/lib/python3.7/dist-packages (from bs4->requests-html->yahoo_fin) (4.6.3)\n",
            "Collecting cssselect>0.7.9\n",
            "  Downloading cssselect-1.1.0-py2.py3-none-any.whl (16 kB)\n",
            "Requirement already satisfied: lxml>=2.1 in /usr/local/lib/python3.7/dist-packages (from pyquery->requests-html->yahoo_fin) (4.2.6)\n",
            "Building wheels for collected packages: fake-useragent, parse, sgmllib3k\n",
            "  Building wheel for fake-useragent (setup.py) ... \u001b[?25l\u001b[?25hdone\n",
            "  Created wheel for fake-useragent: filename=fake_useragent-0.1.11-py3-none-any.whl size=13502 sha256=6d4e89b6c22d6c0b6a38eef4f758fdd040e285ceb4cf6c7c1d26d57b066c6f49\n",
            "  Stored in directory: /root/.cache/pip/wheels/ed/f7/62/50ab6c9a0b5567267ab76a9daa9d06315704209b2c5d032031\n",
            "  Building wheel for parse (setup.py) ... \u001b[?25l\u001b[?25hdone\n",
            "  Created wheel for parse: filename=parse-1.19.0-py3-none-any.whl size=24591 sha256=ed1f8eb5589960104afbe5339e0f66b1b90bd3e3aa4c5e7bbd6c3c33bfd2f818\n",
            "  Stored in directory: /root/.cache/pip/wheels/9c/aa/cc/f2228050ccb40f22144b073f15a2c84f11204f29fc0dce028e\n",
            "  Building wheel for sgmllib3k (setup.py) ... \u001b[?25l\u001b[?25hdone\n",
            "  Created wheel for sgmllib3k: filename=sgmllib3k-1.0.0-py3-none-any.whl size=6065 sha256=1e093d7d2c0ff3e2aec08edee370d295700a3962fd1516fff3de5e9552168933\n",
            "  Stored in directory: /root/.cache/pip/wheels/73/ad/a4/0dff4a6ef231fc0dfa12ffbac2a36cebfdddfe059f50e019aa\n",
            "Successfully built fake-useragent parse sgmllib3k\n",
            "Installing collected packages: websockets, urllib3, pyee, cssselect, w3lib, sgmllib3k, pyquery, pyppeteer, parse, fake-useragent, requests-html, feedparser, yahoo-fin\n",
            "  Attempting uninstall: urllib3\n",
            "    Found existing installation: urllib3 1.24.3\n",
            "    Uninstalling urllib3-1.24.3:\n",
            "      Successfully uninstalled urllib3-1.24.3\n",
            "\u001b[31mERROR: pip's dependency resolver does not currently take into account all the packages that are installed. This behaviour is the source of the following dependency conflicts.\n",
            "datascience 0.10.6 requires folium==0.2.1, but you have folium 0.8.3 which is incompatible.\u001b[0m\n",
            "Successfully installed cssselect-1.1.0 fake-useragent-0.1.11 feedparser-6.0.8 parse-1.19.0 pyee-8.2.2 pyppeteer-0.2.6 pyquery-1.4.3 requests-html-0.10.0 sgmllib3k-1.0.0 urllib3-1.25.11 w3lib-1.22.0 websockets-9.1 yahoo-fin-0.8.9.1\n"
          ]
        }
      ]
    },
    {
      "cell_type": "code",
      "metadata": {
        "colab": {
          "base_uri": "https://localhost:8080/"
        },
        "id": "1Rsa_1TLUbCQ",
        "outputId": "fb3b07ae-b630-45a8-f19e-e74a1a051a10"
      },
      "source": [
        "#instala biblioteca yfinance\n",
        "!pip install yfinance --upgrade --no-cache-dir"
      ],
      "execution_count": 2,
      "outputs": [
        {
          "output_type": "stream",
          "name": "stdout",
          "text": [
            "Collecting yfinance\n",
            "  Downloading yfinance-0.1.64.tar.gz (26 kB)\n",
            "Requirement already satisfied: pandas>=0.24 in /usr/local/lib/python3.7/dist-packages (from yfinance) (1.1.5)\n",
            "Requirement already satisfied: numpy>=1.15 in /usr/local/lib/python3.7/dist-packages (from yfinance) (1.19.5)\n",
            "Requirement already satisfied: requests>=2.20 in /usr/local/lib/python3.7/dist-packages (from yfinance) (2.23.0)\n",
            "Requirement already satisfied: multitasking>=0.0.7 in /usr/local/lib/python3.7/dist-packages (from yfinance) (0.0.9)\n",
            "Collecting lxml>=4.5.1\n",
            "  Downloading lxml-4.6.4-cp37-cp37m-manylinux_2_17_x86_64.manylinux2014_x86_64.manylinux_2_24_x86_64.whl (6.3 MB)\n",
            "\u001b[K     |████████████████████████████████| 6.3 MB 7.6 MB/s \n",
            "\u001b[?25hRequirement already satisfied: python-dateutil>=2.7.3 in /usr/local/lib/python3.7/dist-packages (from pandas>=0.24->yfinance) (2.8.2)\n",
            "Requirement already satisfied: pytz>=2017.2 in /usr/local/lib/python3.7/dist-packages (from pandas>=0.24->yfinance) (2018.9)\n",
            "Requirement already satisfied: six>=1.5 in /usr/local/lib/python3.7/dist-packages (from python-dateutil>=2.7.3->pandas>=0.24->yfinance) (1.15.0)\n",
            "Requirement already satisfied: certifi>=2017.4.17 in /usr/local/lib/python3.7/dist-packages (from requests>=2.20->yfinance) (2021.5.30)\n",
            "Requirement already satisfied: chardet<4,>=3.0.2 in /usr/local/lib/python3.7/dist-packages (from requests>=2.20->yfinance) (3.0.4)\n",
            "Requirement already satisfied: urllib3!=1.25.0,!=1.25.1,<1.26,>=1.21.1 in /usr/local/lib/python3.7/dist-packages (from requests>=2.20->yfinance) (1.25.11)\n",
            "Requirement already satisfied: idna<3,>=2.5 in /usr/local/lib/python3.7/dist-packages (from requests>=2.20->yfinance) (2.10)\n",
            "Building wheels for collected packages: yfinance\n",
            "  Building wheel for yfinance (setup.py) ... \u001b[?25l\u001b[?25hdone\n",
            "  Created wheel for yfinance: filename=yfinance-0.1.64-py2.py3-none-any.whl size=24109 sha256=05cc1b6291580b4a66fe2624b68ed848d6310f20ad3633964b697493bd6cbbba\n",
            "  Stored in directory: /tmp/pip-ephem-wheel-cache-qc_v8cod/wheels/86/fe/9b/a4d3d78796b699e37065e5b6c27b75cff448ddb8b24943c288\n",
            "Successfully built yfinance\n",
            "Installing collected packages: lxml, yfinance\n",
            "  Attempting uninstall: lxml\n",
            "    Found existing installation: lxml 4.2.6\n",
            "    Uninstalling lxml-4.2.6:\n",
            "      Successfully uninstalled lxml-4.2.6\n",
            "Successfully installed lxml-4.6.4 yfinance-0.1.64\n"
          ]
        }
      ]
    },
    {
      "cell_type": "code",
      "metadata": {
        "colab": {
          "base_uri": "https://localhost:8080/"
        },
        "id": "YCElGtLtUfE0",
        "outputId": "2abf34ba-798e-4cff-c9bf-e42d43055b98"
      },
      "source": [
        "#instala request\n",
        "!pip install requests_html"
      ],
      "execution_count": 3,
      "outputs": [
        {
          "output_type": "stream",
          "name": "stdout",
          "text": [
            "Requirement already satisfied: requests_html in /usr/local/lib/python3.7/dist-packages (0.10.0)\n",
            "Requirement already satisfied: requests in /usr/local/lib/python3.7/dist-packages (from requests_html) (2.23.0)\n",
            "Requirement already satisfied: fake-useragent in /usr/local/lib/python3.7/dist-packages (from requests_html) (0.1.11)\n",
            "Requirement already satisfied: bs4 in /usr/local/lib/python3.7/dist-packages (from requests_html) (0.0.1)\n",
            "Requirement already satisfied: pyppeteer>=0.0.14 in /usr/local/lib/python3.7/dist-packages (from requests_html) (0.2.6)\n",
            "Requirement already satisfied: parse in /usr/local/lib/python3.7/dist-packages (from requests_html) (1.19.0)\n",
            "Requirement already satisfied: w3lib in /usr/local/lib/python3.7/dist-packages (from requests_html) (1.22.0)\n",
            "Requirement already satisfied: pyquery in /usr/local/lib/python3.7/dist-packages (from requests_html) (1.4.3)\n",
            "Requirement already satisfied: urllib3<2.0.0,>=1.25.8 in /usr/local/lib/python3.7/dist-packages (from pyppeteer>=0.0.14->requests_html) (1.25.11)\n",
            "Requirement already satisfied: tqdm<5.0.0,>=4.42.1 in /usr/local/lib/python3.7/dist-packages (from pyppeteer>=0.0.14->requests_html) (4.62.3)\n",
            "Requirement already satisfied: appdirs<2.0.0,>=1.4.3 in /usr/local/lib/python3.7/dist-packages (from pyppeteer>=0.0.14->requests_html) (1.4.4)\n",
            "Requirement already satisfied: importlib-metadata>=1.4 in /usr/local/lib/python3.7/dist-packages (from pyppeteer>=0.0.14->requests_html) (4.8.1)\n",
            "Requirement already satisfied: pyee<9.0.0,>=8.1.0 in /usr/local/lib/python3.7/dist-packages (from pyppeteer>=0.0.14->requests_html) (8.2.2)\n",
            "Requirement already satisfied: websockets<10.0,>=9.1 in /usr/local/lib/python3.7/dist-packages (from pyppeteer>=0.0.14->requests_html) (9.1)\n",
            "Requirement already satisfied: typing-extensions>=3.6.4 in /usr/local/lib/python3.7/dist-packages (from importlib-metadata>=1.4->pyppeteer>=0.0.14->requests_html) (3.7.4.3)\n",
            "Requirement already satisfied: zipp>=0.5 in /usr/local/lib/python3.7/dist-packages (from importlib-metadata>=1.4->pyppeteer>=0.0.14->requests_html) (3.6.0)\n",
            "Requirement already satisfied: beautifulsoup4 in /usr/local/lib/python3.7/dist-packages (from bs4->requests_html) (4.6.3)\n",
            "Requirement already satisfied: cssselect>0.7.9 in /usr/local/lib/python3.7/dist-packages (from pyquery->requests_html) (1.1.0)\n",
            "Requirement already satisfied: lxml>=2.1 in /usr/local/lib/python3.7/dist-packages (from pyquery->requests_html) (4.6.4)\n",
            "Requirement already satisfied: chardet<4,>=3.0.2 in /usr/local/lib/python3.7/dist-packages (from requests->requests_html) (3.0.4)\n",
            "Requirement already satisfied: certifi>=2017.4.17 in /usr/local/lib/python3.7/dist-packages (from requests->requests_html) (2021.5.30)\n",
            "Requirement already satisfied: idna<3,>=2.5 in /usr/local/lib/python3.7/dist-packages (from requests->requests_html) (2.10)\n",
            "Requirement already satisfied: six>=1.4.1 in /usr/local/lib/python3.7/dist-packages (from w3lib->requests_html) (1.15.0)\n"
          ]
        }
      ]
    },
    {
      "cell_type": "code",
      "metadata": {
        "colab": {
          "base_uri": "https://localhost:8080/"
        },
        "id": "u3qo0iUUUijj",
        "outputId": "0d03f44c-c206-4a69-fd71-6400d48d2a4b"
      },
      "source": [
        "# Instalar Backtrader\n",
        "!pip install backtrader"
      ],
      "execution_count": 4,
      "outputs": [
        {
          "output_type": "stream",
          "name": "stdout",
          "text": [
            "Collecting backtrader\n",
            "  Downloading backtrader-1.9.76.123-py2.py3-none-any.whl (410 kB)\n",
            "\u001b[?25l\r\u001b[K     |▉                               | 10 kB 23.2 MB/s eta 0:00:01\r\u001b[K     |█▋                              | 20 kB 24.5 MB/s eta 0:00:01\r\u001b[K     |██▍                             | 30 kB 11.9 MB/s eta 0:00:01\r\u001b[K     |███▏                            | 40 kB 5.2 MB/s eta 0:00:01\r\u001b[K     |████                            | 51 kB 5.1 MB/s eta 0:00:01\r\u001b[K     |████▉                           | 61 kB 5.6 MB/s eta 0:00:01\r\u001b[K     |█████▋                          | 71 kB 6.0 MB/s eta 0:00:01\r\u001b[K     |██████▍                         | 81 kB 6.7 MB/s eta 0:00:01\r\u001b[K     |███████▏                        | 92 kB 4.6 MB/s eta 0:00:01\r\u001b[K     |████████                        | 102 kB 5.1 MB/s eta 0:00:01\r\u001b[K     |████████▉                       | 112 kB 5.1 MB/s eta 0:00:01\r\u001b[K     |█████████▋                      | 122 kB 5.1 MB/s eta 0:00:01\r\u001b[K     |██████████▍                     | 133 kB 5.1 MB/s eta 0:00:01\r\u001b[K     |███████████▏                    | 143 kB 5.1 MB/s eta 0:00:01\r\u001b[K     |████████████                    | 153 kB 5.1 MB/s eta 0:00:01\r\u001b[K     |████████████▉                   | 163 kB 5.1 MB/s eta 0:00:01\r\u001b[K     |█████████████▋                  | 174 kB 5.1 MB/s eta 0:00:01\r\u001b[K     |██████████████▍                 | 184 kB 5.1 MB/s eta 0:00:01\r\u001b[K     |███████████████▏                | 194 kB 5.1 MB/s eta 0:00:01\r\u001b[K     |████████████████                | 204 kB 5.1 MB/s eta 0:00:01\r\u001b[K     |████████████████▉               | 215 kB 5.1 MB/s eta 0:00:01\r\u001b[K     |█████████████████▋              | 225 kB 5.1 MB/s eta 0:00:01\r\u001b[K     |██████████████████▍             | 235 kB 5.1 MB/s eta 0:00:01\r\u001b[K     |███████████████████▏            | 245 kB 5.1 MB/s eta 0:00:01\r\u001b[K     |████████████████████            | 256 kB 5.1 MB/s eta 0:00:01\r\u001b[K     |████████████████████▊           | 266 kB 5.1 MB/s eta 0:00:01\r\u001b[K     |█████████████████████▋          | 276 kB 5.1 MB/s eta 0:00:01\r\u001b[K     |██████████████████████▍         | 286 kB 5.1 MB/s eta 0:00:01\r\u001b[K     |███████████████████████▏        | 296 kB 5.1 MB/s eta 0:00:01\r\u001b[K     |████████████████████████        | 307 kB 5.1 MB/s eta 0:00:01\r\u001b[K     |████████████████████████▊       | 317 kB 5.1 MB/s eta 0:00:01\r\u001b[K     |█████████████████████████▋      | 327 kB 5.1 MB/s eta 0:00:01\r\u001b[K     |██████████████████████████▍     | 337 kB 5.1 MB/s eta 0:00:01\r\u001b[K     |███████████████████████████▏    | 348 kB 5.1 MB/s eta 0:00:01\r\u001b[K     |████████████████████████████    | 358 kB 5.1 MB/s eta 0:00:01\r\u001b[K     |████████████████████████████▊   | 368 kB 5.1 MB/s eta 0:00:01\r\u001b[K     |█████████████████████████████▋  | 378 kB 5.1 MB/s eta 0:00:01\r\u001b[K     |██████████████████████████████▍ | 389 kB 5.1 MB/s eta 0:00:01\r\u001b[K     |███████████████████████████████▏| 399 kB 5.1 MB/s eta 0:00:01\r\u001b[K     |████████████████████████████████| 409 kB 5.1 MB/s eta 0:00:01\r\u001b[K     |████████████████████████████████| 410 kB 5.1 MB/s \n",
            "\u001b[?25hInstalling collected packages: backtrader\n",
            "Successfully installed backtrader-1.9.76.123\n"
          ]
        }
      ]
    },
    {
      "cell_type": "code",
      "metadata": {
        "id": "Wok9m5FSUlRm"
      },
      "source": [
        "# Obtenha os pacotes necessários\n",
        "\n",
        "from datetime import datetime\n",
        "import backtrader as bt\n",
        "from IPython.display import display, Image\n",
        "import yfinance as yf"
      ],
      "execution_count": 65,
      "outputs": []
    },
    {
      "cell_type": "code",
      "metadata": {
        "colab": {
          "base_uri": "https://localhost:8080/",
          "height": 514
        },
        "id": "jNkmMGFZUoRH",
        "outputId": "e263299d-ccdd-4f37-9fd8-7cf292b3b24e"
      },
      "source": [
        "from yahoo_fin.stock_info import get_data\n",
        "bitcoin_weekly = get_data(\"BTC-USD\", start_date=\"12/04/2020\", end_date=\"03/11/2021\", index_as_date = True, interval=\"1wk\")\n",
        "bitcoin_weekly "
      ],
      "execution_count": 73,
      "outputs": [
        {
          "output_type": "execute_result",
          "data": {
            "text/html": [
              "<div>\n",
              "<style scoped>\n",
              "    .dataframe tbody tr th:only-of-type {\n",
              "        vertical-align: middle;\n",
              "    }\n",
              "\n",
              "    .dataframe tbody tr th {\n",
              "        vertical-align: top;\n",
              "    }\n",
              "\n",
              "    .dataframe thead th {\n",
              "        text-align: right;\n",
              "    }\n",
              "</style>\n",
              "<table border=\"1\" class=\"dataframe\">\n",
              "  <thead>\n",
              "    <tr style=\"text-align: right;\">\n",
              "      <th></th>\n",
              "      <th>open</th>\n",
              "      <th>high</th>\n",
              "      <th>low</th>\n",
              "      <th>close</th>\n",
              "      <th>adjclose</th>\n",
              "      <th>volume</th>\n",
              "      <th>ticker</th>\n",
              "    </tr>\n",
              "  </thead>\n",
              "  <tbody>\n",
              "    <tr>\n",
              "      <th>2020-11-30</th>\n",
              "      <td>19446.966797</td>\n",
              "      <td>19511.404297</td>\n",
              "      <td>18590.193359</td>\n",
              "      <td>19345.121094</td>\n",
              "      <td>19345.121094</td>\n",
              "      <td>86408618836</td>\n",
              "      <td>BTC-USD</td>\n",
              "    </tr>\n",
              "    <tr>\n",
              "      <th>2020-12-07</th>\n",
              "      <td>19343.128906</td>\n",
              "      <td>19411.828125</td>\n",
              "      <td>17619.533203</td>\n",
              "      <td>19142.382812</td>\n",
              "      <td>19142.382812</td>\n",
              "      <td>193678842258</td>\n",
              "      <td>BTC-USD</td>\n",
              "    </tr>\n",
              "    <tr>\n",
              "      <th>2020-12-14</th>\n",
              "      <td>19144.492188</td>\n",
              "      <td>24209.660156</td>\n",
              "      <td>19012.708984</td>\n",
              "      <td>23477.294922</td>\n",
              "      <td>23477.294922</td>\n",
              "      <td>281723269352</td>\n",
              "      <td>BTC-USD</td>\n",
              "    </tr>\n",
              "    <tr>\n",
              "      <th>2020-12-21</th>\n",
              "      <td>23474.455078</td>\n",
              "      <td>28288.839844</td>\n",
              "      <td>22159.367188</td>\n",
              "      <td>26272.294922</td>\n",
              "      <td>26272.294922</td>\n",
              "      <td>339132207025</td>\n",
              "      <td>BTC-USD</td>\n",
              "    </tr>\n",
              "    <tr>\n",
              "      <th>2020-12-28</th>\n",
              "      <td>26280.822266</td>\n",
              "      <td>34608.558594</td>\n",
              "      <td>25987.298828</td>\n",
              "      <td>32782.023438</td>\n",
              "      <td>32782.023438</td>\n",
              "      <td>379626054545</td>\n",
              "      <td>BTC-USD</td>\n",
              "    </tr>\n",
              "    <tr>\n",
              "      <th>2021-01-04</th>\n",
              "      <td>32810.949219</td>\n",
              "      <td>41946.738281</td>\n",
              "      <td>28722.755859</td>\n",
              "      <td>38356.441406</td>\n",
              "      <td>38356.441406</td>\n",
              "      <td>538834804975</td>\n",
              "      <td>BTC-USD</td>\n",
              "    </tr>\n",
              "    <tr>\n",
              "      <th>2021-01-11</th>\n",
              "      <td>38346.531250</td>\n",
              "      <td>39966.406250</td>\n",
              "      <td>30549.599609</td>\n",
              "      <td>35791.277344</td>\n",
              "      <td>35791.277344</td>\n",
              "      <td>508900951412</td>\n",
              "      <td>BTC-USD</td>\n",
              "    </tr>\n",
              "    <tr>\n",
              "      <th>2021-01-18</th>\n",
              "      <td>35792.238281</td>\n",
              "      <td>37755.890625</td>\n",
              "      <td>28953.373047</td>\n",
              "      <td>32289.378906</td>\n",
              "      <td>32289.378906</td>\n",
              "      <td>423439379849</td>\n",
              "      <td>BTC-USD</td>\n",
              "    </tr>\n",
              "    <tr>\n",
              "      <th>2021-01-25</th>\n",
              "      <td>32285.798828</td>\n",
              "      <td>38406.261719</td>\n",
              "      <td>29367.138672</td>\n",
              "      <td>33114.359375</td>\n",
              "      <td>33114.359375</td>\n",
              "      <td>497468344671</td>\n",
              "      <td>BTC-USD</td>\n",
              "    </tr>\n",
              "    <tr>\n",
              "      <th>2021-02-01</th>\n",
              "      <td>33114.578125</td>\n",
              "      <td>40846.546875</td>\n",
              "      <td>32384.228516</td>\n",
              "      <td>38903.441406</td>\n",
              "      <td>38903.441406</td>\n",
              "      <td>449918619842</td>\n",
              "      <td>BTC-USD</td>\n",
              "    </tr>\n",
              "    <tr>\n",
              "      <th>2021-02-08</th>\n",
              "      <td>38886.828125</td>\n",
              "      <td>49487.640625</td>\n",
              "      <td>38076.324219</td>\n",
              "      <td>48717.289062</td>\n",
              "      <td>48717.289062</td>\n",
              "      <td>580021243858</td>\n",
              "      <td>BTC-USD</td>\n",
              "    </tr>\n",
              "    <tr>\n",
              "      <th>2021-02-15</th>\n",
              "      <td>48696.535156</td>\n",
              "      <td>58330.570312</td>\n",
              "      <td>46347.476562</td>\n",
              "      <td>57539.945312</td>\n",
              "      <td>57539.945312</td>\n",
              "      <td>470533297170</td>\n",
              "      <td>BTC-USD</td>\n",
              "    </tr>\n",
              "    <tr>\n",
              "      <th>2021-02-22</th>\n",
              "      <td>57532.738281</td>\n",
              "      <td>57533.390625</td>\n",
              "      <td>43241.617188</td>\n",
              "      <td>45137.769531</td>\n",
              "      <td>45137.769531</td>\n",
              "      <td>766679775805</td>\n",
              "      <td>BTC-USD</td>\n",
              "    </tr>\n",
              "    <tr>\n",
              "      <th>2021-03-01</th>\n",
              "      <td>45159.503906</td>\n",
              "      <td>52535.136719</td>\n",
              "      <td>45115.093750</td>\n",
              "      <td>51206.691406</td>\n",
              "      <td>51206.691406</td>\n",
              "      <td>333113779409</td>\n",
              "      <td>BTC-USD</td>\n",
              "    </tr>\n",
              "    <tr>\n",
              "      <th>2021-03-08</th>\n",
              "      <td>51174.117188</td>\n",
              "      <td>58091.062500</td>\n",
              "      <td>49506.054688</td>\n",
              "      <td>57805.121094</td>\n",
              "      <td>57805.121094</td>\n",
              "      <td>213577576642</td>\n",
              "      <td>BTC-USD</td>\n",
              "    </tr>\n",
              "  </tbody>\n",
              "</table>\n",
              "</div>"
            ],
            "text/plain": [
              "                    open          high  ...        volume   ticker\n",
              "2020-11-30  19446.966797  19511.404297  ...   86408618836  BTC-USD\n",
              "2020-12-07  19343.128906  19411.828125  ...  193678842258  BTC-USD\n",
              "2020-12-14  19144.492188  24209.660156  ...  281723269352  BTC-USD\n",
              "2020-12-21  23474.455078  28288.839844  ...  339132207025  BTC-USD\n",
              "2020-12-28  26280.822266  34608.558594  ...  379626054545  BTC-USD\n",
              "2021-01-04  32810.949219  41946.738281  ...  538834804975  BTC-USD\n",
              "2021-01-11  38346.531250  39966.406250  ...  508900951412  BTC-USD\n",
              "2021-01-18  35792.238281  37755.890625  ...  423439379849  BTC-USD\n",
              "2021-01-25  32285.798828  38406.261719  ...  497468344671  BTC-USD\n",
              "2021-02-01  33114.578125  40846.546875  ...  449918619842  BTC-USD\n",
              "2021-02-08  38886.828125  49487.640625  ...  580021243858  BTC-USD\n",
              "2021-02-15  48696.535156  58330.570312  ...  470533297170  BTC-USD\n",
              "2021-02-22  57532.738281  57533.390625  ...  766679775805  BTC-USD\n",
              "2021-03-01  45159.503906  52535.136719  ...  333113779409  BTC-USD\n",
              "2021-03-08  51174.117188  58091.062500  ...  213577576642  BTC-USD\n",
              "\n",
              "[15 rows x 7 columns]"
            ]
          },
          "metadata": {},
          "execution_count": 73
        }
      ]
    },
    {
      "cell_type": "code",
      "metadata": {
        "id": "ijp4d-TYUzjn"
      },
      "source": [
        "bitcoin_weekly.to_csv('/content/bitcoin.csv')\n"
      ],
      "execution_count": 125,
      "outputs": []
    },
    {
      "cell_type": "code",
      "metadata": {
        "id": "yz-csG2JE4Jr"
      },
      "source": [
        "import backtrader as bt\n",
        "\n",
        "class PrintClose(bt.Strategy):\n",
        "\n",
        "    def __init__(self):\n",
        "        #Keep a reference to the \"close\" line in the data[0] dataseries\n",
        "        self.dataclose = self.datas[0].close\n",
        "\n",
        "    def log(self, txt, dt=None):\n",
        "        dt = dt or self.datas[0].datetime.date(0)\n",
        "        print(f'{dt.isoformat()} {txt}') #Print date and close\n",
        "  \n",
        "     \n",
        "    def next(self):\n",
        "        self.log('Close, %.2f' % self.dataclose[0])  \n",
        "      \n"
      ],
      "execution_count": 126,
      "outputs": []
    },
    {
      "cell_type": "code",
      "metadata": {
        "colab": {
          "base_uri": "https://localhost:8080/"
        },
        "id": "Zl0NnP67OxE5",
        "outputId": "5e9a85d2-84fb-40cc-dfe0-7f6350057cbb"
      },
      "source": [
        "#Instantiate Cerebro engine\n",
        "cerebro = bt.Cerebro()\n",
        "\n",
        "#Add data feed to Cerebro\n",
        "data = bt.feeds.YahooFinanceCSVData(dataname='bitcoin.csv')\n",
        "cerebro.adddata(data)\n",
        "\n",
        "#Add strategy to Cerebro\n",
        "cerebro.addstrategy(PrintClose)\n",
        "\n",
        "#Run Cerebro Engine\n",
        "cerebro.run()"
      ],
      "execution_count": 127,
      "outputs": [
        {
          "output_type": "stream",
          "name": "stdout",
          "text": [
            "2020-11-30 Close, 19345.12\n",
            "2020-12-07 Close, 19142.38\n",
            "2020-12-14 Close, 23477.29\n",
            "2020-12-21 Close, 26272.29\n",
            "2020-12-28 Close, 32782.02\n",
            "2021-01-04 Close, 38356.44\n",
            "2021-01-11 Close, 35791.28\n",
            "2021-01-18 Close, 32289.38\n",
            "2021-01-25 Close, 33114.36\n",
            "2021-02-01 Close, 38903.44\n",
            "2021-02-08 Close, 48717.29\n",
            "2021-02-15 Close, 57539.95\n",
            "2021-02-22 Close, 45137.77\n",
            "2021-03-01 Close, 51206.69\n",
            "2021-03-08 Close, 57805.12\n"
          ]
        },
        {
          "output_type": "execute_result",
          "data": {
            "text/plain": [
              "[<__main__.PrintClose at 0x7f75e3aa1850>]"
            ]
          },
          "metadata": {},
          "execution_count": 127
        }
      ]
    }
  ]
}