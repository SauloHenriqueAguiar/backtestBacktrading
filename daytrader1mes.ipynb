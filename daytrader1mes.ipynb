{
  "nbformat": 4,
  "nbformat_minor": 0,
  "metadata": {
    "colab": {
      "name": "daytrader1mes.ipynb",
      "provenance": [],
      "authorship_tag": "ABX9TyMUkv582HDMwonBamWK1gez",
      "include_colab_link": true
    },
    "kernelspec": {
      "name": "python3",
      "display_name": "Python 3"
    },
    "language_info": {
      "name": "python"
    },
    "accelerator": "GPU"
  },
  "cells": [
    {
      "cell_type": "markdown",
      "metadata": {
        "id": "view-in-github",
        "colab_type": "text"
      },
      "source": [
        "<a href=\"https://colab.research.google.com/github/SauloHenriqueAguiar/backtestBacktrading/blob/main/daytrader1mes.ipynb\" target=\"_parent\"><img src=\"https://colab.research.google.com/assets/colab-badge.svg\" alt=\"Open In Colab\"/></a>"
      ]
    },
    {
      "cell_type": "code",
      "metadata": {
        "colab": {
          "base_uri": "https://localhost:8080/"
        },
        "id": "oVn3Ht46b6Dt",
        "outputId": "e6c9388f-d6ef-4d6b-e2e7-b72887f77cca"
      },
      "source": [
        "!pip install yahoo_fin\n"
      ],
      "execution_count": 1,
      "outputs": [
        {
          "output_type": "stream",
          "name": "stdout",
          "text": [
            "Collecting yahoo_fin\n",
            "  Downloading yahoo_fin-0.8.9.1-py3-none-any.whl (10 kB)\n",
            "Requirement already satisfied: pandas in /usr/local/lib/python3.7/dist-packages (from yahoo_fin) (1.1.5)\n",
            "Requirement already satisfied: requests in /usr/local/lib/python3.7/dist-packages (from yahoo_fin) (2.23.0)\n",
            "Collecting feedparser\n",
            "  Downloading feedparser-6.0.8-py3-none-any.whl (81 kB)\n",
            "\u001b[K     |████████████████████████████████| 81 kB 4.1 MB/s \n",
            "\u001b[?25hCollecting requests-html\n",
            "  Downloading requests_html-0.10.0-py3-none-any.whl (13 kB)\n",
            "Collecting sgmllib3k\n",
            "  Downloading sgmllib3k-1.0.0.tar.gz (5.8 kB)\n",
            "Requirement already satisfied: pytz>=2017.2 in /usr/local/lib/python3.7/dist-packages (from pandas->yahoo_fin) (2018.9)\n",
            "Requirement already satisfied: numpy>=1.15.4 in /usr/local/lib/python3.7/dist-packages (from pandas->yahoo_fin) (1.19.5)\n",
            "Requirement already satisfied: python-dateutil>=2.7.3 in /usr/local/lib/python3.7/dist-packages (from pandas->yahoo_fin) (2.8.2)\n",
            "Requirement already satisfied: six>=1.5 in /usr/local/lib/python3.7/dist-packages (from python-dateutil>=2.7.3->pandas->yahoo_fin) (1.15.0)\n",
            "Requirement already satisfied: certifi>=2017.4.17 in /usr/local/lib/python3.7/dist-packages (from requests->yahoo_fin) (2021.10.8)\n",
            "Requirement already satisfied: chardet<4,>=3.0.2 in /usr/local/lib/python3.7/dist-packages (from requests->yahoo_fin) (3.0.4)\n",
            "Requirement already satisfied: idna<3,>=2.5 in /usr/local/lib/python3.7/dist-packages (from requests->yahoo_fin) (2.10)\n",
            "Requirement already satisfied: urllib3!=1.25.0,!=1.25.1,<1.26,>=1.21.1 in /usr/local/lib/python3.7/dist-packages (from requests->yahoo_fin) (1.24.3)\n",
            "Collecting pyquery\n",
            "  Downloading pyquery-1.4.3-py3-none-any.whl (22 kB)\n",
            "Collecting w3lib\n",
            "  Downloading w3lib-1.22.0-py2.py3-none-any.whl (20 kB)\n",
            "Collecting fake-useragent\n",
            "  Downloading fake-useragent-0.1.11.tar.gz (13 kB)\n",
            "Collecting pyppeteer>=0.0.14\n",
            "  Downloading pyppeteer-0.2.6-py3-none-any.whl (83 kB)\n",
            "\u001b[K     |████████████████████████████████| 83 kB 2.2 MB/s \n",
            "\u001b[?25hCollecting parse\n",
            "  Downloading parse-1.19.0.tar.gz (30 kB)\n",
            "Requirement already satisfied: bs4 in /usr/local/lib/python3.7/dist-packages (from requests-html->yahoo_fin) (0.0.1)\n",
            "Requirement already satisfied: importlib-metadata>=1.4 in /usr/local/lib/python3.7/dist-packages (from pyppeteer>=0.0.14->requests-html->yahoo_fin) (4.8.2)\n",
            "Collecting urllib3!=1.25.0,!=1.25.1,<1.26,>=1.21.1\n",
            "  Downloading urllib3-1.25.11-py2.py3-none-any.whl (127 kB)\n",
            "\u001b[K     |████████████████████████████████| 127 kB 41.1 MB/s \n",
            "\u001b[?25hCollecting websockets<10.0,>=9.1\n",
            "  Downloading websockets-9.1-cp37-cp37m-manylinux2010_x86_64.whl (103 kB)\n",
            "\u001b[K     |████████████████████████████████| 103 kB 41.2 MB/s \n",
            "\u001b[?25hRequirement already satisfied: appdirs<2.0.0,>=1.4.3 in /usr/local/lib/python3.7/dist-packages (from pyppeteer>=0.0.14->requests-html->yahoo_fin) (1.4.4)\n",
            "Collecting pyee<9.0.0,>=8.1.0\n",
            "  Downloading pyee-8.2.2-py2.py3-none-any.whl (12 kB)\n",
            "Requirement already satisfied: tqdm<5.0.0,>=4.42.1 in /usr/local/lib/python3.7/dist-packages (from pyppeteer>=0.0.14->requests-html->yahoo_fin) (4.62.3)\n",
            "Requirement already satisfied: zipp>=0.5 in /usr/local/lib/python3.7/dist-packages (from importlib-metadata>=1.4->pyppeteer>=0.0.14->requests-html->yahoo_fin) (3.6.0)\n",
            "Requirement already satisfied: typing-extensions>=3.6.4 in /usr/local/lib/python3.7/dist-packages (from importlib-metadata>=1.4->pyppeteer>=0.0.14->requests-html->yahoo_fin) (3.10.0.2)\n",
            "Requirement already satisfied: beautifulsoup4 in /usr/local/lib/python3.7/dist-packages (from bs4->requests-html->yahoo_fin) (4.6.3)\n",
            "Requirement already satisfied: lxml>=2.1 in /usr/local/lib/python3.7/dist-packages (from pyquery->requests-html->yahoo_fin) (4.2.6)\n",
            "Collecting cssselect>0.7.9\n",
            "  Downloading cssselect-1.1.0-py2.py3-none-any.whl (16 kB)\n",
            "Building wheels for collected packages: fake-useragent, parse, sgmllib3k\n",
            "  Building wheel for fake-useragent (setup.py) ... \u001b[?25l\u001b[?25hdone\n",
            "  Created wheel for fake-useragent: filename=fake_useragent-0.1.11-py3-none-any.whl size=13502 sha256=01c789dbf30bd73d3c4c5d83fe3d6a02fd16a8d7ab2491acc5e4a865d35df3f3\n",
            "  Stored in directory: /root/.cache/pip/wheels/ed/f7/62/50ab6c9a0b5567267ab76a9daa9d06315704209b2c5d032031\n",
            "  Building wheel for parse (setup.py) ... \u001b[?25l\u001b[?25hdone\n",
            "  Created wheel for parse: filename=parse-1.19.0-py3-none-any.whl size=24591 sha256=9b167df5b3778b0087b60e69e0aac3013a4f928be12c3e84783d7917783768ca\n",
            "  Stored in directory: /root/.cache/pip/wheels/9c/aa/cc/f2228050ccb40f22144b073f15a2c84f11204f29fc0dce028e\n",
            "  Building wheel for sgmllib3k (setup.py) ... \u001b[?25l\u001b[?25hdone\n",
            "  Created wheel for sgmllib3k: filename=sgmllib3k-1.0.0-py3-none-any.whl size=6065 sha256=97f62a97c0d17d21916aa381c221538b842f8816fb47279d9d8a8c1c2427bb10\n",
            "  Stored in directory: /root/.cache/pip/wheels/73/ad/a4/0dff4a6ef231fc0dfa12ffbac2a36cebfdddfe059f50e019aa\n",
            "Successfully built fake-useragent parse sgmllib3k\n",
            "Installing collected packages: websockets, urllib3, pyee, cssselect, w3lib, sgmllib3k, pyquery, pyppeteer, parse, fake-useragent, requests-html, feedparser, yahoo-fin\n",
            "  Attempting uninstall: urllib3\n",
            "    Found existing installation: urllib3 1.24.3\n",
            "    Uninstalling urllib3-1.24.3:\n",
            "      Successfully uninstalled urllib3-1.24.3\n",
            "\u001b[31mERROR: pip's dependency resolver does not currently take into account all the packages that are installed. This behaviour is the source of the following dependency conflicts.\n",
            "datascience 0.10.6 requires folium==0.2.1, but you have folium 0.8.3 which is incompatible.\u001b[0m\n",
            "Successfully installed cssselect-1.1.0 fake-useragent-0.1.11 feedparser-6.0.8 parse-1.19.0 pyee-8.2.2 pyppeteer-0.2.6 pyquery-1.4.3 requests-html-0.10.0 sgmllib3k-1.0.0 urllib3-1.25.11 w3lib-1.22.0 websockets-9.1 yahoo-fin-0.8.9.1\n"
          ]
        }
      ]
    },
    {
      "cell_type": "code",
      "metadata": {
        "colab": {
          "base_uri": "https://localhost:8080/"
        },
        "id": "xX8efFEtqHo3",
        "outputId": "c1be0645-02e8-47b4-e77b-0f1b9de28028"
      },
      "source": [
        "#instala biblioteca yfinance\n",
        "!pip install yfinance --upgrade --no-cache-dir"
      ],
      "execution_count": 2,
      "outputs": [
        {
          "output_type": "stream",
          "name": "stdout",
          "text": [
            "Collecting yfinance\n",
            "  Downloading yfinance-0.1.64.tar.gz (26 kB)\n",
            "Requirement already satisfied: pandas>=0.24 in /usr/local/lib/python3.7/dist-packages (from yfinance) (1.1.5)\n",
            "Requirement already satisfied: numpy>=1.15 in /usr/local/lib/python3.7/dist-packages (from yfinance) (1.19.5)\n",
            "Requirement already satisfied: requests>=2.20 in /usr/local/lib/python3.7/dist-packages (from yfinance) (2.23.0)\n",
            "Requirement already satisfied: multitasking>=0.0.7 in /usr/local/lib/python3.7/dist-packages (from yfinance) (0.0.9)\n",
            "Collecting lxml>=4.5.1\n",
            "  Downloading lxml-4.6.4-cp37-cp37m-manylinux_2_17_x86_64.manylinux2014_x86_64.manylinux_2_24_x86_64.whl (6.3 MB)\n",
            "\u001b[K     |████████████████████████████████| 6.3 MB 7.5 MB/s \n",
            "\u001b[?25hRequirement already satisfied: pytz>=2017.2 in /usr/local/lib/python3.7/dist-packages (from pandas>=0.24->yfinance) (2018.9)\n",
            "Requirement already satisfied: python-dateutil>=2.7.3 in /usr/local/lib/python3.7/dist-packages (from pandas>=0.24->yfinance) (2.8.2)\n",
            "Requirement already satisfied: six>=1.5 in /usr/local/lib/python3.7/dist-packages (from python-dateutil>=2.7.3->pandas>=0.24->yfinance) (1.15.0)\n",
            "Requirement already satisfied: idna<3,>=2.5 in /usr/local/lib/python3.7/dist-packages (from requests>=2.20->yfinance) (2.10)\n",
            "Requirement already satisfied: urllib3!=1.25.0,!=1.25.1,<1.26,>=1.21.1 in /usr/local/lib/python3.7/dist-packages (from requests>=2.20->yfinance) (1.25.11)\n",
            "Requirement already satisfied: certifi>=2017.4.17 in /usr/local/lib/python3.7/dist-packages (from requests>=2.20->yfinance) (2021.10.8)\n",
            "Requirement already satisfied: chardet<4,>=3.0.2 in /usr/local/lib/python3.7/dist-packages (from requests>=2.20->yfinance) (3.0.4)\n",
            "Building wheels for collected packages: yfinance\n",
            "  Building wheel for yfinance (setup.py) ... \u001b[?25l\u001b[?25hdone\n",
            "  Created wheel for yfinance: filename=yfinance-0.1.64-py2.py3-none-any.whl size=24109 sha256=c38eb3081d88d35b768337486eed37002515f2735f2e8e2419aba6c2817d7f80\n",
            "  Stored in directory: /tmp/pip-ephem-wheel-cache-s6ypsjod/wheels/86/fe/9b/a4d3d78796b699e37065e5b6c27b75cff448ddb8b24943c288\n",
            "Successfully built yfinance\n",
            "Installing collected packages: lxml, yfinance\n",
            "  Attempting uninstall: lxml\n",
            "    Found existing installation: lxml 4.2.6\n",
            "    Uninstalling lxml-4.2.6:\n",
            "      Successfully uninstalled lxml-4.2.6\n",
            "Successfully installed lxml-4.6.4 yfinance-0.1.64\n"
          ]
        }
      ]
    },
    {
      "cell_type": "code",
      "metadata": {
        "colab": {
          "base_uri": "https://localhost:8080/"
        },
        "id": "irAiRnHDqN4D",
        "outputId": "84a5763c-e765-4802-d7b0-b7dc8f1232e0"
      },
      "source": [
        "#instala request\n",
        "!pip install requests_html"
      ],
      "execution_count": 3,
      "outputs": [
        {
          "output_type": "stream",
          "name": "stdout",
          "text": [
            "Requirement already satisfied: requests_html in /usr/local/lib/python3.7/dist-packages (0.10.0)\n",
            "Requirement already satisfied: requests in /usr/local/lib/python3.7/dist-packages (from requests_html) (2.23.0)\n",
            "Requirement already satisfied: bs4 in /usr/local/lib/python3.7/dist-packages (from requests_html) (0.0.1)\n",
            "Requirement already satisfied: fake-useragent in /usr/local/lib/python3.7/dist-packages (from requests_html) (0.1.11)\n",
            "Requirement already satisfied: parse in /usr/local/lib/python3.7/dist-packages (from requests_html) (1.19.0)\n",
            "Requirement already satisfied: w3lib in /usr/local/lib/python3.7/dist-packages (from requests_html) (1.22.0)\n",
            "Requirement already satisfied: pyppeteer>=0.0.14 in /usr/local/lib/python3.7/dist-packages (from requests_html) (0.2.6)\n",
            "Requirement already satisfied: pyquery in /usr/local/lib/python3.7/dist-packages (from requests_html) (1.4.3)\n",
            "Requirement already satisfied: urllib3<2.0.0,>=1.25.8 in /usr/local/lib/python3.7/dist-packages (from pyppeteer>=0.0.14->requests_html) (1.25.11)\n",
            "Requirement already satisfied: tqdm<5.0.0,>=4.42.1 in /usr/local/lib/python3.7/dist-packages (from pyppeteer>=0.0.14->requests_html) (4.62.3)\n",
            "Requirement already satisfied: websockets<10.0,>=9.1 in /usr/local/lib/python3.7/dist-packages (from pyppeteer>=0.0.14->requests_html) (9.1)\n",
            "Requirement already satisfied: appdirs<2.0.0,>=1.4.3 in /usr/local/lib/python3.7/dist-packages (from pyppeteer>=0.0.14->requests_html) (1.4.4)\n",
            "Requirement already satisfied: importlib-metadata>=1.4 in /usr/local/lib/python3.7/dist-packages (from pyppeteer>=0.0.14->requests_html) (4.8.2)\n",
            "Requirement already satisfied: pyee<9.0.0,>=8.1.0 in /usr/local/lib/python3.7/dist-packages (from pyppeteer>=0.0.14->requests_html) (8.2.2)\n",
            "Requirement already satisfied: zipp>=0.5 in /usr/local/lib/python3.7/dist-packages (from importlib-metadata>=1.4->pyppeteer>=0.0.14->requests_html) (3.6.0)\n",
            "Requirement already satisfied: typing-extensions>=3.6.4 in /usr/local/lib/python3.7/dist-packages (from importlib-metadata>=1.4->pyppeteer>=0.0.14->requests_html) (3.10.0.2)\n",
            "Requirement already satisfied: beautifulsoup4 in /usr/local/lib/python3.7/dist-packages (from bs4->requests_html) (4.6.3)\n",
            "Requirement already satisfied: lxml>=2.1 in /usr/local/lib/python3.7/dist-packages (from pyquery->requests_html) (4.6.4)\n",
            "Requirement already satisfied: cssselect>0.7.9 in /usr/local/lib/python3.7/dist-packages (from pyquery->requests_html) (1.1.0)\n",
            "Requirement already satisfied: certifi>=2017.4.17 in /usr/local/lib/python3.7/dist-packages (from requests->requests_html) (2021.10.8)\n",
            "Requirement already satisfied: chardet<4,>=3.0.2 in /usr/local/lib/python3.7/dist-packages (from requests->requests_html) (3.0.4)\n",
            "Requirement already satisfied: idna<3,>=2.5 in /usr/local/lib/python3.7/dist-packages (from requests->requests_html) (2.10)\n",
            "Requirement already satisfied: six>=1.4.1 in /usr/local/lib/python3.7/dist-packages (from w3lib->requests_html) (1.15.0)\n"
          ]
        }
      ]
    },
    {
      "cell_type": "code",
      "metadata": {
        "colab": {
          "base_uri": "https://localhost:8080/"
        },
        "id": "cyMKpWKkqQW3",
        "outputId": "2fa64bbd-82bd-42ef-daf9-89dc28b09ede"
      },
      "source": [
        "# Instalar Backtrader\n",
        "!pip install backtrader"
      ],
      "execution_count": 4,
      "outputs": [
        {
          "output_type": "stream",
          "name": "stdout",
          "text": [
            "Collecting backtrader\n",
            "  Downloading backtrader-1.9.76.123-py2.py3-none-any.whl (410 kB)\n",
            "\u001b[?25l\r\u001b[K     |▉                               | 10 kB 31.4 MB/s eta 0:00:01\r\u001b[K     |█▋                              | 20 kB 15.9 MB/s eta 0:00:01\r\u001b[K     |██▍                             | 30 kB 14.8 MB/s eta 0:00:01\r\u001b[K     |███▏                            | 40 kB 13.5 MB/s eta 0:00:01\r\u001b[K     |████                            | 51 kB 5.4 MB/s eta 0:00:01\r\u001b[K     |████▉                           | 61 kB 5.8 MB/s eta 0:00:01\r\u001b[K     |█████▋                          | 71 kB 5.4 MB/s eta 0:00:01\r\u001b[K     |██████▍                         | 81 kB 6.1 MB/s eta 0:00:01\r\u001b[K     |███████▏                        | 92 kB 6.0 MB/s eta 0:00:01\r\u001b[K     |████████                        | 102 kB 5.3 MB/s eta 0:00:01\r\u001b[K     |████████▉                       | 112 kB 5.3 MB/s eta 0:00:01\r\u001b[K     |█████████▋                      | 122 kB 5.3 MB/s eta 0:00:01\r\u001b[K     |██████████▍                     | 133 kB 5.3 MB/s eta 0:00:01\r\u001b[K     |███████████▏                    | 143 kB 5.3 MB/s eta 0:00:01\r\u001b[K     |████████████                    | 153 kB 5.3 MB/s eta 0:00:01\r\u001b[K     |████████████▉                   | 163 kB 5.3 MB/s eta 0:00:01\r\u001b[K     |█████████████▋                  | 174 kB 5.3 MB/s eta 0:00:01\r\u001b[K     |██████████████▍                 | 184 kB 5.3 MB/s eta 0:00:01\r\u001b[K     |███████████████▏                | 194 kB 5.3 MB/s eta 0:00:01\r\u001b[K     |████████████████                | 204 kB 5.3 MB/s eta 0:00:01\r\u001b[K     |████████████████▉               | 215 kB 5.3 MB/s eta 0:00:01\r\u001b[K     |█████████████████▋              | 225 kB 5.3 MB/s eta 0:00:01\r\u001b[K     |██████████████████▍             | 235 kB 5.3 MB/s eta 0:00:01\r\u001b[K     |███████████████████▏            | 245 kB 5.3 MB/s eta 0:00:01\r\u001b[K     |████████████████████            | 256 kB 5.3 MB/s eta 0:00:01\r\u001b[K     |████████████████████▊           | 266 kB 5.3 MB/s eta 0:00:01\r\u001b[K     |█████████████████████▋          | 276 kB 5.3 MB/s eta 0:00:01\r\u001b[K     |██████████████████████▍         | 286 kB 5.3 MB/s eta 0:00:01\r\u001b[K     |███████████████████████▏        | 296 kB 5.3 MB/s eta 0:00:01\r\u001b[K     |████████████████████████        | 307 kB 5.3 MB/s eta 0:00:01\r\u001b[K     |████████████████████████▊       | 317 kB 5.3 MB/s eta 0:00:01\r\u001b[K     |█████████████████████████▋      | 327 kB 5.3 MB/s eta 0:00:01\r\u001b[K     |██████████████████████████▍     | 337 kB 5.3 MB/s eta 0:00:01\r\u001b[K     |███████████████████████████▏    | 348 kB 5.3 MB/s eta 0:00:01\r\u001b[K     |████████████████████████████    | 358 kB 5.3 MB/s eta 0:00:01\r\u001b[K     |████████████████████████████▊   | 368 kB 5.3 MB/s eta 0:00:01\r\u001b[K     |█████████████████████████████▋  | 378 kB 5.3 MB/s eta 0:00:01\r\u001b[K     |██████████████████████████████▍ | 389 kB 5.3 MB/s eta 0:00:01\r\u001b[K     |███████████████████████████████▏| 399 kB 5.3 MB/s eta 0:00:01\r\u001b[K     |████████████████████████████████| 409 kB 5.3 MB/s eta 0:00:01\r\u001b[K     |████████████████████████████████| 410 kB 5.3 MB/s \n",
            "\u001b[?25hInstalling collected packages: backtrader\n",
            "Successfully installed backtrader-1.9.76.123\n"
          ]
        }
      ]
    },
    {
      "cell_type": "code",
      "metadata": {
        "colab": {
          "base_uri": "https://localhost:8080/"
        },
        "id": "-_QN0IxiqS2f",
        "outputId": "7bd0c377-e17d-4c64-a566-bb48c25b069c"
      },
      "source": [
        "!pip install backtrader[plotting]\n"
      ],
      "execution_count": 5,
      "outputs": [
        {
          "output_type": "stream",
          "name": "stdout",
          "text": [
            "Requirement already satisfied: backtrader[plotting] in /usr/local/lib/python3.7/dist-packages (1.9.76.123)\n",
            "Requirement already satisfied: matplotlib in /usr/local/lib/python3.7/dist-packages (from backtrader[plotting]) (3.2.2)\n",
            "Requirement already satisfied: pyparsing!=2.0.4,!=2.1.2,!=2.1.6,>=2.0.1 in /usr/local/lib/python3.7/dist-packages (from matplotlib->backtrader[plotting]) (2.4.7)\n",
            "Requirement already satisfied: python-dateutil>=2.1 in /usr/local/lib/python3.7/dist-packages (from matplotlib->backtrader[plotting]) (2.8.2)\n",
            "Requirement already satisfied: cycler>=0.10 in /usr/local/lib/python3.7/dist-packages (from matplotlib->backtrader[plotting]) (0.11.0)\n",
            "Requirement already satisfied: numpy>=1.11 in /usr/local/lib/python3.7/dist-packages (from matplotlib->backtrader[plotting]) (1.19.5)\n",
            "Requirement already satisfied: kiwisolver>=1.0.1 in /usr/local/lib/python3.7/dist-packages (from matplotlib->backtrader[plotting]) (1.3.2)\n",
            "Requirement already satisfied: six>=1.5 in /usr/local/lib/python3.7/dist-packages (from python-dateutil>=2.1->matplotlib->backtrader[plotting]) (1.15.0)\n"
          ]
        }
      ]
    },
    {
      "cell_type": "code",
      "metadata": {
        "id": "8WArpzu6qU8x"
      },
      "source": [
        "# Obtenha os pacotes necessários\n",
        "\n",
        "from datetime import datetime\n",
        "import backtrader as bt\n",
        "from IPython.display import display, Image\n",
        "import yfinance as yf\n",
        "import backtrader.analyzers as btanalyzers\n",
        "import backtrader.feeds as btfeeds\n",
        "import backtrader.strategies as btstrats\n",
        "import os\n",
        "import sys"
      ],
      "execution_count": 6,
      "outputs": []
    },
    {
      "cell_type": "code",
      "metadata": {
        "colab": {
          "base_uri": "https://localhost:8080/",
          "height": 1000
        },
        "id": "FoE800JXqXU_",
        "outputId": "def7d491-0553-40a0-a56e-5b3f01685bda"
      },
      "source": [
        "from yahoo_fin.stock_info import get_data\n",
        "data = get_data(\"BTC-USD\", start_date=\"10/04/2021\", end_date=\"11/04/2021\", index_as_date = True, interval=\"1d\")\n",
        "data"
      ],
      "execution_count": 8,
      "outputs": [
        {
          "output_type": "execute_result",
          "data": {
            "text/html": [
              "<div>\n",
              "<style scoped>\n",
              "    .dataframe tbody tr th:only-of-type {\n",
              "        vertical-align: middle;\n",
              "    }\n",
              "\n",
              "    .dataframe tbody tr th {\n",
              "        vertical-align: top;\n",
              "    }\n",
              "\n",
              "    .dataframe thead th {\n",
              "        text-align: right;\n",
              "    }\n",
              "</style>\n",
              "<table border=\"1\" class=\"dataframe\">\n",
              "  <thead>\n",
              "    <tr style=\"text-align: right;\">\n",
              "      <th></th>\n",
              "      <th>open</th>\n",
              "      <th>high</th>\n",
              "      <th>low</th>\n",
              "      <th>close</th>\n",
              "      <th>adjclose</th>\n",
              "      <th>volume</th>\n",
              "      <th>ticker</th>\n",
              "    </tr>\n",
              "  </thead>\n",
              "  <tbody>\n",
              "    <tr>\n",
              "      <th>2021-10-03</th>\n",
              "      <td>48208.906250</td>\n",
              "      <td>49456.777344</td>\n",
              "      <td>47045.003906</td>\n",
              "      <td>49112.902344</td>\n",
              "      <td>49112.902344</td>\n",
              "      <td>33383173002</td>\n",
              "      <td>BTC-USD</td>\n",
              "    </tr>\n",
              "    <tr>\n",
              "      <th>2021-10-04</th>\n",
              "      <td>49174.960938</td>\n",
              "      <td>51839.984375</td>\n",
              "      <td>49072.839844</td>\n",
              "      <td>51514.812500</td>\n",
              "      <td>51514.812500</td>\n",
              "      <td>35873904236</td>\n",
              "      <td>BTC-USD</td>\n",
              "    </tr>\n",
              "    <tr>\n",
              "      <th>2021-10-05</th>\n",
              "      <td>51486.664062</td>\n",
              "      <td>55568.464844</td>\n",
              "      <td>50488.191406</td>\n",
              "      <td>55361.449219</td>\n",
              "      <td>55361.449219</td>\n",
              "      <td>49034730168</td>\n",
              "      <td>BTC-USD</td>\n",
              "    </tr>\n",
              "    <tr>\n",
              "      <th>2021-10-06</th>\n",
              "      <td>55338.625000</td>\n",
              "      <td>55338.625000</td>\n",
              "      <td>53525.468750</td>\n",
              "      <td>53805.984375</td>\n",
              "      <td>53805.984375</td>\n",
              "      <td>36807860413</td>\n",
              "      <td>BTC-USD</td>\n",
              "    </tr>\n",
              "    <tr>\n",
              "      <th>2021-10-07</th>\n",
              "      <td>53802.144531</td>\n",
              "      <td>55922.980469</td>\n",
              "      <td>53688.054688</td>\n",
              "      <td>53967.847656</td>\n",
              "      <td>53967.847656</td>\n",
              "      <td>34800873924</td>\n",
              "      <td>BTC-USD</td>\n",
              "    </tr>\n",
              "    <tr>\n",
              "      <th>2021-10-08</th>\n",
              "      <td>53929.781250</td>\n",
              "      <td>55397.945312</td>\n",
              "      <td>53735.144531</td>\n",
              "      <td>54968.222656</td>\n",
              "      <td>54968.222656</td>\n",
              "      <td>32491211414</td>\n",
              "      <td>BTC-USD</td>\n",
              "    </tr>\n",
              "    <tr>\n",
              "      <th>2021-10-09</th>\n",
              "      <td>54952.820312</td>\n",
              "      <td>56401.304688</td>\n",
              "      <td>54264.257812</td>\n",
              "      <td>54771.578125</td>\n",
              "      <td>54771.578125</td>\n",
              "      <td>39527792364</td>\n",
              "      <td>BTC-USD</td>\n",
              "    </tr>\n",
              "    <tr>\n",
              "      <th>2021-10-10</th>\n",
              "      <td>54734.125000</td>\n",
              "      <td>57793.039062</td>\n",
              "      <td>54519.765625</td>\n",
              "      <td>57484.789062</td>\n",
              "      <td>57484.789062</td>\n",
              "      <td>42637331698</td>\n",
              "      <td>BTC-USD</td>\n",
              "    </tr>\n",
              "    <tr>\n",
              "      <th>2021-10-11</th>\n",
              "      <td>57526.832031</td>\n",
              "      <td>57627.878906</td>\n",
              "      <td>54477.972656</td>\n",
              "      <td>56041.058594</td>\n",
              "      <td>56041.058594</td>\n",
              "      <td>41083758949</td>\n",
              "      <td>BTC-USD</td>\n",
              "    </tr>\n",
              "    <tr>\n",
              "      <th>2021-10-12</th>\n",
              "      <td>56038.257812</td>\n",
              "      <td>57688.660156</td>\n",
              "      <td>54370.972656</td>\n",
              "      <td>57401.097656</td>\n",
              "      <td>57401.097656</td>\n",
              "      <td>41684252783</td>\n",
              "      <td>BTC-USD</td>\n",
              "    </tr>\n",
              "    <tr>\n",
              "      <th>2021-10-13</th>\n",
              "      <td>57372.832031</td>\n",
              "      <td>58478.734375</td>\n",
              "      <td>56957.074219</td>\n",
              "      <td>57321.523438</td>\n",
              "      <td>57321.523438</td>\n",
              "      <td>36615791366</td>\n",
              "      <td>BTC-USD</td>\n",
              "    </tr>\n",
              "    <tr>\n",
              "      <th>2021-10-14</th>\n",
              "      <td>57345.902344</td>\n",
              "      <td>62757.128906</td>\n",
              "      <td>56868.144531</td>\n",
              "      <td>61593.949219</td>\n",
              "      <td>61593.949219</td>\n",
              "      <td>51780081801</td>\n",
              "      <td>BTC-USD</td>\n",
              "    </tr>\n",
              "    <tr>\n",
              "      <th>2021-10-15</th>\n",
              "      <td>61609.527344</td>\n",
              "      <td>62274.476562</td>\n",
              "      <td>60206.121094</td>\n",
              "      <td>60892.179688</td>\n",
              "      <td>60892.179688</td>\n",
              "      <td>34250964237</td>\n",
              "      <td>BTC-USD</td>\n",
              "    </tr>\n",
              "    <tr>\n",
              "      <th>2021-10-16</th>\n",
              "      <td>60887.652344</td>\n",
              "      <td>61645.523438</td>\n",
              "      <td>59164.468750</td>\n",
              "      <td>61553.617188</td>\n",
              "      <td>61553.617188</td>\n",
              "      <td>29032367511</td>\n",
              "      <td>BTC-USD</td>\n",
              "    </tr>\n",
              "    <tr>\n",
              "      <th>2021-10-17</th>\n",
              "      <td>61548.804688</td>\n",
              "      <td>62614.660156</td>\n",
              "      <td>60012.757812</td>\n",
              "      <td>62026.078125</td>\n",
              "      <td>62026.078125</td>\n",
              "      <td>38055562075</td>\n",
              "      <td>BTC-USD</td>\n",
              "    </tr>\n",
              "    <tr>\n",
              "      <th>2021-10-18</th>\n",
              "      <td>62043.164062</td>\n",
              "      <td>64434.535156</td>\n",
              "      <td>61622.933594</td>\n",
              "      <td>64261.992188</td>\n",
              "      <td>64261.992188</td>\n",
              "      <td>40471196346</td>\n",
              "      <td>BTC-USD</td>\n",
              "    </tr>\n",
              "    <tr>\n",
              "      <th>2021-10-19</th>\n",
              "      <td>64284.585938</td>\n",
              "      <td>66930.390625</td>\n",
              "      <td>63610.675781</td>\n",
              "      <td>65992.835938</td>\n",
              "      <td>65992.835938</td>\n",
              "      <td>40788955582</td>\n",
              "      <td>BTC-USD</td>\n",
              "    </tr>\n",
              "    <tr>\n",
              "      <th>2021-10-20</th>\n",
              "      <td>66002.234375</td>\n",
              "      <td>66600.546875</td>\n",
              "      <td>62117.410156</td>\n",
              "      <td>62210.171875</td>\n",
              "      <td>62210.171875</td>\n",
              "      <td>45908121370</td>\n",
              "      <td>BTC-USD</td>\n",
              "    </tr>\n",
              "    <tr>\n",
              "      <th>2021-10-21</th>\n",
              "      <td>62237.890625</td>\n",
              "      <td>63715.023438</td>\n",
              "      <td>60122.796875</td>\n",
              "      <td>60692.265625</td>\n",
              "      <td>60692.265625</td>\n",
              "      <td>38434082775</td>\n",
              "      <td>BTC-USD</td>\n",
              "    </tr>\n",
              "    <tr>\n",
              "      <th>2021-10-22</th>\n",
              "      <td>60694.628906</td>\n",
              "      <td>61743.878906</td>\n",
              "      <td>59826.523438</td>\n",
              "      <td>61393.617188</td>\n",
              "      <td>61393.617188</td>\n",
              "      <td>26882546034</td>\n",
              "      <td>BTC-USD</td>\n",
              "    </tr>\n",
              "    <tr>\n",
              "      <th>2021-10-23</th>\n",
              "      <td>61368.343750</td>\n",
              "      <td>61505.804688</td>\n",
              "      <td>59643.343750</td>\n",
              "      <td>60930.835938</td>\n",
              "      <td>60930.835938</td>\n",
              "      <td>27316183882</td>\n",
              "      <td>BTC-USD</td>\n",
              "    </tr>\n",
              "    <tr>\n",
              "      <th>2021-10-24</th>\n",
              "      <td>60893.925781</td>\n",
              "      <td>63729.324219</td>\n",
              "      <td>60691.800781</td>\n",
              "      <td>63039.824219</td>\n",
              "      <td>63039.824219</td>\n",
              "      <td>31064911614</td>\n",
              "      <td>BTC-USD</td>\n",
              "    </tr>\n",
              "    <tr>\n",
              "      <th>2021-10-25</th>\n",
              "      <td>63032.761719</td>\n",
              "      <td>63229.027344</td>\n",
              "      <td>59991.160156</td>\n",
              "      <td>60363.792969</td>\n",
              "      <td>60363.792969</td>\n",
              "      <td>34878965587</td>\n",
              "      <td>BTC-USD</td>\n",
              "    </tr>\n",
              "    <tr>\n",
              "      <th>2021-10-26</th>\n",
              "      <td>60352.000000</td>\n",
              "      <td>61435.183594</td>\n",
              "      <td>58208.187500</td>\n",
              "      <td>58482.386719</td>\n",
              "      <td>58482.386719</td>\n",
              "      <td>43657076893</td>\n",
              "      <td>BTC-USD</td>\n",
              "    </tr>\n",
              "    <tr>\n",
              "      <th>2021-10-27</th>\n",
              "      <td>58470.730469</td>\n",
              "      <td>62128.632812</td>\n",
              "      <td>58206.917969</td>\n",
              "      <td>60622.136719</td>\n",
              "      <td>60622.136719</td>\n",
              "      <td>45257083247</td>\n",
              "      <td>BTC-USD</td>\n",
              "    </tr>\n",
              "    <tr>\n",
              "      <th>2021-10-28</th>\n",
              "      <td>60624.871094</td>\n",
              "      <td>62927.609375</td>\n",
              "      <td>60329.964844</td>\n",
              "      <td>62227.964844</td>\n",
              "      <td>62227.964844</td>\n",
              "      <td>36856881767</td>\n",
              "      <td>BTC-USD</td>\n",
              "    </tr>\n",
              "    <tr>\n",
              "      <th>2021-10-29</th>\n",
              "      <td>62239.363281</td>\n",
              "      <td>62330.144531</td>\n",
              "      <td>60918.386719</td>\n",
              "      <td>61888.832031</td>\n",
              "      <td>61888.832031</td>\n",
              "      <td>32157938616</td>\n",
              "      <td>BTC-USD</td>\n",
              "    </tr>\n",
              "    <tr>\n",
              "      <th>2021-10-30</th>\n",
              "      <td>61850.488281</td>\n",
              "      <td>62406.171875</td>\n",
              "      <td>60074.328125</td>\n",
              "      <td>61318.957031</td>\n",
              "      <td>61318.957031</td>\n",
              "      <td>32241199927</td>\n",
              "      <td>BTC-USD</td>\n",
              "    </tr>\n",
              "    <tr>\n",
              "      <th>2021-11-01</th>\n",
              "      <td>61320.449219</td>\n",
              "      <td>62419.003906</td>\n",
              "      <td>59695.183594</td>\n",
              "      <td>61004.406250</td>\n",
              "      <td>61004.406250</td>\n",
              "      <td>36150572843</td>\n",
              "      <td>BTC-USD</td>\n",
              "    </tr>\n",
              "    <tr>\n",
              "      <th>2021-11-02</th>\n",
              "      <td>60963.253906</td>\n",
              "      <td>64242.792969</td>\n",
              "      <td>60673.054688</td>\n",
              "      <td>63226.402344</td>\n",
              "      <td>63226.402344</td>\n",
              "      <td>37746665647</td>\n",
              "      <td>BTC-USD</td>\n",
              "    </tr>\n",
              "    <tr>\n",
              "      <th>2021-11-03</th>\n",
              "      <td>63254.335938</td>\n",
              "      <td>63516.937500</td>\n",
              "      <td>61184.238281</td>\n",
              "      <td>62970.046875</td>\n",
              "      <td>62970.046875</td>\n",
              "      <td>36124731509</td>\n",
              "      <td>BTC-USD</td>\n",
              "    </tr>\n",
              "    <tr>\n",
              "      <th>2021-11-04</th>\n",
              "      <td>62941.804688</td>\n",
              "      <td>63123.289062</td>\n",
              "      <td>60799.664062</td>\n",
              "      <td>61452.230469</td>\n",
              "      <td>61452.230469</td>\n",
              "      <td>32615846901</td>\n",
              "      <td>BTC-USD</td>\n",
              "    </tr>\n",
              "  </tbody>\n",
              "</table>\n",
              "</div>"
            ],
            "text/plain": [
              "                    open          high  ...       volume   ticker\n",
              "2021-10-03  48208.906250  49456.777344  ...  33383173002  BTC-USD\n",
              "2021-10-04  49174.960938  51839.984375  ...  35873904236  BTC-USD\n",
              "2021-10-05  51486.664062  55568.464844  ...  49034730168  BTC-USD\n",
              "2021-10-06  55338.625000  55338.625000  ...  36807860413  BTC-USD\n",
              "2021-10-07  53802.144531  55922.980469  ...  34800873924  BTC-USD\n",
              "2021-10-08  53929.781250  55397.945312  ...  32491211414  BTC-USD\n",
              "2021-10-09  54952.820312  56401.304688  ...  39527792364  BTC-USD\n",
              "2021-10-10  54734.125000  57793.039062  ...  42637331698  BTC-USD\n",
              "2021-10-11  57526.832031  57627.878906  ...  41083758949  BTC-USD\n",
              "2021-10-12  56038.257812  57688.660156  ...  41684252783  BTC-USD\n",
              "2021-10-13  57372.832031  58478.734375  ...  36615791366  BTC-USD\n",
              "2021-10-14  57345.902344  62757.128906  ...  51780081801  BTC-USD\n",
              "2021-10-15  61609.527344  62274.476562  ...  34250964237  BTC-USD\n",
              "2021-10-16  60887.652344  61645.523438  ...  29032367511  BTC-USD\n",
              "2021-10-17  61548.804688  62614.660156  ...  38055562075  BTC-USD\n",
              "2021-10-18  62043.164062  64434.535156  ...  40471196346  BTC-USD\n",
              "2021-10-19  64284.585938  66930.390625  ...  40788955582  BTC-USD\n",
              "2021-10-20  66002.234375  66600.546875  ...  45908121370  BTC-USD\n",
              "2021-10-21  62237.890625  63715.023438  ...  38434082775  BTC-USD\n",
              "2021-10-22  60694.628906  61743.878906  ...  26882546034  BTC-USD\n",
              "2021-10-23  61368.343750  61505.804688  ...  27316183882  BTC-USD\n",
              "2021-10-24  60893.925781  63729.324219  ...  31064911614  BTC-USD\n",
              "2021-10-25  63032.761719  63229.027344  ...  34878965587  BTC-USD\n",
              "2021-10-26  60352.000000  61435.183594  ...  43657076893  BTC-USD\n",
              "2021-10-27  58470.730469  62128.632812  ...  45257083247  BTC-USD\n",
              "2021-10-28  60624.871094  62927.609375  ...  36856881767  BTC-USD\n",
              "2021-10-29  62239.363281  62330.144531  ...  32157938616  BTC-USD\n",
              "2021-10-30  61850.488281  62406.171875  ...  32241199927  BTC-USD\n",
              "2021-11-01  61320.449219  62419.003906  ...  36150572843  BTC-USD\n",
              "2021-11-02  60963.253906  64242.792969  ...  37746665647  BTC-USD\n",
              "2021-11-03  63254.335938  63516.937500  ...  36124731509  BTC-USD\n",
              "2021-11-04  62941.804688  63123.289062  ...  32615846901  BTC-USD\n",
              "\n",
              "[32 rows x 7 columns]"
            ]
          },
          "metadata": {},
          "execution_count": 8
        }
      ]
    },
    {
      "cell_type": "code",
      "metadata": {
        "id": "rKkXwuPAqsp4"
      },
      "source": [
        "data.to_csv('/content/bitcoin.csv')"
      ],
      "execution_count": 9,
      "outputs": []
    },
    {
      "cell_type": "code",
      "metadata": {
        "id": "y0SM5xWXqvuA"
      },
      "source": [
        "from  __future__  import  ( absolute_import ,  division ,  print_function , \n",
        "                        unicode_literals ) \n",
        "\n",
        "import  datetime   # Para objetos datetime \n",
        "import  os.path   # Para gerenciar caminhos \n",
        "import  sys   # Para descobrir o nome do script (em argv [0])"
      ],
      "execution_count": 10,
      "outputs": []
    },
    {
      "cell_type": "code",
      "metadata": {
        "id": "PFGBkcbHqyHo"
      },
      "source": [
        "# Cria a  estrategia\n",
        "class TestStrategy(bt.Strategy):\n",
        "\n",
        "    def log(self, csv, dt=None):\n",
        "        ''' Logging function fot this strategy'''\n",
        "        dt = dt or self.datas[0].datetime.date(0)\n",
        "        print('%s, %s' % (dt.isoformat(), csv))\n",
        "\n",
        "    def __init__(self):\n",
        "        # Mantenha uma referência à linha \"fechar\" na série de dados data [0]\n",
        "        self.dataclose = self.datas[0].close\n",
        "\n",
        "    def next(self):\n",
        "        # Basta registrar o preço de fechamento da série da referência\n",
        "        self.log('FECHAR, %.2f' % self.dataclose[0])\n",
        "\n",
        "        if self.dataclose[0] < self.dataclose[-1]:\n",
        "            # fechamento atual menor que fechamento anterior\n",
        "\n",
        "            if self.dataclose[-1] < self.dataclose[-2]:\n",
        "                # fechamento anterior menor que o fechamento anterior\n",
        "\n",
        "                # COMPRE, COMPRE, COMPRE !!! (com todos os parâmetros padrão possíveis)\n",
        "                self.log('CRIAR COMPRA, %.2f' % self.dataclose[0])\n",
        "                self.buy()"
      ],
      "execution_count": 24,
      "outputs": []
    },
    {
      "cell_type": "code",
      "metadata": {
        "id": "ZzXKMvT4q0U9"
      },
      "source": [
        "if __name__ == '__main__':\n",
        "    # Create a cerebro entity\n",
        "    cerebro = bt.Cerebro()"
      ],
      "execution_count": 25,
      "outputs": []
    },
    {
      "cell_type": "code",
      "metadata": {
        "colab": {
          "base_uri": "https://localhost:8080/"
        },
        "id": "38P9wOp3q2Wg",
        "outputId": "5372298d-1044-4629-cda5-524ade02f85e"
      },
      "source": [
        "# Add a strategy\n",
        "cerebro.addstrategy(TestStrategy)"
      ],
      "execution_count": 26,
      "outputs": [
        {
          "output_type": "execute_result",
          "data": {
            "text/plain": [
              "0"
            ]
          },
          "metadata": {},
          "execution_count": 26
        }
      ]
    },
    {
      "cell_type": "code",
      "metadata": {
        "id": "xWcc_wk2q4F2"
      },
      "source": [
        "# Datas are in a subfolder of the samples. Need to find where the script is\n",
        "    # because it could have been called from anywhere\n",
        "modpath = os.path.dirname(os.path.abspath(sys.argv[0]))\n",
        "datapath = os.path.join(modpath, '/content/bitcoin.csv')"
      ],
      "execution_count": 27,
      "outputs": []
    },
    {
      "cell_type": "code",
      "metadata": {
        "id": "nSOuy4Q3rDfa"
      },
      "source": [
        "# Create a Data Feed\n",
        "data = bt.feeds.YahooFinanceCSVData(\n",
        "        dataname=datapath,\n",
        "              reverse=False)"
      ],
      "execution_count": 28,
      "outputs": []
    },
    {
      "cell_type": "code",
      "metadata": {
        "colab": {
          "base_uri": "https://localhost:8080/"
        },
        "id": "o4M3fujsrPYn",
        "outputId": "2c08e6a8-d53a-4870-90d8-f675f2ee9a36"
      },
      "source": [
        "# Add the Data Feed to Cerebro\n",
        "cerebro.adddata(data)"
      ],
      "execution_count": 29,
      "outputs": [
        {
          "output_type": "execute_result",
          "data": {
            "text/plain": [
              "<backtrader.feeds.yahoo.YahooFinanceCSVData at 0x7f5c8169c290>"
            ]
          },
          "metadata": {},
          "execution_count": 29
        }
      ]
    },
    {
      "cell_type": "code",
      "metadata": {
        "colab": {
          "base_uri": "https://localhost:8080/"
        },
        "id": "8rRnYcNirSLw",
        "outputId": "603d3ebc-1f1c-45c1-961a-2eb8d5b69c35"
      },
      "source": [
        "# Set our desired cash start\n",
        "cerebro.broker.setcash(100000.0)\n",
        "# Print out the starting conditions\n",
        "print('Valor Inicial do Portfólio: %.2f' % cerebro.broker.getvalue())"
      ],
      "execution_count": 30,
      "outputs": [
        {
          "output_type": "stream",
          "name": "stdout",
          "text": [
            "Valor Inicial do Portfólio: 100000.00\n"
          ]
        }
      ]
    },
    {
      "cell_type": "code",
      "metadata": {
        "colab": {
          "base_uri": "https://localhost:8080/"
        },
        "id": "H_SC_RWJrbLq",
        "outputId": "e9138cf7-b611-4867-aa66-638299625c47"
      },
      "source": [
        "# Rodando cerebro\n",
        "cerebro.run()"
      ],
      "execution_count": 31,
      "outputs": [
        {
          "output_type": "stream",
          "name": "stdout",
          "text": [
            "2021-10-03, FECHAR, 49112.90\n",
            "2021-10-03, CRIAR COMPRA, 49112.90\n",
            "2021-10-04, FECHAR, 51514.81\n",
            "2021-10-05, FECHAR, 55361.45\n",
            "2021-10-06, FECHAR, 53805.98\n",
            "2021-10-07, FECHAR, 53967.85\n",
            "2021-10-08, FECHAR, 54968.22\n",
            "2021-10-09, FECHAR, 54771.58\n",
            "2021-10-10, FECHAR, 57484.79\n",
            "2021-10-11, FECHAR, 56041.06\n",
            "2021-10-12, FECHAR, 57401.10\n",
            "2021-10-13, FECHAR, 57321.52\n",
            "2021-10-14, FECHAR, 61593.95\n",
            "2021-10-15, FECHAR, 60892.18\n",
            "2021-10-16, FECHAR, 61553.62\n",
            "2021-10-17, FECHAR, 62026.08\n",
            "2021-10-18, FECHAR, 64261.99\n",
            "2021-10-19, FECHAR, 65992.84\n",
            "2021-10-20, FECHAR, 62210.17\n",
            "2021-10-21, FECHAR, 60692.27\n",
            "2021-10-21, CRIAR COMPRA, 60692.27\n",
            "2021-10-22, FECHAR, 61393.62\n",
            "2021-10-23, FECHAR, 60930.84\n",
            "2021-10-24, FECHAR, 63039.82\n",
            "2021-10-25, FECHAR, 60363.79\n",
            "2021-10-26, FECHAR, 58482.39\n",
            "2021-10-26, CRIAR COMPRA, 58482.39\n",
            "2021-10-27, FECHAR, 60622.14\n",
            "2021-10-28, FECHAR, 62227.96\n",
            "2021-10-29, FECHAR, 61888.83\n",
            "2021-10-30, FECHAR, 61318.96\n",
            "2021-10-30, CRIAR COMPRA, 61318.96\n",
            "2021-11-01, FECHAR, 61004.41\n",
            "2021-11-01, CRIAR COMPRA, 61004.41\n",
            "2021-11-02, FECHAR, 63226.40\n",
            "2021-11-03, FECHAR, 62970.05\n",
            "2021-11-04, FECHAR, 61452.23\n",
            "2021-11-04, CRIAR COMPRA, 61452.23\n"
          ]
        },
        {
          "output_type": "execute_result",
          "data": {
            "text/plain": [
              "[<__main__.TestStrategy at 0x7f5c816ab790>]"
            ]
          },
          "metadata": {},
          "execution_count": 31
        }
      ]
    },
    {
      "cell_type": "code",
      "metadata": {
        "colab": {
          "base_uri": "https://localhost:8080/"
        },
        "id": "_iVeqdhareE_",
        "outputId": "7237555b-1e94-4794-830e-01e16256f8b6"
      },
      "source": [
        "# Print out the final result\n",
        "print('Valor Final do Portfólio: %.2f' % cerebro.broker.getvalue())"
      ],
      "execution_count": 32,
      "outputs": [
        {
          "output_type": "stream",
          "name": "stdout",
          "text": [
            "Valor Final do Portfólio: 112277.27\n"
          ]
        }
      ]
    }
  ]
}