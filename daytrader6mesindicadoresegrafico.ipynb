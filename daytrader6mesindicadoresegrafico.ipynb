{
  "nbformat": 4,
  "nbformat_minor": 0,
  "metadata": {
    "colab": {
      "name": "daytrader1mes.ipynb",
      "provenance": [],
      "authorship_tag": "ABX9TyOdIQy8HQW//ahaOYRQpw00",
      "include_colab_link": true
    },
    "kernelspec": {
      "name": "python3",
      "display_name": "Python 3"
    },
    "language_info": {
      "name": "python"
    },
    "accelerator": "GPU"
  },
  "cells": [
    {
      "cell_type": "markdown",
      "metadata": {
        "id": "view-in-github",
        "colab_type": "text"
      },
      "source": [
        "<a href=\"https://colab.research.google.com/github/SauloHenriqueAguiar/backtestBacktrading/blob/main/daytrader6mesindicadoresegrafico.ipynb\" target=\"_parent\"><img src=\"https://colab.research.google.com/assets/colab-badge.svg\" alt=\"Open In Colab\"/></a>"
      ]
    },
    {
      "cell_type": "code",
      "metadata": {
        "colab": {
          "base_uri": "https://localhost:8080/"
        },
        "id": "oVn3Ht46b6Dt",
        "outputId": "538108d6-eaef-432e-9075-9d867443aa0e"
      },
      "source": [
        "!pip install yahoo_fin\n"
      ],
      "execution_count": 1,
      "outputs": [
        {
          "output_type": "stream",
          "name": "stdout",
          "text": [
            "Collecting yahoo_fin\n",
            "  Downloading yahoo_fin-0.8.9.1-py3-none-any.whl (10 kB)\n",
            "Requirement already satisfied: requests in /usr/local/lib/python3.7/dist-packages (from yahoo_fin) (2.23.0)\n",
            "Requirement already satisfied: pandas in /usr/local/lib/python3.7/dist-packages (from yahoo_fin) (1.1.5)\n",
            "Collecting requests-html\n",
            "  Downloading requests_html-0.10.0-py3-none-any.whl (13 kB)\n",
            "Collecting feedparser\n",
            "  Downloading feedparser-6.0.8-py3-none-any.whl (81 kB)\n",
            "\u001b[K     |████████████████████████████████| 81 kB 6.7 MB/s \n",
            "\u001b[?25hCollecting sgmllib3k\n",
            "  Downloading sgmllib3k-1.0.0.tar.gz (5.8 kB)\n",
            "Requirement already satisfied: python-dateutil>=2.7.3 in /usr/local/lib/python3.7/dist-packages (from pandas->yahoo_fin) (2.8.2)\n",
            "Requirement already satisfied: numpy>=1.15.4 in /usr/local/lib/python3.7/dist-packages (from pandas->yahoo_fin) (1.19.5)\n",
            "Requirement already satisfied: pytz>=2017.2 in /usr/local/lib/python3.7/dist-packages (from pandas->yahoo_fin) (2018.9)\n",
            "Requirement already satisfied: six>=1.5 in /usr/local/lib/python3.7/dist-packages (from python-dateutil>=2.7.3->pandas->yahoo_fin) (1.15.0)\n",
            "Requirement already satisfied: certifi>=2017.4.17 in /usr/local/lib/python3.7/dist-packages (from requests->yahoo_fin) (2021.10.8)\n",
            "Requirement already satisfied: urllib3!=1.25.0,!=1.25.1,<1.26,>=1.21.1 in /usr/local/lib/python3.7/dist-packages (from requests->yahoo_fin) (1.24.3)\n",
            "Requirement already satisfied: chardet<4,>=3.0.2 in /usr/local/lib/python3.7/dist-packages (from requests->yahoo_fin) (3.0.4)\n",
            "Requirement already satisfied: idna<3,>=2.5 in /usr/local/lib/python3.7/dist-packages (from requests->yahoo_fin) (2.10)\n",
            "Collecting fake-useragent\n",
            "  Downloading fake-useragent-0.1.11.tar.gz (13 kB)\n",
            "Collecting w3lib\n",
            "  Downloading w3lib-1.22.0-py2.py3-none-any.whl (20 kB)\n",
            "Collecting pyppeteer>=0.0.14\n",
            "  Downloading pyppeteer-0.2.6-py3-none-any.whl (83 kB)\n",
            "\u001b[K     |████████████████████████████████| 83 kB 2.5 MB/s \n",
            "\u001b[?25hRequirement already satisfied: bs4 in /usr/local/lib/python3.7/dist-packages (from requests-html->yahoo_fin) (0.0.1)\n",
            "Collecting pyquery\n",
            "  Downloading pyquery-1.4.3-py3-none-any.whl (22 kB)\n",
            "Collecting parse\n",
            "  Downloading parse-1.19.0.tar.gz (30 kB)\n",
            "Requirement already satisfied: appdirs<2.0.0,>=1.4.3 in /usr/local/lib/python3.7/dist-packages (from pyppeteer>=0.0.14->requests-html->yahoo_fin) (1.4.4)\n",
            "Collecting websockets<10.0,>=9.1\n",
            "  Downloading websockets-9.1-cp37-cp37m-manylinux2010_x86_64.whl (103 kB)\n",
            "\u001b[K     |████████████████████████████████| 103 kB 47.4 MB/s \n",
            "\u001b[?25hRequirement already satisfied: importlib-metadata>=1.4 in /usr/local/lib/python3.7/dist-packages (from pyppeteer>=0.0.14->requests-html->yahoo_fin) (4.8.2)\n",
            "Collecting pyee<9.0.0,>=8.1.0\n",
            "  Downloading pyee-8.2.2-py2.py3-none-any.whl (12 kB)\n",
            "Requirement already satisfied: tqdm<5.0.0,>=4.42.1 in /usr/local/lib/python3.7/dist-packages (from pyppeteer>=0.0.14->requests-html->yahoo_fin) (4.62.3)\n",
            "Collecting urllib3!=1.25.0,!=1.25.1,<1.26,>=1.21.1\n",
            "  Downloading urllib3-1.25.11-py2.py3-none-any.whl (127 kB)\n",
            "\u001b[K     |████████████████████████████████| 127 kB 43.2 MB/s \n",
            "\u001b[?25hRequirement already satisfied: typing-extensions>=3.6.4 in /usr/local/lib/python3.7/dist-packages (from importlib-metadata>=1.4->pyppeteer>=0.0.14->requests-html->yahoo_fin) (3.10.0.2)\n",
            "Requirement already satisfied: zipp>=0.5 in /usr/local/lib/python3.7/dist-packages (from importlib-metadata>=1.4->pyppeteer>=0.0.14->requests-html->yahoo_fin) (3.6.0)\n",
            "Requirement already satisfied: beautifulsoup4 in /usr/local/lib/python3.7/dist-packages (from bs4->requests-html->yahoo_fin) (4.6.3)\n",
            "Requirement already satisfied: lxml>=2.1 in /usr/local/lib/python3.7/dist-packages (from pyquery->requests-html->yahoo_fin) (4.2.6)\n",
            "Collecting cssselect>0.7.9\n",
            "  Downloading cssselect-1.1.0-py2.py3-none-any.whl (16 kB)\n",
            "Building wheels for collected packages: fake-useragent, parse, sgmllib3k\n",
            "  Building wheel for fake-useragent (setup.py) ... \u001b[?25l\u001b[?25hdone\n",
            "  Created wheel for fake-useragent: filename=fake_useragent-0.1.11-py3-none-any.whl size=13502 sha256=1da5bee23bf6e2097ccbe8ed4fd45333d3ce0cb439cbdec704d6628348922614\n",
            "  Stored in directory: /root/.cache/pip/wheels/ed/f7/62/50ab6c9a0b5567267ab76a9daa9d06315704209b2c5d032031\n",
            "  Building wheel for parse (setup.py) ... \u001b[?25l\u001b[?25hdone\n",
            "  Created wheel for parse: filename=parse-1.19.0-py3-none-any.whl size=24591 sha256=5ae75e2d9e8eec3c006f9da145679819194c7c0cf2878c3b2712698faa09f4ee\n",
            "  Stored in directory: /root/.cache/pip/wheels/9c/aa/cc/f2228050ccb40f22144b073f15a2c84f11204f29fc0dce028e\n",
            "  Building wheel for sgmllib3k (setup.py) ... \u001b[?25l\u001b[?25hdone\n",
            "  Created wheel for sgmllib3k: filename=sgmllib3k-1.0.0-py3-none-any.whl size=6065 sha256=ecd6b1442eade3e6c885fdf2a1a2c11c69444b7a9b9209c26b978ce476cc2b69\n",
            "  Stored in directory: /root/.cache/pip/wheels/73/ad/a4/0dff4a6ef231fc0dfa12ffbac2a36cebfdddfe059f50e019aa\n",
            "Successfully built fake-useragent parse sgmllib3k\n",
            "Installing collected packages: websockets, urllib3, pyee, cssselect, w3lib, sgmllib3k, pyquery, pyppeteer, parse, fake-useragent, requests-html, feedparser, yahoo-fin\n",
            "  Attempting uninstall: urllib3\n",
            "    Found existing installation: urllib3 1.24.3\n",
            "    Uninstalling urllib3-1.24.3:\n",
            "      Successfully uninstalled urllib3-1.24.3\n",
            "\u001b[31mERROR: pip's dependency resolver does not currently take into account all the packages that are installed. This behaviour is the source of the following dependency conflicts.\n",
            "datascience 0.10.6 requires folium==0.2.1, but you have folium 0.8.3 which is incompatible.\u001b[0m\n",
            "Successfully installed cssselect-1.1.0 fake-useragent-0.1.11 feedparser-6.0.8 parse-1.19.0 pyee-8.2.2 pyppeteer-0.2.6 pyquery-1.4.3 requests-html-0.10.0 sgmllib3k-1.0.0 urllib3-1.25.11 w3lib-1.22.0 websockets-9.1 yahoo-fin-0.8.9.1\n"
          ]
        }
      ]
    },
    {
      "cell_type": "code",
      "metadata": {
        "colab": {
          "base_uri": "https://localhost:8080/"
        },
        "id": "xX8efFEtqHo3",
        "outputId": "0d2d9dad-4211-43a7-b49c-edb7fc0a10b0"
      },
      "source": [
        "#instala biblioteca yfinance\n",
        "!pip install yfinance --upgrade --no-cache-dir"
      ],
      "execution_count": 2,
      "outputs": [
        {
          "output_type": "stream",
          "name": "stdout",
          "text": [
            "Collecting yfinance\n",
            "  Downloading yfinance-0.1.64.tar.gz (26 kB)\n",
            "Requirement already satisfied: pandas>=0.24 in /usr/local/lib/python3.7/dist-packages (from yfinance) (1.1.5)\n",
            "Requirement already satisfied: numpy>=1.15 in /usr/local/lib/python3.7/dist-packages (from yfinance) (1.19.5)\n",
            "Requirement already satisfied: requests>=2.20 in /usr/local/lib/python3.7/dist-packages (from yfinance) (2.23.0)\n",
            "Requirement already satisfied: multitasking>=0.0.7 in /usr/local/lib/python3.7/dist-packages (from yfinance) (0.0.9)\n",
            "Collecting lxml>=4.5.1\n",
            "  Downloading lxml-4.6.4-cp37-cp37m-manylinux_2_17_x86_64.manylinux2014_x86_64.manylinux_2_24_x86_64.whl (6.3 MB)\n",
            "\u001b[K     |████████████████████████████████| 6.3 MB 12.0 MB/s \n",
            "\u001b[?25hRequirement already satisfied: pytz>=2017.2 in /usr/local/lib/python3.7/dist-packages (from pandas>=0.24->yfinance) (2018.9)\n",
            "Requirement already satisfied: python-dateutil>=2.7.3 in /usr/local/lib/python3.7/dist-packages (from pandas>=0.24->yfinance) (2.8.2)\n",
            "Requirement already satisfied: six>=1.5 in /usr/local/lib/python3.7/dist-packages (from python-dateutil>=2.7.3->pandas>=0.24->yfinance) (1.15.0)\n",
            "Requirement already satisfied: certifi>=2017.4.17 in /usr/local/lib/python3.7/dist-packages (from requests>=2.20->yfinance) (2021.10.8)\n",
            "Requirement already satisfied: idna<3,>=2.5 in /usr/local/lib/python3.7/dist-packages (from requests>=2.20->yfinance) (2.10)\n",
            "Requirement already satisfied: chardet<4,>=3.0.2 in /usr/local/lib/python3.7/dist-packages (from requests>=2.20->yfinance) (3.0.4)\n",
            "Requirement already satisfied: urllib3!=1.25.0,!=1.25.1,<1.26,>=1.21.1 in /usr/local/lib/python3.7/dist-packages (from requests>=2.20->yfinance) (1.25.11)\n",
            "Building wheels for collected packages: yfinance\n",
            "  Building wheel for yfinance (setup.py) ... \u001b[?25l\u001b[?25hdone\n",
            "  Created wheel for yfinance: filename=yfinance-0.1.64-py2.py3-none-any.whl size=24109 sha256=44c05cba57e051430be3d07918531e90153568b8ec8649ee2249237071062ecd\n",
            "  Stored in directory: /tmp/pip-ephem-wheel-cache-hcx66zs0/wheels/86/fe/9b/a4d3d78796b699e37065e5b6c27b75cff448ddb8b24943c288\n",
            "Successfully built yfinance\n",
            "Installing collected packages: lxml, yfinance\n",
            "  Attempting uninstall: lxml\n",
            "    Found existing installation: lxml 4.2.6\n",
            "    Uninstalling lxml-4.2.6:\n",
            "      Successfully uninstalled lxml-4.2.6\n",
            "Successfully installed lxml-4.6.4 yfinance-0.1.64\n"
          ]
        }
      ]
    },
    {
      "cell_type": "code",
      "metadata": {
        "colab": {
          "base_uri": "https://localhost:8080/"
        },
        "id": "irAiRnHDqN4D",
        "outputId": "c5a35673-772d-4c92-d01f-8de58f1a3989"
      },
      "source": [
        "#instala request\n",
        "!pip install requests_html"
      ],
      "execution_count": 3,
      "outputs": [
        {
          "output_type": "stream",
          "name": "stdout",
          "text": [
            "Requirement already satisfied: requests_html in /usr/local/lib/python3.7/dist-packages (0.10.0)\n",
            "Requirement already satisfied: bs4 in /usr/local/lib/python3.7/dist-packages (from requests_html) (0.0.1)\n",
            "Requirement already satisfied: parse in /usr/local/lib/python3.7/dist-packages (from requests_html) (1.19.0)\n",
            "Requirement already satisfied: w3lib in /usr/local/lib/python3.7/dist-packages (from requests_html) (1.22.0)\n",
            "Requirement already satisfied: fake-useragent in /usr/local/lib/python3.7/dist-packages (from requests_html) (0.1.11)\n",
            "Requirement already satisfied: pyppeteer>=0.0.14 in /usr/local/lib/python3.7/dist-packages (from requests_html) (0.2.6)\n",
            "Requirement already satisfied: requests in /usr/local/lib/python3.7/dist-packages (from requests_html) (2.23.0)\n",
            "Requirement already satisfied: pyquery in /usr/local/lib/python3.7/dist-packages (from requests_html) (1.4.3)\n",
            "Requirement already satisfied: urllib3<2.0.0,>=1.25.8 in /usr/local/lib/python3.7/dist-packages (from pyppeteer>=0.0.14->requests_html) (1.25.11)\n",
            "Requirement already satisfied: pyee<9.0.0,>=8.1.0 in /usr/local/lib/python3.7/dist-packages (from pyppeteer>=0.0.14->requests_html) (8.2.2)\n",
            "Requirement already satisfied: websockets<10.0,>=9.1 in /usr/local/lib/python3.7/dist-packages (from pyppeteer>=0.0.14->requests_html) (9.1)\n",
            "Requirement already satisfied: importlib-metadata>=1.4 in /usr/local/lib/python3.7/dist-packages (from pyppeteer>=0.0.14->requests_html) (4.8.2)\n",
            "Requirement already satisfied: appdirs<2.0.0,>=1.4.3 in /usr/local/lib/python3.7/dist-packages (from pyppeteer>=0.0.14->requests_html) (1.4.4)\n",
            "Requirement already satisfied: tqdm<5.0.0,>=4.42.1 in /usr/local/lib/python3.7/dist-packages (from pyppeteer>=0.0.14->requests_html) (4.62.3)\n",
            "Requirement already satisfied: zipp>=0.5 in /usr/local/lib/python3.7/dist-packages (from importlib-metadata>=1.4->pyppeteer>=0.0.14->requests_html) (3.6.0)\n",
            "Requirement already satisfied: typing-extensions>=3.6.4 in /usr/local/lib/python3.7/dist-packages (from importlib-metadata>=1.4->pyppeteer>=0.0.14->requests_html) (3.10.0.2)\n",
            "Requirement already satisfied: beautifulsoup4 in /usr/local/lib/python3.7/dist-packages (from bs4->requests_html) (4.6.3)\n",
            "Requirement already satisfied: cssselect>0.7.9 in /usr/local/lib/python3.7/dist-packages (from pyquery->requests_html) (1.1.0)\n",
            "Requirement already satisfied: lxml>=2.1 in /usr/local/lib/python3.7/dist-packages (from pyquery->requests_html) (4.6.4)\n",
            "Requirement already satisfied: chardet<4,>=3.0.2 in /usr/local/lib/python3.7/dist-packages (from requests->requests_html) (3.0.4)\n",
            "Requirement already satisfied: certifi>=2017.4.17 in /usr/local/lib/python3.7/dist-packages (from requests->requests_html) (2021.10.8)\n",
            "Requirement already satisfied: idna<3,>=2.5 in /usr/local/lib/python3.7/dist-packages (from requests->requests_html) (2.10)\n",
            "Requirement already satisfied: six>=1.4.1 in /usr/local/lib/python3.7/dist-packages (from w3lib->requests_html) (1.15.0)\n"
          ]
        }
      ]
    },
    {
      "cell_type": "code",
      "metadata": {
        "colab": {
          "base_uri": "https://localhost:8080/"
        },
        "id": "cyMKpWKkqQW3",
        "outputId": "b5f5bf5d-06b5-4744-c570-f042770c483a"
      },
      "source": [
        "# Instalar Backtrader\n",
        "!pip install backtrader"
      ],
      "execution_count": 4,
      "outputs": [
        {
          "output_type": "stream",
          "name": "stdout",
          "text": [
            "Collecting backtrader\n",
            "  Downloading backtrader-1.9.76.123-py2.py3-none-any.whl (410 kB)\n",
            "\u001b[?25l\r\u001b[K     |▉                               | 10 kB 2.5 MB/s eta 0:00:01\r\u001b[K     |█▋                              | 20 kB 4.2 MB/s eta 0:00:01\r\u001b[K     |██▍                             | 30 kB 5.5 MB/s eta 0:00:01\r\u001b[K     |███▏                            | 40 kB 6.4 MB/s eta 0:00:01\r\u001b[K     |████                            | 51 kB 6.4 MB/s eta 0:00:01\r\u001b[K     |████▉                           | 61 kB 6.7 MB/s eta 0:00:01\r\u001b[K     |█████▋                          | 71 kB 7.6 MB/s eta 0:00:01\r\u001b[K     |██████▍                         | 81 kB 8.2 MB/s eta 0:00:01\r\u001b[K     |███████▏                        | 92 kB 7.6 MB/s eta 0:00:01\r\u001b[K     |████████                        | 102 kB 7.6 MB/s eta 0:00:01\r\u001b[K     |████████▉                       | 112 kB 7.6 MB/s eta 0:00:01\r\u001b[K     |█████████▋                      | 122 kB 7.6 MB/s eta 0:00:01\r\u001b[K     |██████████▍                     | 133 kB 7.6 MB/s eta 0:00:01\r\u001b[K     |███████████▏                    | 143 kB 7.6 MB/s eta 0:00:01\r\u001b[K     |████████████                    | 153 kB 7.6 MB/s eta 0:00:01\r\u001b[K     |████████████▉                   | 163 kB 7.6 MB/s eta 0:00:01\r\u001b[K     |█████████████▋                  | 174 kB 7.6 MB/s eta 0:00:01\r\u001b[K     |██████████████▍                 | 184 kB 7.6 MB/s eta 0:00:01\r\u001b[K     |███████████████▏                | 194 kB 7.6 MB/s eta 0:00:01\r\u001b[K     |████████████████                | 204 kB 7.6 MB/s eta 0:00:01\r\u001b[K     |████████████████▉               | 215 kB 7.6 MB/s eta 0:00:01\r\u001b[K     |█████████████████▋              | 225 kB 7.6 MB/s eta 0:00:01\r\u001b[K     |██████████████████▍             | 235 kB 7.6 MB/s eta 0:00:01\r\u001b[K     |███████████████████▏            | 245 kB 7.6 MB/s eta 0:00:01\r\u001b[K     |████████████████████            | 256 kB 7.6 MB/s eta 0:00:01\r\u001b[K     |████████████████████▊           | 266 kB 7.6 MB/s eta 0:00:01\r\u001b[K     |█████████████████████▋          | 276 kB 7.6 MB/s eta 0:00:01\r\u001b[K     |██████████████████████▍         | 286 kB 7.6 MB/s eta 0:00:01\r\u001b[K     |███████████████████████▏        | 296 kB 7.6 MB/s eta 0:00:01\r\u001b[K     |████████████████████████        | 307 kB 7.6 MB/s eta 0:00:01\r\u001b[K     |████████████████████████▊       | 317 kB 7.6 MB/s eta 0:00:01\r\u001b[K     |█████████████████████████▋      | 327 kB 7.6 MB/s eta 0:00:01\r\u001b[K     |██████████████████████████▍     | 337 kB 7.6 MB/s eta 0:00:01\r\u001b[K     |███████████████████████████▏    | 348 kB 7.6 MB/s eta 0:00:01\r\u001b[K     |████████████████████████████    | 358 kB 7.6 MB/s eta 0:00:01\r\u001b[K     |████████████████████████████▊   | 368 kB 7.6 MB/s eta 0:00:01\r\u001b[K     |█████████████████████████████▋  | 378 kB 7.6 MB/s eta 0:00:01\r\u001b[K     |██████████████████████████████▍ | 389 kB 7.6 MB/s eta 0:00:01\r\u001b[K     |███████████████████████████████▏| 399 kB 7.6 MB/s eta 0:00:01\r\u001b[K     |████████████████████████████████| 409 kB 7.6 MB/s eta 0:00:01\r\u001b[K     |████████████████████████████████| 410 kB 7.6 MB/s \n",
            "\u001b[?25hInstalling collected packages: backtrader\n",
            "Successfully installed backtrader-1.9.76.123\n"
          ]
        }
      ]
    },
    {
      "cell_type": "code",
      "metadata": {
        "colab": {
          "base_uri": "https://localhost:8080/"
        },
        "id": "-_QN0IxiqS2f",
        "outputId": "3380366b-7a51-4b1b-c5e7-00ff66928266"
      },
      "source": [
        "!pip install backtrader[plotting]\n"
      ],
      "execution_count": 5,
      "outputs": [
        {
          "output_type": "stream",
          "name": "stdout",
          "text": [
            "Requirement already satisfied: backtrader[plotting] in /usr/local/lib/python3.7/dist-packages (1.9.76.123)\n",
            "Requirement already satisfied: matplotlib in /usr/local/lib/python3.7/dist-packages (from backtrader[plotting]) (3.2.2)\n",
            "Requirement already satisfied: cycler>=0.10 in /usr/local/lib/python3.7/dist-packages (from matplotlib->backtrader[plotting]) (0.11.0)\n",
            "Requirement already satisfied: kiwisolver>=1.0.1 in /usr/local/lib/python3.7/dist-packages (from matplotlib->backtrader[plotting]) (1.3.2)\n",
            "Requirement already satisfied: numpy>=1.11 in /usr/local/lib/python3.7/dist-packages (from matplotlib->backtrader[plotting]) (1.19.5)\n",
            "Requirement already satisfied: python-dateutil>=2.1 in /usr/local/lib/python3.7/dist-packages (from matplotlib->backtrader[plotting]) (2.8.2)\n",
            "Requirement already satisfied: pyparsing!=2.0.4,!=2.1.2,!=2.1.6,>=2.0.1 in /usr/local/lib/python3.7/dist-packages (from matplotlib->backtrader[plotting]) (2.4.7)\n",
            "Requirement already satisfied: six>=1.5 in /usr/local/lib/python3.7/dist-packages (from python-dateutil>=2.1->matplotlib->backtrader[plotting]) (1.15.0)\n"
          ]
        }
      ]
    },
    {
      "cell_type": "code",
      "metadata": {
        "id": "8WArpzu6qU8x"
      },
      "source": [
        "# Obtenha os pacotes necessários\n",
        "\n",
        "import datetime  \n",
        "import backtrader as bt\n",
        "from IPython.display import display, Image\n",
        "import yfinance as yf\n",
        "import backtrader.analyzers as btanalyzers\n",
        "import backtrader.feeds as btfeeds\n",
        "import backtrader.strategies as btstrats\n",
        "import os\n",
        "import sys\n",
        "import datetime  # For datetime objects\n",
        "import os.path  # To manage paths\n",
        "import sys  # To find out the script name (in argv[0])\n"
      ],
      "execution_count": 6,
      "outputs": []
    },
    {
      "cell_type": "code",
      "metadata": {
        "id": "gFwdgpdyyVF3"
      },
      "source": [
        "from __future__ import (absolute_import, division, print_function,\n",
        "                        unicode_literals)"
      ],
      "execution_count": 27,
      "outputs": []
    },
    {
      "cell_type": "code",
      "metadata": {
        "colab": {
          "base_uri": "https://localhost:8080/",
          "height": 419
        },
        "id": "FoE800JXqXU_",
        "outputId": "69829900-b8be-41f0-9f44-eec8b1bbb8ff"
      },
      "source": [
        "from yahoo_fin.stock_info import get_data\n",
        "data = get_data(\"BTC-USD\", start_date=\"05/10/2021\", end_date=\"11/10/2021\", index_as_date = True, interval=\"1d\")\n",
        "data"
      ],
      "execution_count": 28,
      "outputs": [
        {
          "output_type": "execute_result",
          "data": {
            "text/html": [
              "<div>\n",
              "<style scoped>\n",
              "    .dataframe tbody tr th:only-of-type {\n",
              "        vertical-align: middle;\n",
              "    }\n",
              "\n",
              "    .dataframe tbody tr th {\n",
              "        vertical-align: top;\n",
              "    }\n",
              "\n",
              "    .dataframe thead th {\n",
              "        text-align: right;\n",
              "    }\n",
              "</style>\n",
              "<table border=\"1\" class=\"dataframe\">\n",
              "  <thead>\n",
              "    <tr style=\"text-align: right;\">\n",
              "      <th></th>\n",
              "      <th>open</th>\n",
              "      <th>high</th>\n",
              "      <th>low</th>\n",
              "      <th>close</th>\n",
              "      <th>adjclose</th>\n",
              "      <th>volume</th>\n",
              "      <th>ticker</th>\n",
              "    </tr>\n",
              "  </thead>\n",
              "  <tbody>\n",
              "    <tr>\n",
              "      <th>2021-05-10</th>\n",
              "      <td>58250.871094</td>\n",
              "      <td>59519.355469</td>\n",
              "      <td>54071.457031</td>\n",
              "      <td>55859.796875</td>\n",
              "      <td>55859.796875</td>\n",
              "      <td>71776546298</td>\n",
              "      <td>BTC-USD</td>\n",
              "    </tr>\n",
              "    <tr>\n",
              "      <th>2021-05-11</th>\n",
              "      <td>55847.242188</td>\n",
              "      <td>56872.542969</td>\n",
              "      <td>54608.652344</td>\n",
              "      <td>56704.574219</td>\n",
              "      <td>56704.574219</td>\n",
              "      <td>61308396325</td>\n",
              "      <td>BTC-USD</td>\n",
              "    </tr>\n",
              "    <tr>\n",
              "      <th>2021-05-12</th>\n",
              "      <td>56714.531250</td>\n",
              "      <td>57939.363281</td>\n",
              "      <td>49150.535156</td>\n",
              "      <td>49150.535156</td>\n",
              "      <td>49150.535156</td>\n",
              "      <td>75215403907</td>\n",
              "      <td>BTC-USD</td>\n",
              "    </tr>\n",
              "    <tr>\n",
              "      <th>2021-05-13</th>\n",
              "      <td>49735.433594</td>\n",
              "      <td>51330.843750</td>\n",
              "      <td>46980.019531</td>\n",
              "      <td>49716.191406</td>\n",
              "      <td>49716.191406</td>\n",
              "      <td>96721152926</td>\n",
              "      <td>BTC-USD</td>\n",
              "    </tr>\n",
              "    <tr>\n",
              "      <th>2021-05-14</th>\n",
              "      <td>49682.980469</td>\n",
              "      <td>51438.117188</td>\n",
              "      <td>48868.578125</td>\n",
              "      <td>49880.535156</td>\n",
              "      <td>49880.535156</td>\n",
              "      <td>55737497453</td>\n",
              "      <td>BTC-USD</td>\n",
              "    </tr>\n",
              "    <tr>\n",
              "      <th>...</th>\n",
              "      <td>...</td>\n",
              "      <td>...</td>\n",
              "      <td>...</td>\n",
              "      <td>...</td>\n",
              "      <td>...</td>\n",
              "      <td>...</td>\n",
              "      <td>...</td>\n",
              "    </tr>\n",
              "    <tr>\n",
              "      <th>2021-11-06</th>\n",
              "      <td>61068.875000</td>\n",
              "      <td>61590.683594</td>\n",
              "      <td>60163.781250</td>\n",
              "      <td>61527.480469</td>\n",
              "      <td>61527.480469</td>\n",
              "      <td>29094934221</td>\n",
              "      <td>BTC-USD</td>\n",
              "    </tr>\n",
              "    <tr>\n",
              "      <th>2021-11-07</th>\n",
              "      <td>61554.921875</td>\n",
              "      <td>63326.988281</td>\n",
              "      <td>61432.488281</td>\n",
              "      <td>63326.988281</td>\n",
              "      <td>63326.988281</td>\n",
              "      <td>24726754302</td>\n",
              "      <td>BTC-USD</td>\n",
              "    </tr>\n",
              "    <tr>\n",
              "      <th>2021-11-08</th>\n",
              "      <td>63344.066406</td>\n",
              "      <td>67673.742188</td>\n",
              "      <td>63344.066406</td>\n",
              "      <td>67566.828125</td>\n",
              "      <td>67566.828125</td>\n",
              "      <td>41125608330</td>\n",
              "      <td>BTC-USD</td>\n",
              "    </tr>\n",
              "    <tr>\n",
              "      <th>2021-11-09</th>\n",
              "      <td>67549.734375</td>\n",
              "      <td>68530.335938</td>\n",
              "      <td>66382.062500</td>\n",
              "      <td>66971.828125</td>\n",
              "      <td>66971.828125</td>\n",
              "      <td>42357991721</td>\n",
              "      <td>BTC-USD</td>\n",
              "    </tr>\n",
              "    <tr>\n",
              "      <th>2021-11-10</th>\n",
              "      <td>66953.335938</td>\n",
              "      <td>68789.625000</td>\n",
              "      <td>63208.113281</td>\n",
              "      <td>64995.230469</td>\n",
              "      <td>64995.230469</td>\n",
              "      <td>48730828378</td>\n",
              "      <td>BTC-USD</td>\n",
              "    </tr>\n",
              "  </tbody>\n",
              "</table>\n",
              "<p>185 rows × 7 columns</p>\n",
              "</div>"
            ],
            "text/plain": [
              "                    open          high  ...       volume   ticker\n",
              "2021-05-10  58250.871094  59519.355469  ...  71776546298  BTC-USD\n",
              "2021-05-11  55847.242188  56872.542969  ...  61308396325  BTC-USD\n",
              "2021-05-12  56714.531250  57939.363281  ...  75215403907  BTC-USD\n",
              "2021-05-13  49735.433594  51330.843750  ...  96721152926  BTC-USD\n",
              "2021-05-14  49682.980469  51438.117188  ...  55737497453  BTC-USD\n",
              "...                  ...           ...  ...          ...      ...\n",
              "2021-11-06  61068.875000  61590.683594  ...  29094934221  BTC-USD\n",
              "2021-11-07  61554.921875  63326.988281  ...  24726754302  BTC-USD\n",
              "2021-11-08  63344.066406  67673.742188  ...  41125608330  BTC-USD\n",
              "2021-11-09  67549.734375  68530.335938  ...  42357991721  BTC-USD\n",
              "2021-11-10  66953.335938  68789.625000  ...  48730828378  BTC-USD\n",
              "\n",
              "[185 rows x 7 columns]"
            ]
          },
          "metadata": {},
          "execution_count": 28
        }
      ]
    },
    {
      "cell_type": "code",
      "metadata": {
        "id": "rKkXwuPAqsp4"
      },
      "source": [
        "data.to_csv('/content/cripto.csv')"
      ],
      "execution_count": 29,
      "outputs": []
    },
    {
      "cell_type": "code",
      "metadata": {
        "id": "kjD3VI0m6qGp"
      },
      "source": [
        "class TestStrategy(bt.Strategy):\n",
        "    params = (\n",
        "        ('maperiod', 15),\n",
        "    )\n",
        "\n",
        "    def log(self, csv, dt=None):\n",
        "        ''' Logging function fot this strategy'''\n",
        "        dt = dt or self.datas[0].datetime.date(0)\n",
        "        print('%s, %s' % (dt.isoformat(), csv))\n",
        "\n",
        "    def __init__(self):\n",
        "        # Keep a reference to the \"close\" line in the data[0] dataseries\n",
        "        self.dataclose = self.datas[0].close\n",
        "\n",
        "        # To keep track of pending orders and buy price/commission\n",
        "        self.order = None\n",
        "        self.buyprice = None\n",
        "        self.buycomm = None\n",
        "\n",
        "        # Add a MovingAverageSimple indicator\n",
        "        self.sma = bt.indicators.SimpleMovingAverage(\n",
        "            self.datas[0], period=self.params.maperiod)\n",
        "\n",
        "        # Indicators for the plotting show\n",
        "        bt.indicators.ExponentialMovingAverage(self.datas[0], period=25)\n",
        "        bt.indicators.WeightedMovingAverage(self.datas[0], period=25,\n",
        "                                            subplot=True)\n",
        "        bt.indicators.StochasticSlow(self.datas[0])\n",
        "        bt.indicators.MACDHisto(self.datas[0])\n",
        "        rsi = bt.indicators.RSI(self.datas[0])\n",
        "        bt.indicators.SmoothedMovingAverage(rsi, period=10)\n",
        "        bt.indicators.ATR(self.datas[0], plot=False)\n",
        "\n",
        "    def notify_order(self, order):\n",
        "        if order.status in [order.Submitted, order.Accepted]:\n",
        "            # Buy/Sell order submitted/accepted to/by broker - Nothing to do\n",
        "            return\n",
        "\n",
        "        # Check if an order has been completed\n",
        "        # Attention: broker could reject order if not enough cash\n",
        "        if order.status in [order.Completed]:\n",
        "            if order.isbuy():\n",
        "                self.log(\n",
        "                    'BUY EXECUTED, Price: %.2f, Cost: %.2f, Comm %.2f' %\n",
        "                    (order.executed.price,\n",
        "                     order.executed.value,\n",
        "                     order.executed.comm))\n",
        "\n",
        "                self.buyprice = order.executed.price\n",
        "                self.buycomm = order.executed.comm\n",
        "            else:  # Sell\n",
        "                self.log('SELL EXECUTED, Price: %.2f, Cost: %.2f, Comm %.2f' %\n",
        "                         (order.executed.price,\n",
        "                          order.executed.value,\n",
        "                          order.executed.comm))\n",
        "\n",
        "            self.bar_executed = len(self)\n",
        "\n",
        "        elif order.status in [order.Canceled, order.Margin, order.Rejected]:\n",
        "            self.log('Order Canceled/Margin/Rejected')\n",
        "\n",
        "        # Write down: no pending order\n",
        "        self.order = None\n",
        "\n",
        "    def notify_trade(self, trade):\n",
        "        if not trade.isclosed:\n",
        "            return\n",
        "\n",
        "        self.log('OPERATION PROFIT, GROSS %.2f, NET %.2f' %\n",
        "                 (trade.pnl, trade.pnlcomm))\n",
        "\n",
        "    def next(self):\n",
        "        # Simply log the closing price of the series from the reference\n",
        "        self.log('Close, %.2f' % self.dataclose[0])\n",
        "\n",
        "        # Check if an order is pending ... if yes, we cannot send a 2nd one\n",
        "        if self.order:\n",
        "            return\n",
        "\n",
        "        # Check if we are in the market\n",
        "        if not self.position:\n",
        "\n",
        "            # Not yet ... we MIGHT BUY if ...\n",
        "            if self.dataclose[0] > self.sma[0]:\n",
        "\n",
        "                # BUY, BUY, BUY!!! (with all possible default parameters)\n",
        "                self.log('BUY CREATE, %.2f' % self.dataclose[0])\n",
        "\n",
        "                # Keep track of the created order to avoid a 2nd order\n",
        "                self.order = self.buy()\n",
        "\n",
        "        else:\n",
        "\n",
        "            if self.dataclose[0] < self.sma[0]:\n",
        "                # SELL, SELL, SELL!!! (with all possible default parameters)\n",
        "                self.log('SELL CREATE, %.2f' % self.dataclose[0])\n",
        "\n",
        "                # Keep track of the created order to avoid a 2nd order\n",
        "                self.order = self.sell()"
      ],
      "execution_count": 30,
      "outputs": []
    },
    {
      "cell_type": "code",
      "metadata": {
        "id": "ZzXKMvT4q0U9"
      },
      "source": [
        "if __name__ == '__main__':\n",
        "    # Create a cerebro entity\n",
        "    cerebro = bt.Cerebro()"
      ],
      "execution_count": 31,
      "outputs": []
    },
    {
      "cell_type": "code",
      "metadata": {
        "colab": {
          "base_uri": "https://localhost:8080/",
          "height": 34
        },
        "id": "38P9wOp3q2Wg",
        "outputId": "a23c5e75-fc32-40b4-f249-7c1a9c9ad6eb"
      },
      "source": [
        "# Add a strategy\n",
        "cerebro.addstrategy(TestStrategy)"
      ],
      "execution_count": 32,
      "outputs": [
        {
          "output_type": "execute_result",
          "data": {
            "text/plain": [
              "0"
            ]
          },
          "metadata": {},
          "execution_count": 32
        }
      ]
    },
    {
      "cell_type": "code",
      "metadata": {
        "id": "xWcc_wk2q4F2"
      },
      "source": [
        "# Datas are in a subfolder of the samples. Need to find where the script is\n",
        "    # because it could have been called from anywhere\n",
        "modpath = os.path.dirname(os.path.abspath(sys.argv[0]))\n",
        "datapath = os.path.join(modpath, '/content/cripto.csv')"
      ],
      "execution_count": 13,
      "outputs": []
    },
    {
      "cell_type": "code",
      "metadata": {
        "id": "nSOuy4Q3rDfa"
      },
      "source": [
        "# Create a Data Feed\n",
        "data = bt.feeds.YahooFinanceCSVData(\n",
        "        dataname=datapath,\n",
        "              reverse=False)"
      ],
      "execution_count": 34,
      "outputs": []
    },
    {
      "cell_type": "code",
      "metadata": {
        "colab": {
          "base_uri": "https://localhost:8080/",
          "height": 34
        },
        "id": "o4M3fujsrPYn",
        "outputId": "4e59ad8e-309c-4a86-ff89-2545a8bfff37"
      },
      "source": [
        "# Add the Data Feed to Cerebro\n",
        "cerebro.adddata(data)"
      ],
      "execution_count": 35,
      "outputs": [
        {
          "output_type": "execute_result",
          "data": {
            "text/plain": [
              "<backtrader.feeds.yahoo.YahooFinanceCSVData at 0x7f6543e420d0>"
            ]
          },
          "metadata": {},
          "execution_count": 35
        }
      ]
    },
    {
      "cell_type": "code",
      "metadata": {
        "colab": {
          "base_uri": "https://localhost:8080/",
          "height": 34
        },
        "id": "8rRnYcNirSLw",
        "outputId": "db47c1ed-fe39-421f-c8f4-262ea2ccbc7a"
      },
      "source": [
        "# Set our desired cash start\n",
        "cerebro.broker.setcash(100000.0)\n",
        "# Print out the starting conditions\n",
        "print('Starting Portfolio Value: %.2f' % cerebro.broker.getvalue())"
      ],
      "execution_count": 36,
      "outputs": [
        {
          "output_type": "stream",
          "name": "stdout",
          "text": [
            "Starting Portfolio Value: 100000.00\n"
          ]
        }
      ]
    },
    {
      "cell_type": "code",
      "metadata": {
        "id": "Kxo67o4H3HHe"
      },
      "source": [
        " # Add a FixedSize sizer according to the stake\n",
        "cerebro.addsizer(bt.sizers.FixedSize, stake=10)\n"
      ],
      "execution_count": 38,
      "outputs": []
    },
    {
      "cell_type": "code",
      "metadata": {
        "id": "HkUyBPKl1EvC"
      },
      "source": [
        "# Set the commission - 0.1% ... divide by 100 to remove the %\n",
        "cerebro.broker.setcommission(commission=0.1)"
      ],
      "execution_count": 39,
      "outputs": []
    },
    {
      "cell_type": "code",
      "metadata": {
        "colab": {
          "base_uri": "https://localhost:8080/",
          "height": 1000
        },
        "id": "H_SC_RWJrbLq",
        "outputId": "04d6e807-6e84-4f46-875b-106b0c25e8b6"
      },
      "source": [
        "# Rodando cerebro\n",
        "cerebro.run()"
      ],
      "execution_count": 40,
      "outputs": [
        {
          "output_type": "stream",
          "name": "stdout",
          "text": [
            "2021-06-12, Close, 35552.52\n",
            "2021-06-13, Close, 39097.86\n",
            "2021-06-13, BUY CREATE, 39097.86\n",
            "2021-06-14, Order Canceled/Margin/Rejected\n",
            "2021-06-14, Close, 40218.48\n",
            "2021-06-14, BUY CREATE, 40218.48\n",
            "2021-06-15, Order Canceled/Margin/Rejected\n",
            "2021-06-15, Close, 40406.27\n",
            "2021-06-15, BUY CREATE, 40406.27\n",
            "2021-06-16, Order Canceled/Margin/Rejected\n",
            "2021-06-16, Close, 38347.06\n",
            "2021-06-16, BUY CREATE, 38347.06\n",
            "2021-06-17, Order Canceled/Margin/Rejected\n",
            "2021-06-17, Close, 38053.50\n",
            "2021-06-17, BUY CREATE, 38053.50\n",
            "2021-06-18, Order Canceled/Margin/Rejected\n",
            "2021-06-18, Close, 35787.25\n",
            "2021-06-19, Close, 35615.87\n",
            "2021-06-20, Close, 35698.30\n",
            "2021-06-21, Close, 31676.69\n",
            "2021-06-22, Close, 32505.66\n",
            "2021-06-23, Close, 33723.03\n",
            "2021-06-24, Close, 34662.44\n",
            "2021-06-25, Close, 31637.78\n",
            "2021-06-26, Close, 32186.28\n",
            "2021-06-27, Close, 34649.64\n",
            "2021-06-28, Close, 34434.34\n",
            "2021-06-29, Close, 35867.78\n",
            "2021-06-29, BUY CREATE, 35867.78\n",
            "2021-06-30, Order Canceled/Margin/Rejected\n",
            "2021-06-30, Close, 35040.84\n",
            "2021-06-30, BUY CREATE, 35040.84\n",
            "2021-07-01, Order Canceled/Margin/Rejected\n",
            "2021-07-01, Close, 33572.12\n",
            "2021-07-02, Close, 33897.05\n",
            "2021-07-03, Close, 34668.55\n",
            "2021-07-03, BUY CREATE, 34668.55\n",
            "2021-07-04, Order Canceled/Margin/Rejected\n",
            "2021-07-04, Close, 35287.78\n",
            "2021-07-04, BUY CREATE, 35287.78\n",
            "2021-07-05, Order Canceled/Margin/Rejected\n",
            "2021-07-05, Close, 33746.00\n",
            "2021-07-06, Close, 34235.20\n",
            "2021-07-06, BUY CREATE, 34235.20\n",
            "2021-07-07, Order Canceled/Margin/Rejected\n",
            "2021-07-07, Close, 33855.33\n",
            "2021-07-08, Close, 32877.37\n",
            "2021-07-09, Close, 33798.01\n",
            "2021-07-10, Close, 33520.52\n",
            "2021-07-11, Close, 34240.19\n",
            "2021-07-12, Close, 33155.85\n",
            "2021-07-13, Close, 32702.03\n",
            "2021-07-14, Close, 32822.35\n",
            "2021-07-15, Close, 31780.73\n",
            "2021-07-16, Close, 31421.54\n",
            "2021-07-17, Close, 31533.07\n",
            "2021-07-18, Close, 31796.81\n",
            "2021-07-19, Close, 30817.83\n",
            "2021-07-20, Close, 29807.35\n",
            "2021-07-21, Close, 32110.69\n",
            "2021-07-22, Close, 32313.11\n",
            "2021-07-23, Close, 33581.55\n",
            "2021-07-23, BUY CREATE, 33581.55\n",
            "2021-07-24, Order Canceled/Margin/Rejected\n",
            "2021-07-24, Close, 34292.45\n",
            "2021-07-24, BUY CREATE, 34292.45\n",
            "2021-07-25, Order Canceled/Margin/Rejected\n",
            "2021-07-25, Close, 35350.19\n",
            "2021-07-25, BUY CREATE, 35350.19\n",
            "2021-07-26, Order Canceled/Margin/Rejected\n",
            "2021-07-26, Close, 37337.54\n",
            "2021-07-26, BUY CREATE, 37337.54\n",
            "2021-07-27, Order Canceled/Margin/Rejected\n",
            "2021-07-27, Close, 39406.94\n",
            "2021-07-27, BUY CREATE, 39406.94\n",
            "2021-07-28, Order Canceled/Margin/Rejected\n",
            "2021-07-28, Close, 39995.91\n",
            "2021-07-28, BUY CREATE, 39995.91\n",
            "2021-07-29, Order Canceled/Margin/Rejected\n",
            "2021-07-29, Close, 40008.42\n",
            "2021-07-29, BUY CREATE, 40008.42\n",
            "2021-07-30, Order Canceled/Margin/Rejected\n",
            "2021-07-30, Close, 42235.55\n",
            "2021-07-30, BUY CREATE, 42235.55\n",
            "2021-07-31, Order Canceled/Margin/Rejected\n",
            "2021-07-31, Close, 41626.20\n",
            "2021-07-31, BUY CREATE, 41626.20\n",
            "2021-08-01, Order Canceled/Margin/Rejected\n",
            "2021-08-01, Close, 39974.89\n",
            "2021-08-01, BUY CREATE, 39974.89\n",
            "2021-08-02, Order Canceled/Margin/Rejected\n",
            "2021-08-02, Close, 39201.95\n",
            "2021-08-02, BUY CREATE, 39201.95\n",
            "2021-08-03, Order Canceled/Margin/Rejected\n",
            "2021-08-03, Close, 38152.98\n",
            "2021-08-03, BUY CREATE, 38152.98\n",
            "2021-08-04, Order Canceled/Margin/Rejected\n",
            "2021-08-04, Close, 39747.50\n",
            "2021-08-04, BUY CREATE, 39747.50\n",
            "2021-08-05, Order Canceled/Margin/Rejected\n",
            "2021-08-05, Close, 40869.55\n",
            "2021-08-05, BUY CREATE, 40869.55\n",
            "2021-08-06, Order Canceled/Margin/Rejected\n",
            "2021-08-06, Close, 42816.50\n",
            "2021-08-06, BUY CREATE, 42816.50\n",
            "2021-08-07, Order Canceled/Margin/Rejected\n",
            "2021-08-07, Close, 44555.80\n",
            "2021-08-07, BUY CREATE, 44555.80\n",
            "2021-08-08, Order Canceled/Margin/Rejected\n",
            "2021-08-08, Close, 43798.12\n",
            "2021-08-08, BUY CREATE, 43798.12\n",
            "2021-08-09, Order Canceled/Margin/Rejected\n",
            "2021-08-09, Close, 46365.40\n",
            "2021-08-09, BUY CREATE, 46365.40\n",
            "2021-08-10, Order Canceled/Margin/Rejected\n",
            "2021-08-10, Close, 45585.03\n",
            "2021-08-10, BUY CREATE, 45585.03\n",
            "2021-08-11, Order Canceled/Margin/Rejected\n",
            "2021-08-11, Close, 45593.64\n",
            "2021-08-11, BUY CREATE, 45593.64\n",
            "2021-08-12, Order Canceled/Margin/Rejected\n",
            "2021-08-12, Close, 44428.29\n",
            "2021-08-12, BUY CREATE, 44428.29\n",
            "2021-08-13, Order Canceled/Margin/Rejected\n",
            "2021-08-13, Close, 47793.32\n",
            "2021-08-13, BUY CREATE, 47793.32\n",
            "2021-08-14, Order Canceled/Margin/Rejected\n",
            "2021-08-14, Close, 47096.95\n",
            "2021-08-14, BUY CREATE, 47096.95\n",
            "2021-08-15, Order Canceled/Margin/Rejected\n",
            "2021-08-15, Close, 47047.00\n",
            "2021-08-15, BUY CREATE, 47047.00\n",
            "2021-08-16, Order Canceled/Margin/Rejected\n",
            "2021-08-16, Close, 46004.48\n",
            "2021-08-16, BUY CREATE, 46004.48\n",
            "2021-08-17, Order Canceled/Margin/Rejected\n",
            "2021-08-17, Close, 44695.36\n",
            "2021-08-17, BUY CREATE, 44695.36\n",
            "2021-08-18, Order Canceled/Margin/Rejected\n",
            "2021-08-18, Close, 44801.19\n",
            "2021-08-18, BUY CREATE, 44801.19\n",
            "2021-08-19, Order Canceled/Margin/Rejected\n",
            "2021-08-19, Close, 46717.58\n",
            "2021-08-19, BUY CREATE, 46717.58\n",
            "2021-08-20, Order Canceled/Margin/Rejected\n",
            "2021-08-20, Close, 49339.18\n",
            "2021-08-20, BUY CREATE, 49339.18\n",
            "2021-08-21, Order Canceled/Margin/Rejected\n",
            "2021-08-21, Close, 48905.49\n",
            "2021-08-21, BUY CREATE, 48905.49\n",
            "2021-08-22, Order Canceled/Margin/Rejected\n",
            "2021-08-22, Close, 49321.65\n",
            "2021-08-22, BUY CREATE, 49321.65\n",
            "2021-08-23, Order Canceled/Margin/Rejected\n",
            "2021-08-23, Close, 49546.15\n",
            "2021-08-23, BUY CREATE, 49546.15\n",
            "2021-08-24, Order Canceled/Margin/Rejected\n",
            "2021-08-24, Close, 47706.12\n",
            "2021-08-24, BUY CREATE, 47706.12\n",
            "2021-08-25, Order Canceled/Margin/Rejected\n",
            "2021-08-25, Close, 48960.79\n",
            "2021-08-25, BUY CREATE, 48960.79\n",
            "2021-08-26, Order Canceled/Margin/Rejected\n",
            "2021-08-26, Close, 46942.22\n",
            "2021-08-27, Close, 49058.67\n",
            "2021-08-27, BUY CREATE, 49058.67\n",
            "2021-08-28, Order Canceled/Margin/Rejected\n",
            "2021-08-28, Close, 48902.40\n",
            "2021-08-28, BUY CREATE, 48902.40\n",
            "2021-08-29, Order Canceled/Margin/Rejected\n",
            "2021-08-29, Close, 48829.83\n",
            "2021-08-29, BUY CREATE, 48829.83\n",
            "2021-08-30, Order Canceled/Margin/Rejected\n",
            "2021-08-30, Close, 47054.98\n",
            "2021-08-31, Close, 47166.69\n",
            "2021-09-01, Close, 48847.03\n",
            "2021-09-01, BUY CREATE, 48847.03\n",
            "2021-09-02, Order Canceled/Margin/Rejected\n",
            "2021-09-02, Close, 49327.72\n",
            "2021-09-02, BUY CREATE, 49327.72\n",
            "2021-09-03, Order Canceled/Margin/Rejected\n",
            "2021-09-03, Close, 50025.38\n",
            "2021-09-03, BUY CREATE, 50025.38\n",
            "2021-09-04, Order Canceled/Margin/Rejected\n",
            "2021-09-04, Close, 49944.62\n",
            "2021-09-04, BUY CREATE, 49944.62\n",
            "2021-09-05, Order Canceled/Margin/Rejected\n",
            "2021-09-05, Close, 51753.41\n",
            "2021-09-05, BUY CREATE, 51753.41\n",
            "2021-09-06, Order Canceled/Margin/Rejected\n",
            "2021-09-06, Close, 52633.54\n",
            "2021-09-06, BUY CREATE, 52633.54\n",
            "2021-09-07, Order Canceled/Margin/Rejected\n",
            "2021-09-07, Close, 46811.13\n",
            "2021-09-08, Close, 46091.39\n",
            "2021-09-09, Close, 46391.42\n",
            "2021-09-10, Close, 44883.91\n",
            "2021-09-11, Close, 45201.46\n",
            "2021-09-12, Close, 46063.27\n",
            "2021-09-13, Close, 44963.07\n",
            "2021-09-14, Close, 47092.49\n",
            "2021-09-15, Close, 48176.35\n",
            "2021-09-15, BUY CREATE, 48176.35\n",
            "2021-09-16, Order Canceled/Margin/Rejected\n",
            "2021-09-16, Close, 47783.36\n",
            "2021-09-17, Close, 47267.52\n",
            "2021-09-18, Close, 48278.36\n",
            "2021-09-18, BUY CREATE, 48278.36\n",
            "2021-09-19, Order Canceled/Margin/Rejected\n",
            "2021-09-19, Close, 47260.22\n",
            "2021-09-20, Close, 42843.80\n",
            "2021-09-21, Close, 40693.68\n",
            "2021-09-22, Close, 43574.51\n",
            "2021-09-23, Close, 44895.10\n",
            "2021-09-24, Close, 42839.75\n",
            "2021-09-25, Close, 42716.59\n",
            "2021-09-26, Close, 43208.54\n",
            "2021-09-27, Close, 42235.73\n",
            "2021-09-28, Close, 41034.54\n",
            "2021-09-29, Close, 41564.36\n",
            "2021-09-30, Close, 43790.89\n",
            "2021-10-01, Close, 48116.94\n",
            "2021-10-01, BUY CREATE, 48116.94\n",
            "2021-10-02, Order Canceled/Margin/Rejected\n",
            "2021-10-02, Close, 47711.49\n",
            "2021-10-02, BUY CREATE, 47711.49\n",
            "2021-10-03, Order Canceled/Margin/Rejected\n",
            "2021-10-03, Close, 48199.95\n",
            "2021-10-03, BUY CREATE, 48199.95\n",
            "2021-10-04, Order Canceled/Margin/Rejected\n",
            "2021-10-04, Close, 49112.90\n",
            "2021-10-04, BUY CREATE, 49112.90\n",
            "2021-10-05, Order Canceled/Margin/Rejected\n",
            "2021-10-05, Close, 51514.81\n",
            "2021-10-05, BUY CREATE, 51514.81\n",
            "2021-10-06, Order Canceled/Margin/Rejected\n",
            "2021-10-06, Close, 55361.45\n",
            "2021-10-06, BUY CREATE, 55361.45\n",
            "2021-10-07, Order Canceled/Margin/Rejected\n",
            "2021-10-07, Close, 53805.98\n",
            "2021-10-07, BUY CREATE, 53805.98\n",
            "2021-10-08, Order Canceled/Margin/Rejected\n",
            "2021-10-08, Close, 53967.85\n",
            "2021-10-08, BUY CREATE, 53967.85\n",
            "2021-10-09, Order Canceled/Margin/Rejected\n",
            "2021-10-09, Close, 54968.22\n",
            "2021-10-09, BUY CREATE, 54968.22\n",
            "2021-10-10, Order Canceled/Margin/Rejected\n",
            "2021-10-10, Close, 54771.58\n",
            "2021-10-10, BUY CREATE, 54771.58\n",
            "2021-10-11, Order Canceled/Margin/Rejected\n",
            "2021-10-11, Close, 57484.79\n",
            "2021-10-11, BUY CREATE, 57484.79\n",
            "2021-10-12, Order Canceled/Margin/Rejected\n",
            "2021-10-12, Close, 56041.06\n",
            "2021-10-12, BUY CREATE, 56041.06\n",
            "2021-10-13, Order Canceled/Margin/Rejected\n",
            "2021-10-13, Close, 57401.10\n",
            "2021-10-13, BUY CREATE, 57401.10\n",
            "2021-10-14, Order Canceled/Margin/Rejected\n",
            "2021-10-14, Close, 57321.52\n",
            "2021-10-14, BUY CREATE, 57321.52\n",
            "2021-10-15, Order Canceled/Margin/Rejected\n",
            "2021-10-15, Close, 61593.95\n",
            "2021-10-15, BUY CREATE, 61593.95\n",
            "2021-10-16, Order Canceled/Margin/Rejected\n",
            "2021-10-16, Close, 60892.18\n",
            "2021-10-16, BUY CREATE, 60892.18\n",
            "2021-10-17, Order Canceled/Margin/Rejected\n",
            "2021-10-17, Close, 61553.62\n",
            "2021-10-17, BUY CREATE, 61553.62\n",
            "2021-10-18, Order Canceled/Margin/Rejected\n",
            "2021-10-18, Close, 62026.08\n",
            "2021-10-18, BUY CREATE, 62026.08\n",
            "2021-10-19, Order Canceled/Margin/Rejected\n",
            "2021-10-19, Close, 64261.99\n",
            "2021-10-19, BUY CREATE, 64261.99\n",
            "2021-10-20, Order Canceled/Margin/Rejected\n",
            "2021-10-20, Close, 65992.84\n",
            "2021-10-20, BUY CREATE, 65992.84\n",
            "2021-10-21, Order Canceled/Margin/Rejected\n",
            "2021-10-21, Close, 62210.17\n",
            "2021-10-21, BUY CREATE, 62210.17\n",
            "2021-10-22, Order Canceled/Margin/Rejected\n",
            "2021-10-22, Close, 60692.27\n",
            "2021-10-22, BUY CREATE, 60692.27\n",
            "2021-10-23, Order Canceled/Margin/Rejected\n",
            "2021-10-23, Close, 61393.62\n",
            "2021-10-23, BUY CREATE, 61393.62\n",
            "2021-10-24, Order Canceled/Margin/Rejected\n",
            "2021-10-24, Close, 60930.84\n",
            "2021-10-24, BUY CREATE, 60930.84\n",
            "2021-10-25, Order Canceled/Margin/Rejected\n",
            "2021-10-25, Close, 63039.82\n",
            "2021-10-25, BUY CREATE, 63039.82\n",
            "2021-10-26, Order Canceled/Margin/Rejected\n",
            "2021-10-26, Close, 60363.79\n",
            "2021-10-27, Close, 58482.39\n",
            "2021-10-28, Close, 60622.14\n",
            "2021-10-29, Close, 62227.96\n",
            "2021-10-29, BUY CREATE, 62227.96\n",
            "2021-10-30, Order Canceled/Margin/Rejected\n",
            "2021-10-30, Close, 61888.83\n",
            "2021-10-30, BUY CREATE, 61888.83\n",
            "2021-10-31, Order Canceled/Margin/Rejected\n",
            "2021-10-31, Close, 61318.96\n",
            "2021-11-01, Close, 61004.41\n",
            "2021-11-02, Close, 63226.40\n",
            "2021-11-02, BUY CREATE, 63226.40\n",
            "2021-11-03, Order Canceled/Margin/Rejected\n",
            "2021-11-03, Close, 62970.05\n",
            "2021-11-03, BUY CREATE, 62970.05\n",
            "2021-11-04, Order Canceled/Margin/Rejected\n",
            "2021-11-04, Close, 61452.23\n",
            "2021-11-05, Close, 61125.68\n",
            "2021-11-06, Close, 61527.48\n",
            "2021-11-06, BUY CREATE, 61527.48\n",
            "2021-11-07, Order Canceled/Margin/Rejected\n",
            "2021-11-07, Close, 63326.99\n",
            "2021-11-07, BUY CREATE, 63326.99\n",
            "2021-11-08, Order Canceled/Margin/Rejected\n",
            "2021-11-08, Close, 67566.83\n",
            "2021-11-08, BUY CREATE, 67566.83\n",
            "2021-11-09, Order Canceled/Margin/Rejected\n",
            "2021-11-09, Close, 66971.83\n",
            "2021-11-09, BUY CREATE, 66971.83\n",
            "2021-11-10, Order Canceled/Margin/Rejected\n",
            "2021-11-10, Close, 64995.23\n",
            "2021-11-10, BUY CREATE, 64995.23\n"
          ]
        },
        {
          "output_type": "execute_result",
          "data": {
            "text/plain": [
              "[<__main__.TestStrategy at 0x7f6543e39bd0>]"
            ]
          },
          "metadata": {},
          "execution_count": 40
        }
      ]
    },
    {
      "cell_type": "code",
      "metadata": {
        "id": "x2GGtVhr1YfN",
        "outputId": "0f2a0f12-4078-4ed0-acca-a8b4ce947638",
        "colab": {
          "base_uri": "https://localhost:8080/",
          "height": 34
        }
      },
      "source": [
        "# Print out the final result\n",
        "print('Final Portfolio Value: %.2f' % cerebro.broker.getvalue())"
      ],
      "execution_count": 41,
      "outputs": [
        {
          "output_type": "stream",
          "name": "stdout",
          "text": [
            "Final Portfolio Value: 100000.00\n"
          ]
        }
      ]
    },
    {
      "cell_type": "code",
      "metadata": {
        "id": "5R7m-sohA-_U",
        "outputId": "474f58a9-5352-48af-a004-e61216239df7",
        "colab": {
          "base_uri": "https://localhost:8080/",
          "height": 417
        }
      },
      "source": [
        "cerebro.plot()[0][0].savefig('plot.png', dpi=100)\n",
        "display(Image(filename='plot.png'))"
      ],
      "execution_count": 45,
      "outputs": [
        {
          "output_type": "display_data",
          "data": {
            "image/png": "[encoded data removed]",
            "text/plain": [
              "<IPython.core.display.Image object>"
            ]
          },
          "metadata": {}
        }
      ]
    }
  ]
}